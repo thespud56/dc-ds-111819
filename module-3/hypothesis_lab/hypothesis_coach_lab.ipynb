{
 "cells": [
  {
   "cell_type": "markdown",
   "metadata": {},
   "source": [
    "## Goals of Today's Lab:\n",
    "\n",
    "1. A brief recap of hypothesis testing\n",
    "2. Parametric hypothesis testing\n",
    "3. Non-parametric hypothesis testing"
   ]
  },
  {
   "cell_type": "code",
   "execution_count": 7,
   "metadata": {},
   "outputs": [],
   "source": [
    "import numpy as np\n",
    "from scipy import stats\n",
    "import matplotlib.pyplot as plt"
   ]
  },
  {
   "cell_type": "markdown",
   "metadata": {},
   "source": [
    "## Components of a Hypothesis Test\n",
    "\n",
    "They are: \n",
    "\n",
    "- Hypothesis\n",
    "    - Alternative\n",
    "    - Null\n",
    "    \n",
    "-  Test Statistic\n",
    "    - Parameters\n",
    "    \n",
    "- Levels of Significance\n",
    "    - \n",
    "-\n",
    "-\n",
    "  \n",
    "$\\dots$\n",
    "\n",
    "\n"
   ]
  },
  {
   "cell_type": "markdown",
   "metadata": {},
   "source": []
  },
  {
   "cell_type": "markdown",
   "metadata": {},
   "source": [
    "**Which of these are valid null hypotheses:**\n",
    "\n",
    "1. $H_0: \\bar{X} = 0$  \n",
    "   $H_A: \\bar{X} \\neq 0$\n",
    "\n",
    "2. $H_0: \\mu \\leq 34$  \n",
    "   $H_A: \\mu > 34$\n",
    "   \n",
    "3. $H_0: \\text{The mean girth of all Redwood Trees in California} = 225 in.$  \n",
    "   $H_A: \\text{The mean girth of all Redwood Trees in California} < 225 in.$\n",
    "   \n",
    "4. $H_0: \\sigma_1 = \\sigma_2$  \n",
    "   $H_A: \\sigma_1 \\neq \\sigma_2$\n",
    "   \n",
    "5. $H_0: \\text{The sample standard deviation of 2018 SAT test scores} = 50$  \n",
    "   $H_A: \\text{The sample standard deviation of 2018 SAT test scores} > 50$   "
   ]
  },
  {
   "cell_type": "markdown",
   "metadata": {},
   "source": [
    "    Answer: Top and bottom - you cannot state hypothesis on sample data\n"
   ]
  },
  {
   "cell_type": "markdown",
   "metadata": {},
   "source": [
    "### Relating Hypotheses to Errors\n",
    "\n",
    "\n",
    "#### Why is it necessary for the Null Hypothesis to be the hypothesis of no difference?\n",
    "\n",
    "- It represents the \"status-quo\" \n",
    "    - A new drug for a disease \n",
    "- It represents a relevant baseline value\n",
    "    - A new feed that claims to increase cattle weight by 20 lb on average\n",
    "- It represents a value generally true unless proven otherwise\n",
    "    - A person on trial - innocent until proven guilty\n",
    "    \n",
    "    \n",
    "#### How does this translate into Type-I and Type-II errors?\n",
    "\n",
    "Because depending on our hypothesis, our consideration for these errors increases.  \n",
    "It is incrediby hard to control for both errors at the same time; as one decreases, the other increases.\n",
    "\n",
    "This the reason why Type-I error is more serious.  \n",
    "By rejecting the status-quo, we are considering very serious change.\n",
    "\n",
    "<img src=\"img/testing_error.png\" width=\"550\">\n",
    "\n",
    "\n",
    "\n"
   ]
  },
  {
   "cell_type": "markdown",
   "metadata": {},
   "source": [
    "## BUT WHY DO WE CARE SO MUCH ABOUT HYPOTHESIS TESTS??!\n",
    "\n",
    "Hypothesis testing is without doubt, one of the universal concepts of statistical data analysis.     \n",
    "It is central to many statistical methods, including  \n",
    "- analysis of variance\n",
    "- regression analysis\n",
    "- analysis of categorical data, etc.\n",
    "\n",
    "So...\n",
    "\n",
    "<img src=\"img/hypothesis_meme_2.jpg\" width=\"350\">\n",
    "\n",
    "**p-values**\n",
    "\n",
    "A very low p-value signals incompatibility with the null hypothesis.   \n",
    "&nbsp;  \n",
    "When p-values are low, one of two things is true:  \n",
    "(a) either you have just witnessed a rare chance event, or   \n",
    "(b) your null hypothesis is false.\n"
   ]
  },
  {
   "cell_type": "markdown",
   "metadata": {},
   "source": [
    "## Parametric Tests\n",
    "\n",
    "- **Z-Tests (Continuous Data)** - For comparing up to two population means, given standard deviation\n",
    "- **t-Tests** - For comparing up to two population means\n",
    "- **Chi-Squared Tests** - For comparing categorical variables\n",
    "- **F-Test** - For comparing multiple populations\n",
    "- **Z-Test for Proportions** - For comparing population proportions\n",
    "\n",
    "\n",
    "## Non-Parametric Tests\n",
    "\n",
    "- **One-Sample Sign Test** - To compare samples for change before and after a treatment \n",
    "- **Wilcoxon Signed Rank Test** - To compare samples for change before and after a treatment \n",
    "- **The Mann-Kendall Trend Test** - To assess trends in time-series data.\n",
    "- **Mann-Whitney U Test** - To compare two populations\n",
    "- **Kruskal-Wallis Test** - To compare more than two independent populations\n",
    "- **Kolmogorov-Smirnov Test** -To compare probability distributions\n",
    "- **Runs Test** - To test for randomness"
   ]
  },
  {
   "cell_type": "markdown",
   "metadata": {},
   "source": [
    "## Shreya's Hypothesis:\n",
    "\n",
    "<img src=\"img/ice_cream.jpg\" width=\"450\">\n",
    "\n",
    "As an extremely biased person, I strongly believe that more individuals prefer vanilla ice-cream to chocolate ice-cream.  \n",
    "Why, you ask?  \n",
    "Because I don't like chocolate ice-cream so much, while I LOVE vanilla.\n",
    "\n",
    "So, in order to prove my case, I will conduct a hypothesis test.  \n",
    "\n",
    "What will the null and alternative hypotheses look like?"
   ]
  },
  {
   "cell_type": "markdown",
   "metadata": {},
   "source": [
    "$$H_0: \\text{The same or fewer amount of people like vanilla over chocolate}$$\n",
    "$$H_A: \\text{More people like vanilla over chocolate}$$\n",
    "\n",
    "\n",
    "Also, what are my underlying assumptions here?\n",
    "\n",
    "We will write our hypothesis in parametric form.  \n",
    "This is for us to be able to define our test statistic.\n",
    "\n",
    "$$H_0: p(Vanilla) \\leq 0.5$$\n",
    "$$H_A: p(Vanilla) > 0.5$$\n",
    "\n",
    "This parameter looks a lot like something we've already seen before.  \n",
    "What distribution does this follow?\n",
    "\n",
    "Based on this information, how do we compute the test statistic?\n",
    "\n",
    "$$\\text{Test Statistic} = T = \\frac{p - \\text{0.5}}{S.E.(param)}$$"
   ]
  },
  {
   "cell_type": "markdown",
   "metadata": {},
   "source": [
    "**Collecting samples:**  \n",
    "Let's do a quick survey!\n",
    "\n",
    "We will be using [statsmodels](https://www.statsmodels.org/stable/generated/statsmodels.stats.proportion.proportions_ztest.html) for conducting this test."
   ]
  },
  {
   "cell_type": "code",
   "execution_count": 10,
   "metadata": {},
   "outputs": [],
   "source": [
    "from statsmodels.stats.proportion import proportions_ztest\n",
    "\n",
    "count = 13 \n",
    "nobs = 15\n",
    "value = 0.5\n",
    "alt = 'larger'"
   ]
  },
  {
   "cell_type": "code",
   "execution_count": 11,
   "metadata": {},
   "outputs": [
    {
     "name": "stdout",
     "output_type": "stream",
     "text": [
      "The p-value is 0.0000\n",
      "The critical value is 4.1775\n"
     ]
    }
   ],
   "source": [
    "stat, pval = proportions_ztest(count, nobs, value, alternative = alt)\n",
    "print('The p-value is {0:0.4f}'.format(pval))\n",
    "print('The critical value is {0:0.4f}'.format(stat))"
   ]
  },
  {
   "cell_type": "code",
   "execution_count": 12,
   "metadata": {},
   "outputs": [
    {
     "data": {
      "image/png": "[encoded data removed]",
      "text/plain": [
       "<Figure size 1080x720 with 1 Axes>"
      ]
     },
     "metadata": {
      "needs_background": "light"
     },
     "output_type": "display_data"
    }
   ],
   "source": [
    "x_min = -7\n",
    "x_max = 7\n",
    "mean = 0 \n",
    "std = 1\n",
    "\n",
    "x = np.linspace(x_min, x_max, 100)\n",
    "\n",
    "y = stats.norm.pdf(x,mean,std)\n",
    "plt.figure(figsize=(15, 10))\n",
    "plt.plot(x,y, lw = 5, color = 'lightblue')\n",
    "# plt.grid()\n",
    "plt.xlim(x_min,x_max)\n",
    "# plt.ylim(0,0.5)\n",
    "plt.title('Test Region',fontsize=20)\n",
    "plt.axvline(x=1.645, color='red', linestyle='dashed', ymax = 1, lw = 4)\n",
    "plt.axvline(x=stat, color='green', linestyle='dashdot', ymax = 1, lw = 4)\n",
    "plt.xlabel('Z')\n",
    "plt.ylabel('PDF')\n",
    "plt.show()"
   ]
  },
  {
   "cell_type": "markdown",
   "metadata": {},
   "source": [
    "Based on these results, what is the decision?  \n",
    "\n",
    "**Decision Rule:**\n",
    "\n",
    "\n",
    "And what are the conclusions?\n",
    "\n",
    "**Conclusion:**\n",
    "\n"
   ]
  },
  {
   "cell_type": "code",
   "execution_count": null,
   "metadata": {},
   "outputs": [],
   "source": []
  },
  {
   "cell_type": "markdown",
   "metadata": {},
   "source": [
    "## A Non-Parametric Example:\n",
    "\n",
    "Suppose we want to test whether a random variable follows a particular distribution,  \n",
    "\n",
    "We will apply the Kolmogorov-Smirnov Test using [SciPy](https://docs.scipy.org/doc/scipy-0.14.0/reference/generated/scipy.stats.kstest.html).\n",
    "\n",
    "First, let's generate some data:"
   ]
  },
  {
   "cell_type": "code",
   "execution_count": null,
   "metadata": {},
   "outputs": [],
   "source": [
    "from scipy.stats import kstest\n",
    "np.random.seed(987654321)\n",
    "normal_vals = stats.norm.rvs(size=100)"
   ]
  },
  {
   "cell_type": "code",
   "execution_count": null,
   "metadata": {},
   "outputs": [],
   "source": [
    "ks_test_1 = kstest(normal_vals, \"uniform\") # ---> What is the null hypothesis here?\n",
    "print(ks_test_1) "
   ]
  },
  {
   "cell_type": "code",
   "execution_count": null,
   "metadata": {},
   "outputs": [],
   "source": [
    "ks_test_2 = kstest(normal_vals, \"norm\")    \n",
    "print(ks_test_2) "
   ]
  },
  {
   "cell_type": "code",
   "execution_count": null,
   "metadata": {},
   "outputs": [],
   "source": []
  },
  {
   "cell_type": "code",
   "execution_count": null,
   "metadata": {},
   "outputs": [],
   "source": []
  },
  {
   "cell_type": "code",
   "execution_count": null,
   "metadata": {},
   "outputs": [],
   "source": []
  }
 ],
 "metadata": {
  "kernelspec": {
   "display_name": "Python 3",
   "language": "python",
   "name": "python3"
  },
  "language_info": {
   "codemirror_mode": {
    "name": "ipython",
    "version": 3
   },
   "file_extension": ".py",
   "mimetype": "text/x-python",
   "name": "python",
   "nbconvert_exporter": "python",
   "pygments_lexer": "ipython3",
   "version": "3.7.3"
  }
 },
 "nbformat": 4,
 "nbformat_minor": 4
}
