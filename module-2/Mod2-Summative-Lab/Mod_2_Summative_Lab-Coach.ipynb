{
 "cells": [
  {
   "cell_type": "code",
   "execution_count": 1,
   "metadata": {},
   "outputs": [],
   "source": [
    "import sqlite3\n",
    "import pandas as pd\n",
    "import numpy as np"
   ]
  },
  {
   "cell_type": "markdown",
   "metadata": {},
   "source": [
    "Upon completion of this lab, each unique team in this dataset should have a record in the MongoDB instance containing the following information:\n",
    "\n",
    "- The name of the team\n",
    "- The total number of goals scored by the team during the 2011 season\n",
    "- The total number of wins the team earned during the 2011 season\n",
    "- A histogram visualization of the team's wins and losses for the 2011 season (store the visualization directly)\n",
    "- The team's win percentage on days where it was raining during games in the 2011 season."
   ]
  },
  {
   "cell_type": "markdown",
   "metadata": {},
   "source": [
    "# Pull in the Data we need from our SQL Database"
   ]
  },
  {
   "cell_type": "code",
   "execution_count": 2,
   "metadata": {},
   "outputs": [],
   "source": [
    "conn = sqlite3.connect('database.sqlite')\n",
    "c = conn.cursor()"
   ]
  },
  {
   "cell_type": "code",
   "execution_count": 3,
   "metadata": {
    "scrolled": true
   },
   "outputs": [
    {
     "data": {
      "text/plain": [
       "[('sqlite_sequence', 'table'),\n",
       " ('Matches', 'table'),\n",
       " ('sqlite_autoindex_Matches_1', 'index'),\n",
       " ('Teams_in_Matches', 'table'),\n",
       " ('Teams', 'table'),\n",
       " ('Unique_Teams', 'table'),\n",
       " ('FlatView_Chrono_TeamOrder_Reduced', 'view'),\n",
       " ('FlatView_Advanced', 'view'),\n",
       " ('FlatView', 'view')]"
      ]
     },
     "execution_count": 3,
     "metadata": {},
     "output_type": "execute_result"
    }
   ],
   "source": [
    "c.execute('''SELECT name, type FROM sqlite_master\n",
    "''').fetchall()"
   ]
  },
  {
   "cell_type": "code",
   "execution_count": 4,
   "metadata": {},
   "outputs": [
    {
     "data": {
      "text/plain": [
       "[(1, 'D2', 2009, '2010-04-04', 'Oberhausen', 'Kaiserslautern', 2, 1, 'H')]"
      ]
     },
     "execution_count": 4,
     "metadata": {},
     "output_type": "execute_result"
    }
   ],
   "source": [
    "c.execute('''\n",
    "SELECT * FROM Matches\n",
    "LIMIT 1''').fetchall()"
   ]
  },
  {
   "cell_type": "markdown",
   "metadata": {},
   "source": [
    "#### Let's grab all matches from the 2011 season"
   ]
  },
  {
   "cell_type": "code",
   "execution_count": 5,
   "metadata": {},
   "outputs": [
    {
     "data": {
      "text/plain": [
       "<sqlite3.Cursor at 0x11336dce0>"
      ]
     },
     "execution_count": 5,
     "metadata": {},
     "output_type": "execute_result"
    }
   ],
   "source": [
    "c.execute('''\n",
    "SELECT * FROM Matches\n",
    "WHERE Season LIKE '2011'\n",
    "''')"
   ]
  },
  {
   "cell_type": "markdown",
   "metadata": {},
   "source": [
    "## Convert to a pd.DataFrame"
   ]
  },
  {
   "cell_type": "code",
   "execution_count": 6,
   "metadata": {},
   "outputs": [],
   "source": [
    "matches_df = pd.DataFrame(c.fetchall())\n",
    "\n",
    "matches_df.columns = [i[0] for i in c.description]"
   ]
  },
  {
   "cell_type": "code",
   "execution_count": 7,
   "metadata": {},
   "outputs": [
    {
     "data": {
      "text/html": [
       "<div>\n",
       "<style scoped>\n",
       "    .dataframe tbody tr th:only-of-type {\n",
       "        vertical-align: middle;\n",
       "    }\n",
       "\n",
       "    .dataframe tbody tr th {\n",
       "        vertical-align: top;\n",
       "    }\n",
       "\n",
       "    .dataframe thead th {\n",
       "        text-align: right;\n",
       "    }\n",
       "</style>\n",
       "<table border=\"1\" class=\"dataframe\">\n",
       "  <thead>\n",
       "    <tr style=\"text-align: right;\">\n",
       "      <th></th>\n",
       "      <th>Match_ID</th>\n",
       "      <th>Div</th>\n",
       "      <th>Season</th>\n",
       "      <th>Date</th>\n",
       "      <th>HomeTeam</th>\n",
       "      <th>AwayTeam</th>\n",
       "      <th>FTHG</th>\n",
       "      <th>FTAG</th>\n",
       "      <th>FTR</th>\n",
       "    </tr>\n",
       "  </thead>\n",
       "  <tbody>\n",
       "    <tr>\n",
       "      <th>0</th>\n",
       "      <td>1092</td>\n",
       "      <td>D1</td>\n",
       "      <td>2011</td>\n",
       "      <td>2012-03-31</td>\n",
       "      <td>Nurnberg</td>\n",
       "      <td>Bayern Munich</td>\n",
       "      <td>0</td>\n",
       "      <td>1</td>\n",
       "      <td>A</td>\n",
       "    </tr>\n",
       "    <tr>\n",
       "      <th>1</th>\n",
       "      <td>1093</td>\n",
       "      <td>D1</td>\n",
       "      <td>2011</td>\n",
       "      <td>2011-12-11</td>\n",
       "      <td>Stuttgart</td>\n",
       "      <td>Bayern Munich</td>\n",
       "      <td>1</td>\n",
       "      <td>2</td>\n",
       "      <td>A</td>\n",
       "    </tr>\n",
       "    <tr>\n",
       "      <th>2</th>\n",
       "      <td>1094</td>\n",
       "      <td>D1</td>\n",
       "      <td>2011</td>\n",
       "      <td>2011-08-13</td>\n",
       "      <td>Wolfsburg</td>\n",
       "      <td>Bayern Munich</td>\n",
       "      <td>0</td>\n",
       "      <td>1</td>\n",
       "      <td>A</td>\n",
       "    </tr>\n",
       "    <tr>\n",
       "      <th>3</th>\n",
       "      <td>1095</td>\n",
       "      <td>D1</td>\n",
       "      <td>2011</td>\n",
       "      <td>2011-11-27</td>\n",
       "      <td>Mainz</td>\n",
       "      <td>Bayern Munich</td>\n",
       "      <td>3</td>\n",
       "      <td>2</td>\n",
       "      <td>H</td>\n",
       "    </tr>\n",
       "    <tr>\n",
       "      <th>4</th>\n",
       "      <td>1096</td>\n",
       "      <td>D1</td>\n",
       "      <td>2011</td>\n",
       "      <td>2012-02-18</td>\n",
       "      <td>Freiburg</td>\n",
       "      <td>Bayern Munich</td>\n",
       "      <td>0</td>\n",
       "      <td>0</td>\n",
       "      <td>D</td>\n",
       "    </tr>\n",
       "  </tbody>\n",
       "</table>\n",
       "</div>"
      ],
      "text/plain": [
       "   Match_ID Div  Season        Date   HomeTeam       AwayTeam  FTHG  FTAG FTR\n",
       "0      1092  D1    2011  2012-03-31   Nurnberg  Bayern Munich     0     1   A\n",
       "1      1093  D1    2011  2011-12-11  Stuttgart  Bayern Munich     1     2   A\n",
       "2      1094  D1    2011  2011-08-13  Wolfsburg  Bayern Munich     0     1   A\n",
       "3      1095  D1    2011  2011-11-27      Mainz  Bayern Munich     3     2   H\n",
       "4      1096  D1    2011  2012-02-18   Freiburg  Bayern Munich     0     0   D"
      ]
     },
     "execution_count": 7,
     "metadata": {},
     "output_type": "execute_result"
    }
   ],
   "source": [
    "matches_df.head()"
   ]
  },
  {
   "cell_type": "code",
   "execution_count": 8,
   "metadata": {},
   "outputs": [
    {
     "data": {
      "text/plain": [
       "(992, 9)"
      ]
     },
     "execution_count": 8,
     "metadata": {},
     "output_type": "execute_result"
    }
   ],
   "source": [
    "matches_df.shape"
   ]
  },
  {
   "cell_type": "code",
   "execution_count": 9,
   "metadata": {},
   "outputs": [
    {
     "data": {
      "text/plain": [
       "0"
      ]
     },
     "execution_count": 9,
     "metadata": {},
     "output_type": "execute_result"
    }
   ],
   "source": [
    "matches_df.duplicated().sum()"
   ]
  },
  {
   "cell_type": "markdown",
   "metadata": {},
   "source": [
    "#### Let's find the winning team in each match"
   ]
  },
  {
   "cell_type": "code",
   "execution_count": 10,
   "metadata": {},
   "outputs": [],
   "source": [
    "def winning_team(x):\n",
    "    if x['FTR'] == 'D':\n",
    "        return 'Draw'\n",
    "    elif x['FTR'] == 'H':\n",
    "        return x['HomeTeam']\n",
    "    else:\n",
    "        return x['AwayTeam']"
   ]
  },
  {
   "cell_type": "code",
   "execution_count": 11,
   "metadata": {},
   "outputs": [],
   "source": [
    "matches_df['Winner'] = 0"
   ]
  },
  {
   "cell_type": "code",
   "execution_count": 12,
   "metadata": {
    "scrolled": true
   },
   "outputs": [
    {
     "data": {
      "text/plain": [
       "0      Bayern Munich\n",
       "1      Bayern Munich\n",
       "2      Bayern Munich\n",
       "3              Mainz\n",
       "4               Draw\n",
       "5         M'gladbach\n",
       "6               Draw\n",
       "7      Bayern Munich\n",
       "8      Bayern Munich\n",
       "9           Hannover\n",
       "10              Draw\n",
       "11        Leverkusen\n",
       "12     Bayern Munich\n",
       "13     Bayern Munich\n",
       "14     Bayern Munich\n",
       "15     Bayern Munich\n",
       "16          Dortmund\n",
       "17              Draw\n",
       "18          Dortmund\n",
       "19          Dortmund\n",
       "20          Dortmund\n",
       "21        Hoffenheim\n",
       "22              Draw\n",
       "23          Dortmund\n",
       "24              Draw\n",
       "25          Dortmund\n",
       "26          Hannover\n",
       "27          Dortmund\n",
       "28              Draw\n",
       "29          Dortmund\n",
       "           ...      \n",
       "962             Draw\n",
       "963             Draw\n",
       "964            Wigan\n",
       "965          Chelsea\n",
       "966        Tottenham\n",
       "967         Man City\n",
       "968           Fulham\n",
       "969             Draw\n",
       "970        Tottenham\n",
       "971        Newcastle\n",
       "972             Draw\n",
       "973             Draw\n",
       "974             Draw\n",
       "975           Fulham\n",
       "976       Man United\n",
       "977         Man City\n",
       "978              QPR\n",
       "979             Draw\n",
       "980            Wigan\n",
       "981        Liverpool\n",
       "982          Chelsea\n",
       "983          Everton\n",
       "984         Man City\n",
       "985          Norwich\n",
       "986             Draw\n",
       "987       Man United\n",
       "988          Swansea\n",
       "989        Tottenham\n",
       "990          Arsenal\n",
       "991            Wigan\n",
       "Length: 992, dtype: object"
      ]
     },
     "execution_count": 12,
     "metadata": {},
     "output_type": "execute_result"
    }
   ],
   "source": [
    "matches_df.apply(winning_team, axis = 1)"
   ]
  },
  {
   "cell_type": "code",
   "execution_count": 13,
   "metadata": {},
   "outputs": [],
   "source": [
    "matches_df['Winner'] = matches_df.apply(winning_team, axis = 1)"
   ]
  },
  {
   "cell_type": "code",
   "execution_count": 14,
   "metadata": {},
   "outputs": [
    {
     "data": {
      "text/html": [
       "<div>\n",
       "<style scoped>\n",
       "    .dataframe tbody tr th:only-of-type {\n",
       "        vertical-align: middle;\n",
       "    }\n",
       "\n",
       "    .dataframe tbody tr th {\n",
       "        vertical-align: top;\n",
       "    }\n",
       "\n",
       "    .dataframe thead th {\n",
       "        text-align: right;\n",
       "    }\n",
       "</style>\n",
       "<table border=\"1\" class=\"dataframe\">\n",
       "  <thead>\n",
       "    <tr style=\"text-align: right;\">\n",
       "      <th></th>\n",
       "      <th>Match_ID</th>\n",
       "      <th>Div</th>\n",
       "      <th>Season</th>\n",
       "      <th>Date</th>\n",
       "      <th>HomeTeam</th>\n",
       "      <th>AwayTeam</th>\n",
       "      <th>FTHG</th>\n",
       "      <th>FTAG</th>\n",
       "      <th>FTR</th>\n",
       "      <th>Winner</th>\n",
       "    </tr>\n",
       "  </thead>\n",
       "  <tbody>\n",
       "    <tr>\n",
       "      <th>0</th>\n",
       "      <td>1092</td>\n",
       "      <td>D1</td>\n",
       "      <td>2011</td>\n",
       "      <td>2012-03-31</td>\n",
       "      <td>Nurnberg</td>\n",
       "      <td>Bayern Munich</td>\n",
       "      <td>0</td>\n",
       "      <td>1</td>\n",
       "      <td>A</td>\n",
       "      <td>Bayern Munich</td>\n",
       "    </tr>\n",
       "    <tr>\n",
       "      <th>1</th>\n",
       "      <td>1093</td>\n",
       "      <td>D1</td>\n",
       "      <td>2011</td>\n",
       "      <td>2011-12-11</td>\n",
       "      <td>Stuttgart</td>\n",
       "      <td>Bayern Munich</td>\n",
       "      <td>1</td>\n",
       "      <td>2</td>\n",
       "      <td>A</td>\n",
       "      <td>Bayern Munich</td>\n",
       "    </tr>\n",
       "    <tr>\n",
       "      <th>2</th>\n",
       "      <td>1094</td>\n",
       "      <td>D1</td>\n",
       "      <td>2011</td>\n",
       "      <td>2011-08-13</td>\n",
       "      <td>Wolfsburg</td>\n",
       "      <td>Bayern Munich</td>\n",
       "      <td>0</td>\n",
       "      <td>1</td>\n",
       "      <td>A</td>\n",
       "      <td>Bayern Munich</td>\n",
       "    </tr>\n",
       "    <tr>\n",
       "      <th>3</th>\n",
       "      <td>1095</td>\n",
       "      <td>D1</td>\n",
       "      <td>2011</td>\n",
       "      <td>2011-11-27</td>\n",
       "      <td>Mainz</td>\n",
       "      <td>Bayern Munich</td>\n",
       "      <td>3</td>\n",
       "      <td>2</td>\n",
       "      <td>H</td>\n",
       "      <td>Mainz</td>\n",
       "    </tr>\n",
       "    <tr>\n",
       "      <th>4</th>\n",
       "      <td>1096</td>\n",
       "      <td>D1</td>\n",
       "      <td>2011</td>\n",
       "      <td>2012-02-18</td>\n",
       "      <td>Freiburg</td>\n",
       "      <td>Bayern Munich</td>\n",
       "      <td>0</td>\n",
       "      <td>0</td>\n",
       "      <td>D</td>\n",
       "      <td>Draw</td>\n",
       "    </tr>\n",
       "  </tbody>\n",
       "</table>\n",
       "</div>"
      ],
      "text/plain": [
       "   Match_ID Div  Season        Date   HomeTeam       AwayTeam  FTHG  FTAG FTR  \\\n",
       "0      1092  D1    2011  2012-03-31   Nurnberg  Bayern Munich     0     1   A   \n",
       "1      1093  D1    2011  2011-12-11  Stuttgart  Bayern Munich     1     2   A   \n",
       "2      1094  D1    2011  2011-08-13  Wolfsburg  Bayern Munich     0     1   A   \n",
       "3      1095  D1    2011  2011-11-27      Mainz  Bayern Munich     3     2   H   \n",
       "4      1096  D1    2011  2012-02-18   Freiburg  Bayern Munich     0     0   D   \n",
       "\n",
       "          Winner  \n",
       "0  Bayern Munich  \n",
       "1  Bayern Munich  \n",
       "2  Bayern Munich  \n",
       "3          Mainz  \n",
       "4           Draw  "
      ]
     },
     "execution_count": 14,
     "metadata": {},
     "output_type": "execute_result"
    }
   ],
   "source": [
    "matches_df.head()"
   ]
  },
  {
   "cell_type": "markdown",
   "metadata": {},
   "source": [
    "### Setting up away and home win/loss/draw information to use groupby later"
   ]
  },
  {
   "cell_type": "code",
   "execution_count": 15,
   "metadata": {},
   "outputs": [],
   "source": [
    "def away_wins(x):\n",
    "    if x['FTR'] == 'A':\n",
    "        return 1\n",
    "    else:\n",
    "        return 0"
   ]
  },
  {
   "cell_type": "code",
   "execution_count": 16,
   "metadata": {},
   "outputs": [],
   "source": [
    "def home_wins(x):\n",
    "    if x['FTR'] == 'H':\n",
    "        return 1\n",
    "    else:\n",
    "        return 0"
   ]
  },
  {
   "cell_type": "code",
   "execution_count": 17,
   "metadata": {},
   "outputs": [],
   "source": [
    "def draws(x):\n",
    "    if x['FTR'] == 'D':\n",
    "        return 1\n",
    "    else:\n",
    "        return 0"
   ]
  },
  {
   "cell_type": "code",
   "execution_count": 18,
   "metadata": {},
   "outputs": [],
   "source": [
    "def away_losses(x):\n",
    "    if x['FTR'] != 'A' and x['FTR'] != 'D':\n",
    "        return 1\n",
    "    else:\n",
    "        return 0"
   ]
  },
  {
   "cell_type": "code",
   "execution_count": 19,
   "metadata": {},
   "outputs": [],
   "source": [
    "def home_losses(x):\n",
    "    if x['FTR'] != 'H' and x['FTR'] != 'D':\n",
    "        return 1\n",
    "    else:\n",
    "        return 0"
   ]
  },
  {
   "cell_type": "code",
   "execution_count": 20,
   "metadata": {},
   "outputs": [],
   "source": [
    "matches_df['away_wins'] = matches_df.apply(away_wins, axis = 1)\n",
    "\n",
    "matches_df['home_wins'] = matches_df.apply(home_wins, axis = 1)\n",
    "\n",
    "matches_df['draws'] = matches_df.apply(draws, axis = 1)\n",
    "\n",
    "matches_df['away_losses'] = matches_df.apply(away_losses, axis = 1)\n",
    "\n",
    "matches_df['home_losses'] = matches_df.apply(home_losses, axis = 1)"
   ]
  },
  {
   "cell_type": "code",
   "execution_count": 21,
   "metadata": {
    "scrolled": true
   },
   "outputs": [
    {
     "data": {
      "text/html": [
       "<div>\n",
       "<style scoped>\n",
       "    .dataframe tbody tr th:only-of-type {\n",
       "        vertical-align: middle;\n",
       "    }\n",
       "\n",
       "    .dataframe tbody tr th {\n",
       "        vertical-align: top;\n",
       "    }\n",
       "\n",
       "    .dataframe thead th {\n",
       "        text-align: right;\n",
       "    }\n",
       "</style>\n",
       "<table border=\"1\" class=\"dataframe\">\n",
       "  <thead>\n",
       "    <tr style=\"text-align: right;\">\n",
       "      <th></th>\n",
       "      <th>Match_ID</th>\n",
       "      <th>Div</th>\n",
       "      <th>Season</th>\n",
       "      <th>Date</th>\n",
       "      <th>HomeTeam</th>\n",
       "      <th>AwayTeam</th>\n",
       "      <th>FTHG</th>\n",
       "      <th>FTAG</th>\n",
       "      <th>FTR</th>\n",
       "      <th>Winner</th>\n",
       "      <th>away_wins</th>\n",
       "      <th>home_wins</th>\n",
       "      <th>draws</th>\n",
       "      <th>away_losses</th>\n",
       "      <th>home_losses</th>\n",
       "    </tr>\n",
       "  </thead>\n",
       "  <tbody>\n",
       "    <tr>\n",
       "      <th>0</th>\n",
       "      <td>1092</td>\n",
       "      <td>D1</td>\n",
       "      <td>2011</td>\n",
       "      <td>2012-03-31</td>\n",
       "      <td>Nurnberg</td>\n",
       "      <td>Bayern Munich</td>\n",
       "      <td>0</td>\n",
       "      <td>1</td>\n",
       "      <td>A</td>\n",
       "      <td>Bayern Munich</td>\n",
       "      <td>1</td>\n",
       "      <td>0</td>\n",
       "      <td>0</td>\n",
       "      <td>0</td>\n",
       "      <td>1</td>\n",
       "    </tr>\n",
       "    <tr>\n",
       "      <th>1</th>\n",
       "      <td>1093</td>\n",
       "      <td>D1</td>\n",
       "      <td>2011</td>\n",
       "      <td>2011-12-11</td>\n",
       "      <td>Stuttgart</td>\n",
       "      <td>Bayern Munich</td>\n",
       "      <td>1</td>\n",
       "      <td>2</td>\n",
       "      <td>A</td>\n",
       "      <td>Bayern Munich</td>\n",
       "      <td>1</td>\n",
       "      <td>0</td>\n",
       "      <td>0</td>\n",
       "      <td>0</td>\n",
       "      <td>1</td>\n",
       "    </tr>\n",
       "    <tr>\n",
       "      <th>2</th>\n",
       "      <td>1094</td>\n",
       "      <td>D1</td>\n",
       "      <td>2011</td>\n",
       "      <td>2011-08-13</td>\n",
       "      <td>Wolfsburg</td>\n",
       "      <td>Bayern Munich</td>\n",
       "      <td>0</td>\n",
       "      <td>1</td>\n",
       "      <td>A</td>\n",
       "      <td>Bayern Munich</td>\n",
       "      <td>1</td>\n",
       "      <td>0</td>\n",
       "      <td>0</td>\n",
       "      <td>0</td>\n",
       "      <td>1</td>\n",
       "    </tr>\n",
       "    <tr>\n",
       "      <th>3</th>\n",
       "      <td>1095</td>\n",
       "      <td>D1</td>\n",
       "      <td>2011</td>\n",
       "      <td>2011-11-27</td>\n",
       "      <td>Mainz</td>\n",
       "      <td>Bayern Munich</td>\n",
       "      <td>3</td>\n",
       "      <td>2</td>\n",
       "      <td>H</td>\n",
       "      <td>Mainz</td>\n",
       "      <td>0</td>\n",
       "      <td>1</td>\n",
       "      <td>0</td>\n",
       "      <td>1</td>\n",
       "      <td>0</td>\n",
       "    </tr>\n",
       "    <tr>\n",
       "      <th>4</th>\n",
       "      <td>1096</td>\n",
       "      <td>D1</td>\n",
       "      <td>2011</td>\n",
       "      <td>2012-02-18</td>\n",
       "      <td>Freiburg</td>\n",
       "      <td>Bayern Munich</td>\n",
       "      <td>0</td>\n",
       "      <td>0</td>\n",
       "      <td>D</td>\n",
       "      <td>Draw</td>\n",
       "      <td>0</td>\n",
       "      <td>0</td>\n",
       "      <td>1</td>\n",
       "      <td>0</td>\n",
       "      <td>0</td>\n",
       "    </tr>\n",
       "  </tbody>\n",
       "</table>\n",
       "</div>"
      ],
      "text/plain": [
       "   Match_ID Div  Season        Date   HomeTeam       AwayTeam  FTHG  FTAG FTR  \\\n",
       "0      1092  D1    2011  2012-03-31   Nurnberg  Bayern Munich     0     1   A   \n",
       "1      1093  D1    2011  2011-12-11  Stuttgart  Bayern Munich     1     2   A   \n",
       "2      1094  D1    2011  2011-08-13  Wolfsburg  Bayern Munich     0     1   A   \n",
       "3      1095  D1    2011  2011-11-27      Mainz  Bayern Munich     3     2   H   \n",
       "4      1096  D1    2011  2012-02-18   Freiburg  Bayern Munich     0     0   D   \n",
       "\n",
       "          Winner  away_wins  home_wins  draws  away_losses  home_losses  \n",
       "0  Bayern Munich          1          0      0            0            1  \n",
       "1  Bayern Munich          1          0      0            0            1  \n",
       "2  Bayern Munich          1          0      0            0            1  \n",
       "3          Mainz          0          1      0            1            0  \n",
       "4           Draw          0          0      1            0            0  "
      ]
     },
     "execution_count": 21,
     "metadata": {},
     "output_type": "execute_result"
    }
   ],
   "source": [
    "matches_df.head()"
   ]
  },
  {
   "cell_type": "markdown",
   "metadata": {},
   "source": [
    "### Let's check if our groupby now works to get the total wins, draws, and losses for each team "
   ]
  },
  {
   "cell_type": "code",
   "execution_count": 22,
   "metadata": {
    "scrolled": true
   },
   "outputs": [
    {
     "data": {
      "text/plain": [
       "home_wins      12\n",
       "draws           4\n",
       "home_losses     3\n",
       "Name: Arsenal, dtype: int64"
      ]
     },
     "execution_count": 22,
     "metadata": {},
     "output_type": "execute_result"
    }
   ],
   "source": [
    "# Wins and draws at HOME per team\n",
    "\n",
    "matches_df.groupby(['HomeTeam'])[['home_wins', 'draws', 'home_losses']].sum().loc['Arsenal', :]"
   ]
  },
  {
   "cell_type": "code",
   "execution_count": 23,
   "metadata": {
    "scrolled": true
   },
   "outputs": [
    {
     "data": {
      "text/plain": [
       "away_wins      9\n",
       "draws          3\n",
       "away_losses    7\n",
       "Name: Arsenal, dtype: int64"
      ]
     },
     "execution_count": 23,
     "metadata": {},
     "output_type": "execute_result"
    }
   ],
   "source": [
    "# Wins and draws AWAY per team\n",
    "\n",
    "matches_df.groupby(['AwayTeam'])[['away_wins', 'draws', 'away_losses']].sum().loc['Arsenal', :]"
   ]
  },
  {
   "cell_type": "markdown",
   "metadata": {},
   "source": [
    "### We can make sure our numbers are correct. I will use Arsenal's record as a check"
   ]
  },
  {
   "cell_type": "markdown",
   "metadata": {},
   "source": [
    "#### According to our groupbys Arsenal played 19 home games, and 19 away games"
   ]
  },
  {
   "cell_type": "code",
   "execution_count": 24,
   "metadata": {
    "scrolled": true
   },
   "outputs": [
    {
     "data": {
      "text/plain": [
       "19"
      ]
     },
     "execution_count": 24,
     "metadata": {},
     "output_type": "execute_result"
    }
   ],
   "source": [
    "# total home games played\n",
    "\n",
    "matches_df.groupby(['HomeTeam'])['home_wins'].count()['Arsenal']"
   ]
  },
  {
   "cell_type": "code",
   "execution_count": 25,
   "metadata": {
    "scrolled": true
   },
   "outputs": [
    {
     "data": {
      "text/plain": [
       "19"
      ]
     },
     "execution_count": 25,
     "metadata": {},
     "output_type": "execute_result"
    }
   ],
   "source": [
    "# Total away games played\n",
    "\n",
    "matches_df.groupby(['AwayTeam'])['away_wins'].count()['Arsenal']"
   ]
  },
  {
   "cell_type": "markdown",
   "metadata": {},
   "source": [
    "#### They had 12 wins and 4 draws at home, which leaves them with a 12 - 4 - 3 record\n",
    "#### They had 9 wins and 3 draws away, which leaves them with a 9-3-7 record\n",
    "#### Adding these up gives a 21-7-10 record which is correct based on a Google search of Arsenal's 2011-2012 record"
   ]
  },
  {
   "cell_type": "markdown",
   "metadata": {},
   "source": [
    "## Groupby to calculate home and away losses"
   ]
  },
  {
   "cell_type": "code",
   "execution_count": 26,
   "metadata": {
    "scrolled": true
   },
   "outputs": [
    {
     "data": {
      "text/plain": [
       "HomeTeam\n",
       "Aachen                 7\n",
       "Arsenal                3\n",
       "Aston Villa            8\n",
       "Augsburg               4\n",
       "Bayern Munich          2\n",
       "Blackburn             12\n",
       "Bochum                 7\n",
       "Bolton                11\n",
       "Braunschweig           3\n",
       "Chelsea                4\n",
       "Cottbus                5\n",
       "Dortmund               1\n",
       "Dresden                4\n",
       "Duisburg               7\n",
       "Ein Frankfurt          1\n",
       "Erzgebirge Aue         5\n",
       "Everton                6\n",
       "FC Koln                8\n",
       "Fortuna Dusseldorf     1\n",
       "Frankfurt FSV          4\n",
       "Freiburg               5\n",
       "Fulham                 4\n",
       "Greuther Furth         2\n",
       "Hamburg                7\n",
       "Hannover               0\n",
       "Hansa Rostock          7\n",
       "Hertha                10\n",
       "Hoffenheim             4\n",
       "Ingolstadt             3\n",
       "Kaiserslautern        10\n",
       "Karlsruhe              6\n",
       "Leverkusen             5\n",
       "Liverpool              4\n",
       "M'gladbach             1\n",
       "Mainz                  7\n",
       "Man City               0\n",
       "Man United             2\n",
       "Munich 1860            5\n",
       "Newcastle              3\n",
       "Norwich                6\n",
       "Nurnberg               7\n",
       "Paderborn              2\n",
       "QPR                    7\n",
       "Schalke 04             3\n",
       "St Pauli               2\n",
       "Stoke                  4\n",
       "Stuttgart              4\n",
       "Sunderland             5\n",
       "Swansea                4\n",
       "Tottenham              3\n",
       "Union Berlin           4\n",
       "Werder Bremen          5\n",
       "West Brom             10\n",
       "Wigan                  7\n",
       "Wolfsburg              5\n",
       "Wolves                13\n",
       "dtype: int64"
      ]
     },
     "execution_count": 26,
     "metadata": {},
     "output_type": "execute_result"
    }
   ],
   "source": [
    "matches_df.groupby(['HomeTeam'])['home_wins'].count() - (matches_df.groupby(['HomeTeam'])['home_wins'].sum() + \n",
    "                                                         matches_df.groupby(['HomeTeam'])['draws'].sum())"
   ]
  },
  {
   "cell_type": "code",
   "execution_count": 27,
   "metadata": {
    "scrolled": true
   },
   "outputs": [
    {
     "data": {
      "text/plain": [
       "AwayTeam\n",
       "Aachen                 8\n",
       "Arsenal                7\n",
       "Aston Villa            6\n",
       "Augsburg               8\n",
       "Bayern Munich          5\n",
       "Blackburn             11\n",
       "Bochum                10\n",
       "Bolton                11\n",
       "Braunschweig           6\n",
       "Chelsea                6\n",
       "Cottbus               10\n",
       "Dortmund               2\n",
       "Dresden                9\n",
       "Duisburg               8\n",
       "Ein Frankfurt          5\n",
       "Erzgebirge Aue        10\n",
       "Everton                6\n",
       "FC Koln               12\n",
       "Fortuna Dusseldorf     3\n",
       "Frankfurt FSV          9\n",
       "Freiburg               9\n",
       "Fulham                10\n",
       "Greuther Furth         2\n",
       "Hamburg                7\n",
       "Hannover              10\n",
       "Hansa Rostock         10\n",
       "Hertha                 7\n",
       "Hoffenheim             9\n",
       "Ingolstadt            10\n",
       "Kaiserslautern         9\n",
       "Karlsruhe             13\n",
       "Leverkusen             5\n",
       "Liverpool             10\n",
       "M'gladbach             7\n",
       "Mainz                  6\n",
       "Man City               5\n",
       "Man United             3\n",
       "Munich 1860            6\n",
       "Newcastle              8\n",
       "Norwich                9\n",
       "Nurnberg               9\n",
       "Paderborn              5\n",
       "QPR                   14\n",
       "Schalke 04             7\n",
       "St Pauli               6\n",
       "Stoke                 11\n",
       "Stuttgart              7\n",
       "Sunderland            10\n",
       "Swansea               11\n",
       "Tottenham              6\n",
       "Union Berlin          10\n",
       "Werder Bremen          9\n",
       "West Brom              7\n",
       "Wigan                 10\n",
       "Wolfsburg             11\n",
       "Wolves                10\n",
       "dtype: int64"
      ]
     },
     "execution_count": 27,
     "metadata": {},
     "output_type": "execute_result"
    }
   ],
   "source": [
    "matches_df.groupby(['AwayTeam'])['away_wins'].count() - (matches_df.groupby(['AwayTeam'])['away_wins'].sum() + \n",
    "                                                         matches_df.groupby(['AwayTeam'])['draws'].sum())"
   ]
  },
  {
   "cell_type": "markdown",
   "metadata": {},
   "source": [
    "# Grabbing data from our API. We need to add rain data before aggregating"
   ]
  },
  {
   "cell_type": "code",
   "execution_count": 28,
   "metadata": {},
   "outputs": [],
   "source": [
    "import requests\n",
    "import time\n",
    "from datetime import datetime"
   ]
  },
  {
   "cell_type": "markdown",
   "metadata": {},
   "source": [
    "Berlin lat/long 52.5200° N, 13.4050° E"
   ]
  },
  {
   "cell_type": "code",
   "execution_count": 32,
   "metadata": {},
   "outputs": [],
   "source": [
    "ds_api_key = '3fb6606e10a49a6e2b536abeaaee6ff1'"
   ]
  },
  {
   "cell_type": "markdown",
   "metadata": {},
   "source": [
    "Unneeded info\n",
    "\n",
    "currently\n",
    "minutely\n",
    "hourly\n",
    "alerts\n",
    "flags"
   ]
  },
  {
   "cell_type": "code",
   "execution_count": 33,
   "metadata": {},
   "outputs": [],
   "source": [
    "req = requests.api.get(\n",
    "    f'https://api.darksky.net/forecast/{ds_api_key}/52.52,13.405,2018-05-13T10:00:00?exclude=hourly')"
   ]
  },
  {
   "cell_type": "code",
   "execution_count": 34,
   "metadata": {
    "scrolled": true
   },
   "outputs": [
    {
     "data": {
      "text/plain": [
       "{'latitude': 52.52,\n",
       " 'longitude': 13.405,\n",
       " 'timezone': 'Europe/Berlin',\n",
       " 'currently': {'time': 1526198400,\n",
       "  'precipIntensity': 0,\n",
       "  'precipProbability': 0,\n",
       "  'temperature': 73.04,\n",
       "  'apparentTemperature': 73.04,\n",
       "  'dewPoint': 54.83,\n",
       "  'humidity': 0.53,\n",
       "  'windSpeed': 5.25,\n",
       "  'windGust': 9.26,\n",
       "  'windBearing': 73,\n",
       "  'visibility': 6.216},\n",
       " 'daily': {'data': [{'time': 1526162400,\n",
       "    'sunriseTime': 1526181300,\n",
       "    'sunsetTime': 1526237640,\n",
       "    'moonPhase': 0.94,\n",
       "    'precipIntensity': 0,\n",
       "    'precipIntensityMax': 0,\n",
       "    'precipProbability': 0,\n",
       "    'temperatureHigh': 81.37,\n",
       "    'temperatureHighTime': 1526219880,\n",
       "    'temperatureLow': 57.97,\n",
       "    'temperatureLowTime': 1526269680,\n",
       "    'apparentTemperatureHigh': 80.87,\n",
       "    'apparentTemperatureHighTime': 1526219880,\n",
       "    'apparentTemperatureLow': 58.46,\n",
       "    'apparentTemperatureLowTime': 1526269680,\n",
       "    'dewPoint': 50.12,\n",
       "    'humidity': 0.55,\n",
       "    'windSpeed': 6.51,\n",
       "    'windGust': 23.88,\n",
       "    'windGustTime': 1526212800,\n",
       "    'windBearing': 72,\n",
       "    'uvIndex': 0,\n",
       "    'uvIndexTime': 1526184000,\n",
       "    'visibility': 6.198,\n",
       "    'temperatureMin': 57.48,\n",
       "    'temperatureMinTime': 1526180160,\n",
       "    'temperatureMax': 81.37,\n",
       "    'temperatureMaxTime': 1526219880,\n",
       "    'apparentTemperatureMin': 57.97,\n",
       "    'apparentTemperatureMinTime': 1526180160,\n",
       "    'apparentTemperatureMax': 80.87,\n",
       "    'apparentTemperatureMaxTime': 1526219880}]},\n",
       " 'flags': {'sources': ['cmc', 'gfs', 'icon', 'isd', 'madis'],\n",
       "  'nearest-station': 1.219,\n",
       "  'units': 'us'},\n",
       " 'offset': 2}"
      ]
     },
     "execution_count": 34,
     "metadata": {},
     "output_type": "execute_result"
    }
   ],
   "source": [
    "req.json()"
   ]
  },
  {
   "cell_type": "code",
   "execution_count": 35,
   "metadata": {},
   "outputs": [
    {
     "data": {
      "text/plain": [
       "0"
      ]
     },
     "execution_count": 35,
     "metadata": {},
     "output_type": "execute_result"
    }
   ],
   "source": [
    "req.json()['daily']['data'][0]['precipIntensityMax']"
   ]
  },
  {
   "cell_type": "code",
   "execution_count": 36,
   "metadata": {
    "scrolled": true
   },
   "outputs": [
    {
     "data": {
      "text/plain": [
       "array(['2012-03-31', '2011-12-11', '2011-08-13', '2011-11-27',\n",
       "       '2012-02-18', '2012-01-20', '2012-02-04', '2012-04-21',\n",
       "       '2011-09-18', '2011-10-23', '2011-10-01', '2012-03-03',\n",
       "       '2011-08-27', '2012-03-17', '2011-11-06', '2012-05-05',\n",
       "       '2012-04-11', '2011-12-17', '2012-02-03', '2011-10-29',\n",
       "       '2012-01-22', '2011-12-03', '2012-04-14', '2012-03-25',\n",
       "       '2012-03-10', '2012-04-07', '2011-11-19', '2011-10-14',\n",
       "       '2011-09-24', '2012-04-28', '2011-12-18', '2012-03-02',\n",
       "       '2012-03-16', '2012-02-17', '2011-08-06', '2011-11-04',\n",
       "       '2011-09-16', '2011-07-15', '2012-05-06', '2012-02-11',\n",
       "       '2011-10-02', '2012-03-30', '2011-10-22', '2011-08-26',\n",
       "       '2011-08-07', '2012-02-24', '2011-07-17', '2012-02-12',\n",
       "       '2011-08-22', '2011-09-09', '2012-04-01', '2011-09-25',\n",
       "       '2012-04-20', '2011-11-25', '2012-03-09', '2011-11-07',\n",
       "       '2011-09-10', '2011-08-21', '2011-09-26', '2012-03-26',\n",
       "       '2011-10-30', '2012-02-13', '2012-02-26', '2011-12-19',\n",
       "       '2012-03-11', '2011-11-26', '2012-04-23', '2011-12-16',\n",
       "       '2011-11-05', '2012-04-10', '2012-04-15', '2012-02-05',\n",
       "       '2012-03-04', '2011-09-17', '2012-01-21', '2012-03-18',\n",
       "       '2012-04-22', '2011-08-20', '2012-02-10', '2012-02-25',\n",
       "       '2011-12-10', '2012-01-29', '2011-10-16', '2011-08-05',\n",
       "       '2012-03-23', '2011-09-23', '2012-01-28', '2011-10-15',\n",
       "       '2012-03-24', '2011-11-18', '2012-04-29', '2011-12-09',\n",
       "       '2012-04-08', '2012-03-12', '2011-07-23', '2011-10-28',\n",
       "       '2012-01-27', '2011-12-04', '2011-09-11', '2011-09-30',\n",
       "       '2012-02-19', '2012-04-13', '2011-10-21', '2011-08-14',\n",
       "       '2011-09-12', '2011-07-18', '2011-08-08', '2011-07-24',\n",
       "       '2011-12-13', '2011-08-28', '2011-08-19', '2012-03-14',\n",
       "       '2011-08-12', '2012-03-05', '2011-12-02', '2011-09-19',\n",
       "       '2011-07-25', '2012-04-02', '2012-02-06', '2011-11-21',\n",
       "       '2011-07-22', '2011-08-29', '2012-04-05', '2011-11-28',\n",
       "       '2011-12-12', '2011-11-20', '2012-02-27', '2011-07-16',\n",
       "       '2011-10-31', '2012-02-20', '2011-10-17', '2011-12-05',\n",
       "       '2012-04-16', '2011-10-03', '2012-03-19', '2011-08-15',\n",
       "       '2011-12-20', '2011-12-21', '2011-12-22', '2011-12-26',\n",
       "       '2011-12-27', '2011-12-30', '2011-12-31', '2012-01-01',\n",
       "       '2012-01-02', '2012-01-03', '2012-01-04', '2012-01-11',\n",
       "       '2012-01-14', '2012-01-15', '2012-01-16', '2012-01-31',\n",
       "       '2012-02-01', '2012-03-13', '2012-03-20', '2012-03-21',\n",
       "       '2012-04-06', '2012-04-09', '2012-04-24', '2012-04-30',\n",
       "       '2012-05-01', '2012-05-02', '2012-05-07', '2012-05-08',\n",
       "       '2012-05-13'], dtype=object)"
      ]
     },
     "execution_count": 36,
     "metadata": {},
     "output_type": "execute_result"
    }
   ],
   "source": [
    "matches_df['Date'].unique()"
   ]
  },
  {
   "cell_type": "markdown",
   "metadata": {},
   "source": [
    "### Check our API request count"
   ]
  },
  {
   "cell_type": "code",
   "execution_count": 37,
   "metadata": {
    "scrolled": true
   },
   "outputs": [
    {
     "data": {
      "text/plain": [
       "165"
      ]
     },
     "execution_count": 37,
     "metadata": {},
     "output_type": "execute_result"
    }
   ],
   "source": [
    "matches_df['Date'].nunique()"
   ]
  },
  {
   "cell_type": "markdown",
   "metadata": {},
   "source": [
    "### Write API Request function. We are just populating a list with precipIntensityMax for each day. If it's > 0, we will keep that as a rainy day. 0 is non-rainy"
   ]
  },
  {
   "cell_type": "code",
   "execution_count": 38,
   "metadata": {},
   "outputs": [],
   "source": [
    "def grab_precip_info(ds_api_key, date_list):\n",
    "    output_list = []\n",
    "    for date in date_list:\n",
    "        req = requests.api.get(\n",
    "            f'https://api.darksky.net/forecast/{ds_api_key}/52.52,13.405,{date}T10:00:00?exclude=hourly')\n",
    "        output_list.append(req.json()['daily']['data'][0]['precipIntensityMax'])\n",
    "    return output_list"
   ]
  },
  {
   "cell_type": "markdown",
   "metadata": {},
   "source": [
    "#### Run our function and set variable to our list"
   ]
  },
  {
   "cell_type": "code",
   "execution_count": 39,
   "metadata": {},
   "outputs": [],
   "source": [
    "rain_on_date = grab_precip_info(ds_api_key, matches_df['Date'].unique())"
   ]
  },
  {
   "cell_type": "markdown",
   "metadata": {},
   "source": [
    "### Create a rain df with unique IDs (we will join this with our main df)"
   ]
  },
  {
   "cell_type": "code",
   "execution_count": 40,
   "metadata": {
    "scrolled": true
   },
   "outputs": [],
   "source": [
    "rain_df = pd.DataFrame(rain_on_date, matches_df['Date'].unique())\n",
    "\n",
    "rain_df = rain_df.rename(columns = {0 : 'rainfall'})"
   ]
  },
  {
   "cell_type": "code",
   "execution_count": 41,
   "metadata": {},
   "outputs": [
    {
     "data": {
      "text/html": [
       "<div>\n",
       "<style scoped>\n",
       "    .dataframe tbody tr th:only-of-type {\n",
       "        vertical-align: middle;\n",
       "    }\n",
       "\n",
       "    .dataframe tbody tr th {\n",
       "        vertical-align: top;\n",
       "    }\n",
       "\n",
       "    .dataframe thead th {\n",
       "        text-align: right;\n",
       "    }\n",
       "</style>\n",
       "<table border=\"1\" class=\"dataframe\">\n",
       "  <thead>\n",
       "    <tr style=\"text-align: right;\">\n",
       "      <th></th>\n",
       "      <th>rainfall</th>\n",
       "    </tr>\n",
       "  </thead>\n",
       "  <tbody>\n",
       "    <tr>\n",
       "      <th>2012-03-31</th>\n",
       "      <td>0.0049</td>\n",
       "    </tr>\n",
       "    <tr>\n",
       "      <th>2011-12-11</th>\n",
       "      <td>0.0000</td>\n",
       "    </tr>\n",
       "    <tr>\n",
       "      <th>2011-08-13</th>\n",
       "      <td>0.0000</td>\n",
       "    </tr>\n",
       "    <tr>\n",
       "      <th>2011-11-27</th>\n",
       "      <td>0.0000</td>\n",
       "    </tr>\n",
       "    <tr>\n",
       "      <th>2012-02-18</th>\n",
       "      <td>0.0000</td>\n",
       "    </tr>\n",
       "  </tbody>\n",
       "</table>\n",
       "</div>"
      ],
      "text/plain": [
       "            rainfall\n",
       "2012-03-31    0.0049\n",
       "2011-12-11    0.0000\n",
       "2011-08-13    0.0000\n",
       "2011-11-27    0.0000\n",
       "2012-02-18    0.0000"
      ]
     },
     "execution_count": 41,
     "metadata": {},
     "output_type": "execute_result"
    }
   ],
   "source": [
    "rain_df.head()"
   ]
  },
  {
   "cell_type": "markdown",
   "metadata": {},
   "source": [
    "### Set our matches_df index as date and join our tables"
   ]
  },
  {
   "cell_type": "code",
   "execution_count": 42,
   "metadata": {},
   "outputs": [],
   "source": [
    "matches_df = matches_df.set_index('Date')"
   ]
  },
  {
   "cell_type": "code",
   "execution_count": 43,
   "metadata": {
    "scrolled": true
   },
   "outputs": [],
   "source": [
    "matches_rainfall_df = matches_df.join(rain_df, on = matches_df.index)"
   ]
  },
  {
   "cell_type": "code",
   "execution_count": 44,
   "metadata": {},
   "outputs": [
    {
     "data": {
      "text/html": [
       "<div>\n",
       "<style scoped>\n",
       "    .dataframe tbody tr th:only-of-type {\n",
       "        vertical-align: middle;\n",
       "    }\n",
       "\n",
       "    .dataframe tbody tr th {\n",
       "        vertical-align: top;\n",
       "    }\n",
       "\n",
       "    .dataframe thead th {\n",
       "        text-align: right;\n",
       "    }\n",
       "</style>\n",
       "<table border=\"1\" class=\"dataframe\">\n",
       "  <thead>\n",
       "    <tr style=\"text-align: right;\">\n",
       "      <th></th>\n",
       "      <th>Match_ID</th>\n",
       "      <th>Div</th>\n",
       "      <th>Season</th>\n",
       "      <th>HomeTeam</th>\n",
       "      <th>AwayTeam</th>\n",
       "      <th>FTHG</th>\n",
       "      <th>FTAG</th>\n",
       "      <th>FTR</th>\n",
       "      <th>Winner</th>\n",
       "      <th>away_wins</th>\n",
       "      <th>home_wins</th>\n",
       "      <th>draws</th>\n",
       "      <th>away_losses</th>\n",
       "      <th>home_losses</th>\n",
       "      <th>rainfall</th>\n",
       "    </tr>\n",
       "    <tr>\n",
       "      <th>Date</th>\n",
       "      <th></th>\n",
       "      <th></th>\n",
       "      <th></th>\n",
       "      <th></th>\n",
       "      <th></th>\n",
       "      <th></th>\n",
       "      <th></th>\n",
       "      <th></th>\n",
       "      <th></th>\n",
       "      <th></th>\n",
       "      <th></th>\n",
       "      <th></th>\n",
       "      <th></th>\n",
       "      <th></th>\n",
       "      <th></th>\n",
       "    </tr>\n",
       "  </thead>\n",
       "  <tbody>\n",
       "    <tr>\n",
       "      <th>2012-03-31</th>\n",
       "      <td>1092</td>\n",
       "      <td>D1</td>\n",
       "      <td>2011</td>\n",
       "      <td>Nurnberg</td>\n",
       "      <td>Bayern Munich</td>\n",
       "      <td>0</td>\n",
       "      <td>1</td>\n",
       "      <td>A</td>\n",
       "      <td>Bayern Munich</td>\n",
       "      <td>1</td>\n",
       "      <td>0</td>\n",
       "      <td>0</td>\n",
       "      <td>0</td>\n",
       "      <td>1</td>\n",
       "      <td>0.0049</td>\n",
       "    </tr>\n",
       "    <tr>\n",
       "      <th>2011-12-11</th>\n",
       "      <td>1093</td>\n",
       "      <td>D1</td>\n",
       "      <td>2011</td>\n",
       "      <td>Stuttgart</td>\n",
       "      <td>Bayern Munich</td>\n",
       "      <td>1</td>\n",
       "      <td>2</td>\n",
       "      <td>A</td>\n",
       "      <td>Bayern Munich</td>\n",
       "      <td>1</td>\n",
       "      <td>0</td>\n",
       "      <td>0</td>\n",
       "      <td>0</td>\n",
       "      <td>1</td>\n",
       "      <td>0.0000</td>\n",
       "    </tr>\n",
       "    <tr>\n",
       "      <th>2011-08-13</th>\n",
       "      <td>1094</td>\n",
       "      <td>D1</td>\n",
       "      <td>2011</td>\n",
       "      <td>Wolfsburg</td>\n",
       "      <td>Bayern Munich</td>\n",
       "      <td>0</td>\n",
       "      <td>1</td>\n",
       "      <td>A</td>\n",
       "      <td>Bayern Munich</td>\n",
       "      <td>1</td>\n",
       "      <td>0</td>\n",
       "      <td>0</td>\n",
       "      <td>0</td>\n",
       "      <td>1</td>\n",
       "      <td>0.0000</td>\n",
       "    </tr>\n",
       "    <tr>\n",
       "      <th>2011-11-27</th>\n",
       "      <td>1095</td>\n",
       "      <td>D1</td>\n",
       "      <td>2011</td>\n",
       "      <td>Mainz</td>\n",
       "      <td>Bayern Munich</td>\n",
       "      <td>3</td>\n",
       "      <td>2</td>\n",
       "      <td>H</td>\n",
       "      <td>Mainz</td>\n",
       "      <td>0</td>\n",
       "      <td>1</td>\n",
       "      <td>0</td>\n",
       "      <td>1</td>\n",
       "      <td>0</td>\n",
       "      <td>0.0000</td>\n",
       "    </tr>\n",
       "    <tr>\n",
       "      <th>2012-02-18</th>\n",
       "      <td>1096</td>\n",
       "      <td>D1</td>\n",
       "      <td>2011</td>\n",
       "      <td>Freiburg</td>\n",
       "      <td>Bayern Munich</td>\n",
       "      <td>0</td>\n",
       "      <td>0</td>\n",
       "      <td>D</td>\n",
       "      <td>Draw</td>\n",
       "      <td>0</td>\n",
       "      <td>0</td>\n",
       "      <td>1</td>\n",
       "      <td>0</td>\n",
       "      <td>0</td>\n",
       "      <td>0.0000</td>\n",
       "    </tr>\n",
       "  </tbody>\n",
       "</table>\n",
       "</div>"
      ],
      "text/plain": [
       "            Match_ID Div  Season   HomeTeam       AwayTeam  FTHG  FTAG FTR  \\\n",
       "Date                                                                         \n",
       "2012-03-31      1092  D1    2011   Nurnberg  Bayern Munich     0     1   A   \n",
       "2011-12-11      1093  D1    2011  Stuttgart  Bayern Munich     1     2   A   \n",
       "2011-08-13      1094  D1    2011  Wolfsburg  Bayern Munich     0     1   A   \n",
       "2011-11-27      1095  D1    2011      Mainz  Bayern Munich     3     2   H   \n",
       "2012-02-18      1096  D1    2011   Freiburg  Bayern Munich     0     0   D   \n",
       "\n",
       "                   Winner  away_wins  home_wins  draws  away_losses  \\\n",
       "Date                                                                  \n",
       "2012-03-31  Bayern Munich          1          0      0            0   \n",
       "2011-12-11  Bayern Munich          1          0      0            0   \n",
       "2011-08-13  Bayern Munich          1          0      0            0   \n",
       "2011-11-27          Mainz          0          1      0            1   \n",
       "2012-02-18           Draw          0          0      1            0   \n",
       "\n",
       "            home_losses  rainfall  \n",
       "Date                               \n",
       "2012-03-31            1    0.0049  \n",
       "2011-12-11            1    0.0000  \n",
       "2011-08-13            1    0.0000  \n",
       "2011-11-27            0    0.0000  \n",
       "2012-02-18            0    0.0000  "
      ]
     },
     "execution_count": 44,
     "metadata": {},
     "output_type": "execute_result"
    }
   ],
   "source": [
    "matches_rainfall_df.head()"
   ]
  },
  {
   "cell_type": "markdown",
   "metadata": {},
   "source": [
    "#### Check that our merge worked properly. Every 2011-01-15 match is getting the same rainfall number"
   ]
  },
  {
   "cell_type": "code",
   "execution_count": 45,
   "metadata": {
    "scrolled": true
   },
   "outputs": [
    {
     "data": {
      "text/html": [
       "<div>\n",
       "<style scoped>\n",
       "    .dataframe tbody tr th:only-of-type {\n",
       "        vertical-align: middle;\n",
       "    }\n",
       "\n",
       "    .dataframe tbody tr th {\n",
       "        vertical-align: top;\n",
       "    }\n",
       "\n",
       "    .dataframe thead th {\n",
       "        text-align: right;\n",
       "    }\n",
       "</style>\n",
       "<table border=\"1\" class=\"dataframe\">\n",
       "  <thead>\n",
       "    <tr style=\"text-align: right;\">\n",
       "      <th></th>\n",
       "      <th>Match_ID</th>\n",
       "      <th>Div</th>\n",
       "      <th>Season</th>\n",
       "      <th>HomeTeam</th>\n",
       "      <th>AwayTeam</th>\n",
       "      <th>FTHG</th>\n",
       "      <th>FTAG</th>\n",
       "      <th>FTR</th>\n",
       "      <th>Winner</th>\n",
       "      <th>away_wins</th>\n",
       "      <th>home_wins</th>\n",
       "      <th>draws</th>\n",
       "      <th>away_losses</th>\n",
       "      <th>home_losses</th>\n",
       "      <th>rainfall</th>\n",
       "    </tr>\n",
       "    <tr>\n",
       "      <th>Date</th>\n",
       "      <th></th>\n",
       "      <th></th>\n",
       "      <th></th>\n",
       "      <th></th>\n",
       "      <th></th>\n",
       "      <th></th>\n",
       "      <th></th>\n",
       "      <th></th>\n",
       "      <th></th>\n",
       "      <th></th>\n",
       "      <th></th>\n",
       "      <th></th>\n",
       "      <th></th>\n",
       "      <th></th>\n",
       "      <th></th>\n",
       "    </tr>\n",
       "  </thead>\n",
       "  <tbody>\n",
       "    <tr>\n",
       "      <th>2012-03-31</th>\n",
       "      <td>1092</td>\n",
       "      <td>D1</td>\n",
       "      <td>2011</td>\n",
       "      <td>Nurnberg</td>\n",
       "      <td>Bayern Munich</td>\n",
       "      <td>0</td>\n",
       "      <td>1</td>\n",
       "      <td>A</td>\n",
       "      <td>Bayern Munich</td>\n",
       "      <td>1</td>\n",
       "      <td>0</td>\n",
       "      <td>0</td>\n",
       "      <td>0</td>\n",
       "      <td>1</td>\n",
       "      <td>0.0049</td>\n",
       "    </tr>\n",
       "    <tr>\n",
       "      <th>2012-03-31</th>\n",
       "      <td>1189</td>\n",
       "      <td>D1</td>\n",
       "      <td>2011</td>\n",
       "      <td>Augsburg</td>\n",
       "      <td>FC Koln</td>\n",
       "      <td>2</td>\n",
       "      <td>1</td>\n",
       "      <td>H</td>\n",
       "      <td>Augsburg</td>\n",
       "      <td>0</td>\n",
       "      <td>1</td>\n",
       "      <td>0</td>\n",
       "      <td>1</td>\n",
       "      <td>0</td>\n",
       "      <td>0.0049</td>\n",
       "    </tr>\n",
       "    <tr>\n",
       "      <th>2012-03-31</th>\n",
       "      <td>1206</td>\n",
       "      <td>D1</td>\n",
       "      <td>2011</td>\n",
       "      <td>Leverkusen</td>\n",
       "      <td>Freiburg</td>\n",
       "      <td>0</td>\n",
       "      <td>2</td>\n",
       "      <td>A</td>\n",
       "      <td>Freiburg</td>\n",
       "      <td>1</td>\n",
       "      <td>0</td>\n",
       "      <td>0</td>\n",
       "      <td>0</td>\n",
       "      <td>1</td>\n",
       "      <td>0.0049</td>\n",
       "    </tr>\n",
       "    <tr>\n",
       "      <th>2012-03-31</th>\n",
       "      <td>1215</td>\n",
       "      <td>D1</td>\n",
       "      <td>2011</td>\n",
       "      <td>Kaiserslautern</td>\n",
       "      <td>Hamburg</td>\n",
       "      <td>0</td>\n",
       "      <td>1</td>\n",
       "      <td>A</td>\n",
       "      <td>Hamburg</td>\n",
       "      <td>1</td>\n",
       "      <td>0</td>\n",
       "      <td>0</td>\n",
       "      <td>0</td>\n",
       "      <td>1</td>\n",
       "      <td>0.0049</td>\n",
       "    </tr>\n",
       "    <tr>\n",
       "      <th>2012-03-31</th>\n",
       "      <td>1396</td>\n",
       "      <td>D2</td>\n",
       "      <td>2011</td>\n",
       "      <td>Munich 1860</td>\n",
       "      <td>Hansa Rostock</td>\n",
       "      <td>0</td>\n",
       "      <td>1</td>\n",
       "      <td>A</td>\n",
       "      <td>Hansa Rostock</td>\n",
       "      <td>1</td>\n",
       "      <td>0</td>\n",
       "      <td>0</td>\n",
       "      <td>0</td>\n",
       "      <td>1</td>\n",
       "      <td>0.0049</td>\n",
       "    </tr>\n",
       "    <tr>\n",
       "      <th>2012-03-31</th>\n",
       "      <td>1420</td>\n",
       "      <td>D1</td>\n",
       "      <td>2011</td>\n",
       "      <td>Werder Bremen</td>\n",
       "      <td>Mainz</td>\n",
       "      <td>0</td>\n",
       "      <td>3</td>\n",
       "      <td>A</td>\n",
       "      <td>Mainz</td>\n",
       "      <td>1</td>\n",
       "      <td>0</td>\n",
       "      <td>0</td>\n",
       "      <td>0</td>\n",
       "      <td>1</td>\n",
       "      <td>0.0049</td>\n",
       "    </tr>\n",
       "    <tr>\n",
       "      <th>2012-03-31</th>\n",
       "      <td>1475</td>\n",
       "      <td>D1</td>\n",
       "      <td>2011</td>\n",
       "      <td>Hertha</td>\n",
       "      <td>Wolfsburg</td>\n",
       "      <td>1</td>\n",
       "      <td>4</td>\n",
       "      <td>A</td>\n",
       "      <td>Wolfsburg</td>\n",
       "      <td>1</td>\n",
       "      <td>0</td>\n",
       "      <td>0</td>\n",
       "      <td>0</td>\n",
       "      <td>1</td>\n",
       "      <td>0.0049</td>\n",
       "    </tr>\n",
       "    <tr>\n",
       "      <th>2012-03-31</th>\n",
       "      <td>1524</td>\n",
       "      <td>D2</td>\n",
       "      <td>2011</td>\n",
       "      <td>Erzgebirge Aue</td>\n",
       "      <td>Greuther Furth</td>\n",
       "      <td>1</td>\n",
       "      <td>1</td>\n",
       "      <td>D</td>\n",
       "      <td>Draw</td>\n",
       "      <td>0</td>\n",
       "      <td>0</td>\n",
       "      <td>1</td>\n",
       "      <td>0</td>\n",
       "      <td>0</td>\n",
       "      <td>0.0049</td>\n",
       "    </tr>\n",
       "    <tr>\n",
       "      <th>2012-03-31</th>\n",
       "      <td>44794</td>\n",
       "      <td>E0</td>\n",
       "      <td>2011</td>\n",
       "      <td>Aston Villa</td>\n",
       "      <td>Chelsea</td>\n",
       "      <td>2</td>\n",
       "      <td>4</td>\n",
       "      <td>A</td>\n",
       "      <td>Chelsea</td>\n",
       "      <td>1</td>\n",
       "      <td>0</td>\n",
       "      <td>0</td>\n",
       "      <td>0</td>\n",
       "      <td>1</td>\n",
       "      <td>0.0049</td>\n",
       "    </tr>\n",
       "    <tr>\n",
       "      <th>2012-03-31</th>\n",
       "      <td>44795</td>\n",
       "      <td>E0</td>\n",
       "      <td>2011</td>\n",
       "      <td>Everton</td>\n",
       "      <td>West Brom</td>\n",
       "      <td>2</td>\n",
       "      <td>0</td>\n",
       "      <td>H</td>\n",
       "      <td>Everton</td>\n",
       "      <td>0</td>\n",
       "      <td>1</td>\n",
       "      <td>0</td>\n",
       "      <td>1</td>\n",
       "      <td>0</td>\n",
       "      <td>0.0049</td>\n",
       "    </tr>\n",
       "    <tr>\n",
       "      <th>2012-03-31</th>\n",
       "      <td>44796</td>\n",
       "      <td>E0</td>\n",
       "      <td>2011</td>\n",
       "      <td>Fulham</td>\n",
       "      <td>Norwich</td>\n",
       "      <td>2</td>\n",
       "      <td>1</td>\n",
       "      <td>H</td>\n",
       "      <td>Fulham</td>\n",
       "      <td>0</td>\n",
       "      <td>1</td>\n",
       "      <td>0</td>\n",
       "      <td>1</td>\n",
       "      <td>0</td>\n",
       "      <td>0.0049</td>\n",
       "    </tr>\n",
       "    <tr>\n",
       "      <th>2012-03-31</th>\n",
       "      <td>44797</td>\n",
       "      <td>E0</td>\n",
       "      <td>2011</td>\n",
       "      <td>Man City</td>\n",
       "      <td>Sunderland</td>\n",
       "      <td>3</td>\n",
       "      <td>3</td>\n",
       "      <td>D</td>\n",
       "      <td>Draw</td>\n",
       "      <td>0</td>\n",
       "      <td>0</td>\n",
       "      <td>1</td>\n",
       "      <td>0</td>\n",
       "      <td>0</td>\n",
       "      <td>0.0049</td>\n",
       "    </tr>\n",
       "    <tr>\n",
       "      <th>2012-03-31</th>\n",
       "      <td>44798</td>\n",
       "      <td>E0</td>\n",
       "      <td>2011</td>\n",
       "      <td>QPR</td>\n",
       "      <td>Arsenal</td>\n",
       "      <td>2</td>\n",
       "      <td>1</td>\n",
       "      <td>H</td>\n",
       "      <td>QPR</td>\n",
       "      <td>0</td>\n",
       "      <td>1</td>\n",
       "      <td>0</td>\n",
       "      <td>1</td>\n",
       "      <td>0</td>\n",
       "      <td>0.0049</td>\n",
       "    </tr>\n",
       "    <tr>\n",
       "      <th>2012-03-31</th>\n",
       "      <td>44799</td>\n",
       "      <td>E0</td>\n",
       "      <td>2011</td>\n",
       "      <td>Wigan</td>\n",
       "      <td>Stoke</td>\n",
       "      <td>2</td>\n",
       "      <td>0</td>\n",
       "      <td>H</td>\n",
       "      <td>Wigan</td>\n",
       "      <td>0</td>\n",
       "      <td>1</td>\n",
       "      <td>0</td>\n",
       "      <td>1</td>\n",
       "      <td>0</td>\n",
       "      <td>0.0049</td>\n",
       "    </tr>\n",
       "    <tr>\n",
       "      <th>2012-03-31</th>\n",
       "      <td>44800</td>\n",
       "      <td>E0</td>\n",
       "      <td>2011</td>\n",
       "      <td>Wolves</td>\n",
       "      <td>Bolton</td>\n",
       "      <td>2</td>\n",
       "      <td>3</td>\n",
       "      <td>A</td>\n",
       "      <td>Bolton</td>\n",
       "      <td>1</td>\n",
       "      <td>0</td>\n",
       "      <td>0</td>\n",
       "      <td>0</td>\n",
       "      <td>1</td>\n",
       "      <td>0.0049</td>\n",
       "    </tr>\n",
       "  </tbody>\n",
       "</table>\n",
       "</div>"
      ],
      "text/plain": [
       "            Match_ID Div  Season        HomeTeam        AwayTeam  FTHG  FTAG  \\\n",
       "Date                                                                           \n",
       "2012-03-31      1092  D1    2011        Nurnberg   Bayern Munich     0     1   \n",
       "2012-03-31      1189  D1    2011        Augsburg         FC Koln     2     1   \n",
       "2012-03-31      1206  D1    2011      Leverkusen        Freiburg     0     2   \n",
       "2012-03-31      1215  D1    2011  Kaiserslautern         Hamburg     0     1   \n",
       "2012-03-31      1396  D2    2011     Munich 1860   Hansa Rostock     0     1   \n",
       "2012-03-31      1420  D1    2011   Werder Bremen           Mainz     0     3   \n",
       "2012-03-31      1475  D1    2011          Hertha       Wolfsburg     1     4   \n",
       "2012-03-31      1524  D2    2011  Erzgebirge Aue  Greuther Furth     1     1   \n",
       "2012-03-31     44794  E0    2011     Aston Villa         Chelsea     2     4   \n",
       "2012-03-31     44795  E0    2011         Everton       West Brom     2     0   \n",
       "2012-03-31     44796  E0    2011          Fulham         Norwich     2     1   \n",
       "2012-03-31     44797  E0    2011        Man City      Sunderland     3     3   \n",
       "2012-03-31     44798  E0    2011             QPR         Arsenal     2     1   \n",
       "2012-03-31     44799  E0    2011           Wigan           Stoke     2     0   \n",
       "2012-03-31     44800  E0    2011          Wolves          Bolton     2     3   \n",
       "\n",
       "           FTR         Winner  away_wins  home_wins  draws  away_losses  \\\n",
       "Date                                                                      \n",
       "2012-03-31   A  Bayern Munich          1          0      0            0   \n",
       "2012-03-31   H       Augsburg          0          1      0            1   \n",
       "2012-03-31   A       Freiburg          1          0      0            0   \n",
       "2012-03-31   A        Hamburg          1          0      0            0   \n",
       "2012-03-31   A  Hansa Rostock          1          0      0            0   \n",
       "2012-03-31   A          Mainz          1          0      0            0   \n",
       "2012-03-31   A      Wolfsburg          1          0      0            0   \n",
       "2012-03-31   D           Draw          0          0      1            0   \n",
       "2012-03-31   A        Chelsea          1          0      0            0   \n",
       "2012-03-31   H        Everton          0          1      0            1   \n",
       "2012-03-31   H         Fulham          0          1      0            1   \n",
       "2012-03-31   D           Draw          0          0      1            0   \n",
       "2012-03-31   H            QPR          0          1      0            1   \n",
       "2012-03-31   H          Wigan          0          1      0            1   \n",
       "2012-03-31   A         Bolton          1          0      0            0   \n",
       "\n",
       "            home_losses  rainfall  \n",
       "Date                               \n",
       "2012-03-31            1    0.0049  \n",
       "2012-03-31            0    0.0049  \n",
       "2012-03-31            1    0.0049  \n",
       "2012-03-31            1    0.0049  \n",
       "2012-03-31            1    0.0049  \n",
       "2012-03-31            1    0.0049  \n",
       "2012-03-31            1    0.0049  \n",
       "2012-03-31            0    0.0049  \n",
       "2012-03-31            1    0.0049  \n",
       "2012-03-31            0    0.0049  \n",
       "2012-03-31            0    0.0049  \n",
       "2012-03-31            0    0.0049  \n",
       "2012-03-31            0    0.0049  \n",
       "2012-03-31            0    0.0049  \n",
       "2012-03-31            1    0.0049  "
      ]
     },
     "execution_count": 45,
     "metadata": {},
     "output_type": "execute_result"
    }
   ],
   "source": [
    "matches_rainfall_df.loc['2012-03-31', :]"
   ]
  },
  {
   "cell_type": "markdown",
   "metadata": {},
   "source": [
    "#### Create a boolean column for rainfall"
   ]
  },
  {
   "cell_type": "code",
   "execution_count": 46,
   "metadata": {},
   "outputs": [],
   "source": [
    "matches_rainfall_df['rainfall_bool'] = matches_rainfall_df['rainfall'] != False"
   ]
  },
  {
   "cell_type": "code",
   "execution_count": 47,
   "metadata": {
    "scrolled": true
   },
   "outputs": [
    {
     "data": {
      "text/html": [
       "<div>\n",
       "<style scoped>\n",
       "    .dataframe tbody tr th:only-of-type {\n",
       "        vertical-align: middle;\n",
       "    }\n",
       "\n",
       "    .dataframe tbody tr th {\n",
       "        vertical-align: top;\n",
       "    }\n",
       "\n",
       "    .dataframe thead th {\n",
       "        text-align: right;\n",
       "    }\n",
       "</style>\n",
       "<table border=\"1\" class=\"dataframe\">\n",
       "  <thead>\n",
       "    <tr style=\"text-align: right;\">\n",
       "      <th></th>\n",
       "      <th>Match_ID</th>\n",
       "      <th>Div</th>\n",
       "      <th>Season</th>\n",
       "      <th>HomeTeam</th>\n",
       "      <th>AwayTeam</th>\n",
       "      <th>FTHG</th>\n",
       "      <th>FTAG</th>\n",
       "      <th>FTR</th>\n",
       "      <th>Winner</th>\n",
       "      <th>away_wins</th>\n",
       "      <th>home_wins</th>\n",
       "      <th>draws</th>\n",
       "      <th>away_losses</th>\n",
       "      <th>home_losses</th>\n",
       "      <th>rainfall</th>\n",
       "      <th>rainfall_bool</th>\n",
       "    </tr>\n",
       "    <tr>\n",
       "      <th>Date</th>\n",
       "      <th></th>\n",
       "      <th></th>\n",
       "      <th></th>\n",
       "      <th></th>\n",
       "      <th></th>\n",
       "      <th></th>\n",
       "      <th></th>\n",
       "      <th></th>\n",
       "      <th></th>\n",
       "      <th></th>\n",
       "      <th></th>\n",
       "      <th></th>\n",
       "      <th></th>\n",
       "      <th></th>\n",
       "      <th></th>\n",
       "      <th></th>\n",
       "    </tr>\n",
       "  </thead>\n",
       "  <tbody>\n",
       "    <tr>\n",
       "      <th>2012-03-31</th>\n",
       "      <td>1092</td>\n",
       "      <td>D1</td>\n",
       "      <td>2011</td>\n",
       "      <td>Nurnberg</td>\n",
       "      <td>Bayern Munich</td>\n",
       "      <td>0</td>\n",
       "      <td>1</td>\n",
       "      <td>A</td>\n",
       "      <td>Bayern Munich</td>\n",
       "      <td>1</td>\n",
       "      <td>0</td>\n",
       "      <td>0</td>\n",
       "      <td>0</td>\n",
       "      <td>1</td>\n",
       "      <td>0.0049</td>\n",
       "      <td>True</td>\n",
       "    </tr>\n",
       "    <tr>\n",
       "      <th>2011-12-11</th>\n",
       "      <td>1093</td>\n",
       "      <td>D1</td>\n",
       "      <td>2011</td>\n",
       "      <td>Stuttgart</td>\n",
       "      <td>Bayern Munich</td>\n",
       "      <td>1</td>\n",
       "      <td>2</td>\n",
       "      <td>A</td>\n",
       "      <td>Bayern Munich</td>\n",
       "      <td>1</td>\n",
       "      <td>0</td>\n",
       "      <td>0</td>\n",
       "      <td>0</td>\n",
       "      <td>1</td>\n",
       "      <td>0.0000</td>\n",
       "      <td>False</td>\n",
       "    </tr>\n",
       "    <tr>\n",
       "      <th>2011-08-13</th>\n",
       "      <td>1094</td>\n",
       "      <td>D1</td>\n",
       "      <td>2011</td>\n",
       "      <td>Wolfsburg</td>\n",
       "      <td>Bayern Munich</td>\n",
       "      <td>0</td>\n",
       "      <td>1</td>\n",
       "      <td>A</td>\n",
       "      <td>Bayern Munich</td>\n",
       "      <td>1</td>\n",
       "      <td>0</td>\n",
       "      <td>0</td>\n",
       "      <td>0</td>\n",
       "      <td>1</td>\n",
       "      <td>0.0000</td>\n",
       "      <td>False</td>\n",
       "    </tr>\n",
       "    <tr>\n",
       "      <th>2011-11-27</th>\n",
       "      <td>1095</td>\n",
       "      <td>D1</td>\n",
       "      <td>2011</td>\n",
       "      <td>Mainz</td>\n",
       "      <td>Bayern Munich</td>\n",
       "      <td>3</td>\n",
       "      <td>2</td>\n",
       "      <td>H</td>\n",
       "      <td>Mainz</td>\n",
       "      <td>0</td>\n",
       "      <td>1</td>\n",
       "      <td>0</td>\n",
       "      <td>1</td>\n",
       "      <td>0</td>\n",
       "      <td>0.0000</td>\n",
       "      <td>False</td>\n",
       "    </tr>\n",
       "    <tr>\n",
       "      <th>2012-02-18</th>\n",
       "      <td>1096</td>\n",
       "      <td>D1</td>\n",
       "      <td>2011</td>\n",
       "      <td>Freiburg</td>\n",
       "      <td>Bayern Munich</td>\n",
       "      <td>0</td>\n",
       "      <td>0</td>\n",
       "      <td>D</td>\n",
       "      <td>Draw</td>\n",
       "      <td>0</td>\n",
       "      <td>0</td>\n",
       "      <td>1</td>\n",
       "      <td>0</td>\n",
       "      <td>0</td>\n",
       "      <td>0.0000</td>\n",
       "      <td>False</td>\n",
       "    </tr>\n",
       "  </tbody>\n",
       "</table>\n",
       "</div>"
      ],
      "text/plain": [
       "            Match_ID Div  Season   HomeTeam       AwayTeam  FTHG  FTAG FTR  \\\n",
       "Date                                                                         \n",
       "2012-03-31      1092  D1    2011   Nurnberg  Bayern Munich     0     1   A   \n",
       "2011-12-11      1093  D1    2011  Stuttgart  Bayern Munich     1     2   A   \n",
       "2011-08-13      1094  D1    2011  Wolfsburg  Bayern Munich     0     1   A   \n",
       "2011-11-27      1095  D1    2011      Mainz  Bayern Munich     3     2   H   \n",
       "2012-02-18      1096  D1    2011   Freiburg  Bayern Munich     0     0   D   \n",
       "\n",
       "                   Winner  away_wins  home_wins  draws  away_losses  \\\n",
       "Date                                                                  \n",
       "2012-03-31  Bayern Munich          1          0      0            0   \n",
       "2011-12-11  Bayern Munich          1          0      0            0   \n",
       "2011-08-13  Bayern Munich          1          0      0            0   \n",
       "2011-11-27          Mainz          0          1      0            1   \n",
       "2012-02-18           Draw          0          0      1            0   \n",
       "\n",
       "            home_losses  rainfall  rainfall_bool  \n",
       "Date                                              \n",
       "2012-03-31            1    0.0049           True  \n",
       "2011-12-11            1    0.0000          False  \n",
       "2011-08-13            1    0.0000          False  \n",
       "2011-11-27            0    0.0000          False  \n",
       "2012-02-18            0    0.0000          False  "
      ]
     },
     "execution_count": 47,
     "metadata": {},
     "output_type": "execute_result"
    }
   ],
   "source": [
    "matches_rainfall_df.head()"
   ]
  },
  {
   "cell_type": "markdown",
   "metadata": {},
   "source": [
    "#### We need the home and away wins when raining"
   ]
  },
  {
   "cell_type": "code",
   "execution_count": 48,
   "metadata": {},
   "outputs": [],
   "source": [
    "def away_wins_rain(x):\n",
    "    if x['FTR'] == 'A' and x['rainfall_bool']:\n",
    "        return 1\n",
    "    else:\n",
    "        return 0"
   ]
  },
  {
   "cell_type": "code",
   "execution_count": 49,
   "metadata": {},
   "outputs": [],
   "source": [
    "def home_wins_rain(x):\n",
    "    if x['FTR'] == 'H' and x['rainfall_bool']:\n",
    "        return 1\n",
    "    else:\n",
    "        return 0"
   ]
  },
  {
   "cell_type": "code",
   "execution_count": 50,
   "metadata": {},
   "outputs": [],
   "source": [
    "matches_rainfall_df['away_wins_rain'] = matches_rainfall_df.apply(away_wins_rain, axis = 1)\n",
    "\n",
    "matches_rainfall_df['home_wins_rain'] = matches_rainfall_df.apply(home_wins_rain, axis = 1)"
   ]
  },
  {
   "cell_type": "code",
   "execution_count": 51,
   "metadata": {},
   "outputs": [
    {
     "data": {
      "text/html": [
       "<div>\n",
       "<style scoped>\n",
       "    .dataframe tbody tr th:only-of-type {\n",
       "        vertical-align: middle;\n",
       "    }\n",
       "\n",
       "    .dataframe tbody tr th {\n",
       "        vertical-align: top;\n",
       "    }\n",
       "\n",
       "    .dataframe thead th {\n",
       "        text-align: right;\n",
       "    }\n",
       "</style>\n",
       "<table border=\"1\" class=\"dataframe\">\n",
       "  <thead>\n",
       "    <tr style=\"text-align: right;\">\n",
       "      <th></th>\n",
       "      <th>Match_ID</th>\n",
       "      <th>Div</th>\n",
       "      <th>Season</th>\n",
       "      <th>HomeTeam</th>\n",
       "      <th>AwayTeam</th>\n",
       "      <th>FTHG</th>\n",
       "      <th>FTAG</th>\n",
       "      <th>FTR</th>\n",
       "      <th>Winner</th>\n",
       "      <th>away_wins</th>\n",
       "      <th>home_wins</th>\n",
       "      <th>draws</th>\n",
       "      <th>away_losses</th>\n",
       "      <th>home_losses</th>\n",
       "      <th>rainfall</th>\n",
       "      <th>rainfall_bool</th>\n",
       "      <th>away_wins_rain</th>\n",
       "      <th>home_wins_rain</th>\n",
       "    </tr>\n",
       "    <tr>\n",
       "      <th>Date</th>\n",
       "      <th></th>\n",
       "      <th></th>\n",
       "      <th></th>\n",
       "      <th></th>\n",
       "      <th></th>\n",
       "      <th></th>\n",
       "      <th></th>\n",
       "      <th></th>\n",
       "      <th></th>\n",
       "      <th></th>\n",
       "      <th></th>\n",
       "      <th></th>\n",
       "      <th></th>\n",
       "      <th></th>\n",
       "      <th></th>\n",
       "      <th></th>\n",
       "      <th></th>\n",
       "      <th></th>\n",
       "    </tr>\n",
       "  </thead>\n",
       "  <tbody>\n",
       "    <tr>\n",
       "      <th>2012-03-31</th>\n",
       "      <td>1092</td>\n",
       "      <td>D1</td>\n",
       "      <td>2011</td>\n",
       "      <td>Nurnberg</td>\n",
       "      <td>Bayern Munich</td>\n",
       "      <td>0</td>\n",
       "      <td>1</td>\n",
       "      <td>A</td>\n",
       "      <td>Bayern Munich</td>\n",
       "      <td>1</td>\n",
       "      <td>0</td>\n",
       "      <td>0</td>\n",
       "      <td>0</td>\n",
       "      <td>1</td>\n",
       "      <td>0.0049</td>\n",
       "      <td>True</td>\n",
       "      <td>1</td>\n",
       "      <td>0</td>\n",
       "    </tr>\n",
       "    <tr>\n",
       "      <th>2011-12-11</th>\n",
       "      <td>1093</td>\n",
       "      <td>D1</td>\n",
       "      <td>2011</td>\n",
       "      <td>Stuttgart</td>\n",
       "      <td>Bayern Munich</td>\n",
       "      <td>1</td>\n",
       "      <td>2</td>\n",
       "      <td>A</td>\n",
       "      <td>Bayern Munich</td>\n",
       "      <td>1</td>\n",
       "      <td>0</td>\n",
       "      <td>0</td>\n",
       "      <td>0</td>\n",
       "      <td>1</td>\n",
       "      <td>0.0000</td>\n",
       "      <td>False</td>\n",
       "      <td>0</td>\n",
       "      <td>0</td>\n",
       "    </tr>\n",
       "    <tr>\n",
       "      <th>2011-08-13</th>\n",
       "      <td>1094</td>\n",
       "      <td>D1</td>\n",
       "      <td>2011</td>\n",
       "      <td>Wolfsburg</td>\n",
       "      <td>Bayern Munich</td>\n",
       "      <td>0</td>\n",
       "      <td>1</td>\n",
       "      <td>A</td>\n",
       "      <td>Bayern Munich</td>\n",
       "      <td>1</td>\n",
       "      <td>0</td>\n",
       "      <td>0</td>\n",
       "      <td>0</td>\n",
       "      <td>1</td>\n",
       "      <td>0.0000</td>\n",
       "      <td>False</td>\n",
       "      <td>0</td>\n",
       "      <td>0</td>\n",
       "    </tr>\n",
       "    <tr>\n",
       "      <th>2011-11-27</th>\n",
       "      <td>1095</td>\n",
       "      <td>D1</td>\n",
       "      <td>2011</td>\n",
       "      <td>Mainz</td>\n",
       "      <td>Bayern Munich</td>\n",
       "      <td>3</td>\n",
       "      <td>2</td>\n",
       "      <td>H</td>\n",
       "      <td>Mainz</td>\n",
       "      <td>0</td>\n",
       "      <td>1</td>\n",
       "      <td>0</td>\n",
       "      <td>1</td>\n",
       "      <td>0</td>\n",
       "      <td>0.0000</td>\n",
       "      <td>False</td>\n",
       "      <td>0</td>\n",
       "      <td>0</td>\n",
       "    </tr>\n",
       "    <tr>\n",
       "      <th>2012-02-18</th>\n",
       "      <td>1096</td>\n",
       "      <td>D1</td>\n",
       "      <td>2011</td>\n",
       "      <td>Freiburg</td>\n",
       "      <td>Bayern Munich</td>\n",
       "      <td>0</td>\n",
       "      <td>0</td>\n",
       "      <td>D</td>\n",
       "      <td>Draw</td>\n",
       "      <td>0</td>\n",
       "      <td>0</td>\n",
       "      <td>1</td>\n",
       "      <td>0</td>\n",
       "      <td>0</td>\n",
       "      <td>0.0000</td>\n",
       "      <td>False</td>\n",
       "      <td>0</td>\n",
       "      <td>0</td>\n",
       "    </tr>\n",
       "  </tbody>\n",
       "</table>\n",
       "</div>"
      ],
      "text/plain": [
       "            Match_ID Div  Season   HomeTeam       AwayTeam  FTHG  FTAG FTR  \\\n",
       "Date                                                                         \n",
       "2012-03-31      1092  D1    2011   Nurnberg  Bayern Munich     0     1   A   \n",
       "2011-12-11      1093  D1    2011  Stuttgart  Bayern Munich     1     2   A   \n",
       "2011-08-13      1094  D1    2011  Wolfsburg  Bayern Munich     0     1   A   \n",
       "2011-11-27      1095  D1    2011      Mainz  Bayern Munich     3     2   H   \n",
       "2012-02-18      1096  D1    2011   Freiburg  Bayern Munich     0     0   D   \n",
       "\n",
       "                   Winner  away_wins  home_wins  draws  away_losses  \\\n",
       "Date                                                                  \n",
       "2012-03-31  Bayern Munich          1          0      0            0   \n",
       "2011-12-11  Bayern Munich          1          0      0            0   \n",
       "2011-08-13  Bayern Munich          1          0      0            0   \n",
       "2011-11-27          Mainz          0          1      0            1   \n",
       "2012-02-18           Draw          0          0      1            0   \n",
       "\n",
       "            home_losses  rainfall  rainfall_bool  away_wins_rain  \\\n",
       "Date                                                               \n",
       "2012-03-31            1    0.0049           True               1   \n",
       "2011-12-11            1    0.0000          False               0   \n",
       "2011-08-13            1    0.0000          False               0   \n",
       "2011-11-27            0    0.0000          False               0   \n",
       "2012-02-18            0    0.0000          False               0   \n",
       "\n",
       "            home_wins_rain  \n",
       "Date                        \n",
       "2012-03-31               0  \n",
       "2011-12-11               0  \n",
       "2011-08-13               0  \n",
       "2011-11-27               0  \n",
       "2012-02-18               0  "
      ]
     },
     "execution_count": 51,
     "metadata": {},
     "output_type": "execute_result"
    }
   ],
   "source": [
    "matches_rainfall_df.head()"
   ]
  },
  {
   "cell_type": "markdown",
   "metadata": {},
   "source": [
    "### Create home and away dfs"
   ]
  },
  {
   "cell_type": "code",
   "execution_count": 52,
   "metadata": {
    "scrolled": true
   },
   "outputs": [],
   "source": [
    "home_df = matches_rainfall_df.groupby('HomeTeam').sum()[['home_wins', 'draws', 'home_losses', 'FTHG', \n",
    "                                               'home_wins_rain', 'rainfall_bool']]\n",
    "\n",
    "away_df = matches_rainfall_df.groupby('AwayTeam').sum()[['away_wins', 'draws', 'away_losses', 'FTAG', \n",
    "                                               'away_wins_rain', 'rainfall_bool']]\n",
    "\n",
    "home_df.columns = ['wins', 'draws', 'losses', 'goals', 'wins_rain', 'rainfall_bool']\n",
    "\n",
    "away_df.columns = ['wins', 'draws', 'losses', 'goals', 'wins_rain', 'rainfall_bool']"
   ]
  },
  {
   "cell_type": "code",
   "execution_count": 53,
   "metadata": {},
   "outputs": [
    {
     "data": {
      "text/html": [
       "<div>\n",
       "<style scoped>\n",
       "    .dataframe tbody tr th:only-of-type {\n",
       "        vertical-align: middle;\n",
       "    }\n",
       "\n",
       "    .dataframe tbody tr th {\n",
       "        vertical-align: top;\n",
       "    }\n",
       "\n",
       "    .dataframe thead th {\n",
       "        text-align: right;\n",
       "    }\n",
       "</style>\n",
       "<table border=\"1\" class=\"dataframe\">\n",
       "  <thead>\n",
       "    <tr style=\"text-align: right;\">\n",
       "      <th></th>\n",
       "      <th>wins</th>\n",
       "      <th>draws</th>\n",
       "      <th>losses</th>\n",
       "      <th>goals</th>\n",
       "      <th>wins_rain</th>\n",
       "      <th>rainfall_bool</th>\n",
       "    </tr>\n",
       "    <tr>\n",
       "      <th>HomeTeam</th>\n",
       "      <th></th>\n",
       "      <th></th>\n",
       "      <th></th>\n",
       "      <th></th>\n",
       "      <th></th>\n",
       "      <th></th>\n",
       "    </tr>\n",
       "  </thead>\n",
       "  <tbody>\n",
       "    <tr>\n",
       "      <th>Aachen</th>\n",
       "      <td>4</td>\n",
       "      <td>6</td>\n",
       "      <td>7</td>\n",
       "      <td>15</td>\n",
       "      <td>1</td>\n",
       "      <td>5.0</td>\n",
       "    </tr>\n",
       "    <tr>\n",
       "      <th>Arsenal</th>\n",
       "      <td>12</td>\n",
       "      <td>4</td>\n",
       "      <td>3</td>\n",
       "      <td>39</td>\n",
       "      <td>6</td>\n",
       "      <td>9.0</td>\n",
       "    </tr>\n",
       "    <tr>\n",
       "      <th>Aston Villa</th>\n",
       "      <td>4</td>\n",
       "      <td>7</td>\n",
       "      <td>8</td>\n",
       "      <td>20</td>\n",
       "      <td>1</td>\n",
       "      <td>9.0</td>\n",
       "    </tr>\n",
       "    <tr>\n",
       "      <th>Augsburg</th>\n",
       "      <td>6</td>\n",
       "      <td>7</td>\n",
       "      <td>4</td>\n",
       "      <td>20</td>\n",
       "      <td>4</td>\n",
       "      <td>7.0</td>\n",
       "    </tr>\n",
       "    <tr>\n",
       "      <th>Bayern Munich</th>\n",
       "      <td>14</td>\n",
       "      <td>1</td>\n",
       "      <td>2</td>\n",
       "      <td>49</td>\n",
       "      <td>3</td>\n",
       "      <td>4.0</td>\n",
       "    </tr>\n",
       "  </tbody>\n",
       "</table>\n",
       "</div>"
      ],
      "text/plain": [
       "               wins  draws  losses  goals  wins_rain  rainfall_bool\n",
       "HomeTeam                                                           \n",
       "Aachen            4      6       7     15          1            5.0\n",
       "Arsenal          12      4       3     39          6            9.0\n",
       "Aston Villa       4      7       8     20          1            9.0\n",
       "Augsburg          6      7       4     20          4            7.0\n",
       "Bayern Munich    14      1       2     49          3            4.0"
      ]
     },
     "execution_count": 53,
     "metadata": {},
     "output_type": "execute_result"
    }
   ],
   "source": [
    "home_df.head()"
   ]
  },
  {
   "cell_type": "code",
   "execution_count": 54,
   "metadata": {
    "scrolled": true
   },
   "outputs": [
    {
     "data": {
      "text/html": [
       "<div>\n",
       "<style scoped>\n",
       "    .dataframe tbody tr th:only-of-type {\n",
       "        vertical-align: middle;\n",
       "    }\n",
       "\n",
       "    .dataframe tbody tr th {\n",
       "        vertical-align: top;\n",
       "    }\n",
       "\n",
       "    .dataframe thead th {\n",
       "        text-align: right;\n",
       "    }\n",
       "</style>\n",
       "<table border=\"1\" class=\"dataframe\">\n",
       "  <thead>\n",
       "    <tr style=\"text-align: right;\">\n",
       "      <th></th>\n",
       "      <th>wins</th>\n",
       "      <th>draws</th>\n",
       "      <th>losses</th>\n",
       "      <th>goals</th>\n",
       "      <th>wins_rain</th>\n",
       "      <th>rainfall_bool</th>\n",
       "    </tr>\n",
       "    <tr>\n",
       "      <th>AwayTeam</th>\n",
       "      <th></th>\n",
       "      <th></th>\n",
       "      <th></th>\n",
       "      <th></th>\n",
       "      <th></th>\n",
       "      <th></th>\n",
       "    </tr>\n",
       "  </thead>\n",
       "  <tbody>\n",
       "    <tr>\n",
       "      <th>Aachen</th>\n",
       "      <td>2</td>\n",
       "      <td>7</td>\n",
       "      <td>8</td>\n",
       "      <td>15</td>\n",
       "      <td>2</td>\n",
       "      <td>8.0</td>\n",
       "    </tr>\n",
       "    <tr>\n",
       "      <th>Arsenal</th>\n",
       "      <td>9</td>\n",
       "      <td>3</td>\n",
       "      <td>7</td>\n",
       "      <td>35</td>\n",
       "      <td>2</td>\n",
       "      <td>5.0</td>\n",
       "    </tr>\n",
       "    <tr>\n",
       "      <th>Aston Villa</th>\n",
       "      <td>3</td>\n",
       "      <td>10</td>\n",
       "      <td>6</td>\n",
       "      <td>17</td>\n",
       "      <td>1</td>\n",
       "      <td>3.0</td>\n",
       "    </tr>\n",
       "    <tr>\n",
       "      <th>Augsburg</th>\n",
       "      <td>2</td>\n",
       "      <td>7</td>\n",
       "      <td>8</td>\n",
       "      <td>16</td>\n",
       "      <td>0</td>\n",
       "      <td>4.0</td>\n",
       "    </tr>\n",
       "    <tr>\n",
       "      <th>Bayern Munich</th>\n",
       "      <td>9</td>\n",
       "      <td>3</td>\n",
       "      <td>5</td>\n",
       "      <td>28</td>\n",
       "      <td>5</td>\n",
       "      <td>7.0</td>\n",
       "    </tr>\n",
       "  </tbody>\n",
       "</table>\n",
       "</div>"
      ],
      "text/plain": [
       "               wins  draws  losses  goals  wins_rain  rainfall_bool\n",
       "AwayTeam                                                           \n",
       "Aachen            2      7       8     15          2            8.0\n",
       "Arsenal           9      3       7     35          2            5.0\n",
       "Aston Villa       3     10       6     17          1            3.0\n",
       "Augsburg          2      7       8     16          0            4.0\n",
       "Bayern Munich     9      3       5     28          5            7.0"
      ]
     },
     "execution_count": 54,
     "metadata": {},
     "output_type": "execute_result"
    }
   ],
   "source": [
    "away_df.head()"
   ]
  },
  {
   "cell_type": "code",
   "execution_count": 55,
   "metadata": {
    "scrolled": true
   },
   "outputs": [],
   "source": [
    "final_df = home_df + away_df"
   ]
  },
  {
   "cell_type": "code",
   "execution_count": 56,
   "metadata": {},
   "outputs": [],
   "source": [
    "final_df['rain_win_percent'] = final_df['wins_rain'] / final_df['rainfall_bool']"
   ]
  },
  {
   "cell_type": "code",
   "execution_count": 57,
   "metadata": {},
   "outputs": [
    {
     "data": {
      "text/html": [
       "<div>\n",
       "<style scoped>\n",
       "    .dataframe tbody tr th:only-of-type {\n",
       "        vertical-align: middle;\n",
       "    }\n",
       "\n",
       "    .dataframe tbody tr th {\n",
       "        vertical-align: top;\n",
       "    }\n",
       "\n",
       "    .dataframe thead th {\n",
       "        text-align: right;\n",
       "    }\n",
       "</style>\n",
       "<table border=\"1\" class=\"dataframe\">\n",
       "  <thead>\n",
       "    <tr style=\"text-align: right;\">\n",
       "      <th></th>\n",
       "      <th>wins</th>\n",
       "      <th>draws</th>\n",
       "      <th>losses</th>\n",
       "      <th>goals</th>\n",
       "      <th>wins_rain</th>\n",
       "      <th>rainfall_bool</th>\n",
       "      <th>rain_win_percent</th>\n",
       "    </tr>\n",
       "    <tr>\n",
       "      <th>HomeTeam</th>\n",
       "      <th></th>\n",
       "      <th></th>\n",
       "      <th></th>\n",
       "      <th></th>\n",
       "      <th></th>\n",
       "      <th></th>\n",
       "      <th></th>\n",
       "    </tr>\n",
       "  </thead>\n",
       "  <tbody>\n",
       "    <tr>\n",
       "      <th>Aachen</th>\n",
       "      <td>6</td>\n",
       "      <td>13</td>\n",
       "      <td>15</td>\n",
       "      <td>30</td>\n",
       "      <td>3</td>\n",
       "      <td>13.0</td>\n",
       "      <td>0.230769</td>\n",
       "    </tr>\n",
       "    <tr>\n",
       "      <th>Arsenal</th>\n",
       "      <td>21</td>\n",
       "      <td>7</td>\n",
       "      <td>10</td>\n",
       "      <td>74</td>\n",
       "      <td>8</td>\n",
       "      <td>14.0</td>\n",
       "      <td>0.571429</td>\n",
       "    </tr>\n",
       "    <tr>\n",
       "      <th>Aston Villa</th>\n",
       "      <td>7</td>\n",
       "      <td>17</td>\n",
       "      <td>14</td>\n",
       "      <td>37</td>\n",
       "      <td>2</td>\n",
       "      <td>12.0</td>\n",
       "      <td>0.166667</td>\n",
       "    </tr>\n",
       "    <tr>\n",
       "      <th>Augsburg</th>\n",
       "      <td>8</td>\n",
       "      <td>14</td>\n",
       "      <td>12</td>\n",
       "      <td>36</td>\n",
       "      <td>4</td>\n",
       "      <td>11.0</td>\n",
       "      <td>0.363636</td>\n",
       "    </tr>\n",
       "    <tr>\n",
       "      <th>Bayern Munich</th>\n",
       "      <td>23</td>\n",
       "      <td>4</td>\n",
       "      <td>7</td>\n",
       "      <td>77</td>\n",
       "      <td>8</td>\n",
       "      <td>11.0</td>\n",
       "      <td>0.727273</td>\n",
       "    </tr>\n",
       "  </tbody>\n",
       "</table>\n",
       "</div>"
      ],
      "text/plain": [
       "               wins  draws  losses  goals  wins_rain  rainfall_bool  \\\n",
       "HomeTeam                                                              \n",
       "Aachen            6     13      15     30          3           13.0   \n",
       "Arsenal          21      7      10     74          8           14.0   \n",
       "Aston Villa       7     17      14     37          2           12.0   \n",
       "Augsburg          8     14      12     36          4           11.0   \n",
       "Bayern Munich    23      4       7     77          8           11.0   \n",
       "\n",
       "               rain_win_percent  \n",
       "HomeTeam                         \n",
       "Aachen                 0.230769  \n",
       "Arsenal                0.571429  \n",
       "Aston Villa            0.166667  \n",
       "Augsburg               0.363636  \n",
       "Bayern Munich          0.727273  "
      ]
     },
     "execution_count": 57,
     "metadata": {},
     "output_type": "execute_result"
    }
   ],
   "source": [
    "final_df.head()"
   ]
  },
  {
   "cell_type": "markdown",
   "metadata": {},
   "source": [
    "### Create \"histograms\" aka bar charts - I would argue that these aren't really histograms"
   ]
  },
  {
   "cell_type": "code",
   "execution_count": 58,
   "metadata": {},
   "outputs": [],
   "source": [
    "import matplotlib.pyplot as plt"
   ]
  },
  {
   "cell_type": "code",
   "execution_count": 59,
   "metadata": {},
   "outputs": [
    {
     "name": "stderr",
     "output_type": "stream",
     "text": [
      "/Users/stuartmurphy/anaconda3/lib/python3.7/site-packages/ipykernel_launcher.py:3: RuntimeWarning: More than 20 figures have been opened. Figures created through the pyplot interface (`matplotlib.pyplot.figure`) are retained until explicitly closed and may consume too much memory. (To control this warning, see the rcParam `figure.max_open_warning`).\n",
      "  This is separate from the ipykernel package so we can avoid doing imports until\n"
     ]
    },
    {
     "data": {
      "image/png": "[encoded data removed]",
      "text/plain": [
       "<Figure size 432x288 with 1 Axes>"
      ]
     },
     "metadata": {
      "needs_background": "light"
     },
     "output_type": "display_data"
    },
    {
     "data": {
      "image/png": "[encoded data removed]",
      "text/plain": [
       "<Figure size 432x288 with 1 Axes>"
      ]
     },
     "metadata": {
      "needs_background": "light"
     },
     "output_type": "display_data"
    },
    {
     "data": {
      "image/png": "[encoded data removed]",
      "text/plain": [
       "<Figure size 432x288 with 1 Axes>"
      ]
     },
     "metadata": {
      "needs_background": "light"
     },
     "output_type": "display_data"
    },
    {
     "data": {
      "image/png": "[encoded data removed]",
      "text/plain": [
       "<Figure size 432x288 with 1 Axes>"
      ]
     },
     "metadata": {
      "needs_background": "light"
     },
     "output_type": "display_data"
    },
    {
     "data": {
      "image/png": "[encoded data removed]",
      "text/plain": [
       "<Figure size 432x288 with 1 Axes>"
      ]
     },
     "metadata": {
      "needs_background": "light"
     },
     "output_type": "display_data"
    },
    {
     "data": {
      "image/png": "[encoded data removed]",
      "text/plain": [
       "<Figure size 432x288 with 1 Axes>"
      ]
     },
     "metadata": {
      "needs_background": "light"
     },
     "output_type": "display_data"
    },
    {
     "data": {
      "image/png": "[encoded data removed]",
      "text/plain": [
       "<Figure size 432x288 with 1 Axes>"
      ]
     },
     "metadata": {
      "needs_background": "light"
     },
     "output_type": "display_data"
    },
    {
     "data": {
      "image/png": "[encoded data removed]",
      "text/plain": [
       "<Figure size 432x288 with 1 Axes>"
      ]
     },
     "metadata": {
      "needs_background": "light"
     },
     "output_type": "display_data"
    },
    {
     "data": {
      "image/png": "[encoded data removed]",
      "text/plain": [
       "<Figure size 432x288 with 1 Axes>"
      ]
     },
     "metadata": {
      "needs_background": "light"
     },
     "output_type": "display_data"
    },
    {
     "data": {
      "image/png": "[encoded data removed]",
      "text/plain": [
       "<Figure size 432x288 with 1 Axes>"
      ]
     },
     "metadata": {
      "needs_background": "light"
     },
     "output_type": "display_data"
    },
    {
     "data": {
      "image/png": "[encoded data removed]",
      "text/plain": [
       "<Figure size 432x288 with 1 Axes>"
      ]
     },
     "metadata": {
      "needs_background": "light"
     },
     "output_type": "display_data"
    },
    {
     "data": {
      "image/png": "[encoded data removed]",
      "text/plain": [
       "<Figure size 432x288 with 1 Axes>"
      ]
     },
     "metadata": {
      "needs_background": "light"
     },
     "output_type": "display_data"
    },
    {
     "data": {
      "image/png": "[encoded data removed]",
      "text/plain": [
       "<Figure size 432x288 with 1 Axes>"
      ]
     },
     "metadata": {
      "needs_background": "light"
     },
     "output_type": "display_data"
    },
    {
     "data": {
      "image/png": "[encoded data removed]",
      "text/plain": [
       "<Figure size 432x288 with 1 Axes>"
      ]
     },
     "metadata": {
      "needs_background": "light"
     },
     "output_type": "display_data"
    },
    {
     "data": {
      "image/png": "[encoded data removed]",
      "text/plain": [
       "<Figure size 432x288 with 1 Axes>"
      ]
     },
     "metadata": {
      "needs_background": "light"
     },
     "output_type": "display_data"
    },
    {
     "data": {
      "image/png": "[encoded data removed]",
      "text/plain": [
       "<Figure size 432x288 with 1 Axes>"
      ]
     },
     "metadata": {
      "needs_background": "light"
     },
     "output_type": "display_data"
    },
    {
     "data": {
      "image/png": "[encoded data removed]",
      "text/plain": [
       "<Figure size 432x288 with 1 Axes>"
      ]
     },
     "metadata": {
      "needs_background": "light"
     },
     "output_type": "display_data"
    },
    {
     "data": {
      "image/png": "[encoded data removed]",
      "text/plain": [
       "<Figure size 432x288 with 1 Axes>"
      ]
     },
     "metadata": {
      "needs_background": "light"
     },
     "output_type": "display_data"
    },
    {
     "data": {
      "image/png": "[encoded data removed]",
      "text/plain": [
       "<Figure size 432x288 with 1 Axes>"
      ]
     },
     "metadata": {
      "needs_background": "light"
     },
     "output_type": "display_data"
    },
    {
     "data": {
      "image/png": "[encoded data removed]",
      "text/plain": [
       "<Figure size 432x288 with 1 Axes>"
      ]
     },
     "metadata": {
      "needs_background": "light"
     },
     "output_type": "display_data"
    },
    {
     "data": {
      "image/png": "[encoded data removed]",
      "text/plain": [
       "<Figure size 432x288 with 1 Axes>"
      ]
     },
     "metadata": {
      "needs_background": "light"
     },
     "output_type": "display_data"
    },
    {
     "data": {
      "image/png": "[encoded data removed]",
      "text/plain": [
       "<Figure size 432x288 with 1 Axes>"
      ]
     },
     "metadata": {
      "needs_background": "light"
     },
     "output_type": "display_data"
    },
    {
     "data": {
      "image/png": "[encoded data removed]",
      "text/plain": [
       "<Figure size 432x288 with 1 Axes>"
      ]
     },
     "metadata": {
      "needs_background": "light"
     },
     "output_type": "display_data"
    },
    {
     "data": {
      "image/png": "[encoded data removed]",
      "text/plain": [
       "<Figure size 432x288 with 1 Axes>"
      ]
     },
     "metadata": {
      "needs_background": "light"
     },
     "output_type": "display_data"
    },
    {
     "data": {
      "image/png": "[encoded data removed]",
      "text/plain": [
       "<Figure size 432x288 with 1 Axes>"
      ]
     },
     "metadata": {
      "needs_background": "light"
     },
     "output_type": "display_data"
    },
    {
     "data": {
      "image/png": "[encoded data removed]",
      "text/plain": [
       "<Figure size 432x288 with 1 Axes>"
      ]
     },
     "metadata": {
      "needs_background": "light"
     },
     "output_type": "display_data"
    },
    {
     "data": {
      "image/png": "[encoded data removed]",
      "text/plain": [
       "<Figure size 432x288 with 1 Axes>"
      ]
     },
     "metadata": {
      "needs_background": "light"
     },
     "output_type": "display_data"
    },
    {
     "data": {
      "image/png": "[encoded data removed]",
      "text/plain": [
       "<Figure size 432x288 with 1 Axes>"
      ]
     },
     "metadata": {
      "needs_background": "light"
     },
     "output_type": "display_data"
    },
    {
     "data": {
      "image/png": "[encoded data removed]",
      "text/plain": [
       "<Figure size 432x288 with 1 Axes>"
      ]
     },
     "metadata": {
      "needs_background": "light"
     },
     "output_type": "display_data"
    },
    {
     "data": {
      "image/png": "[encoded data removed]",
      "text/plain": [
       "<Figure size 432x288 with 1 Axes>"
      ]
     },
     "metadata": {
      "needs_background": "light"
     },
     "output_type": "display_data"
    },
    {
     "data": {
      "image/png": "[encoded data removed]",
      "text/plain": [
       "<Figure size 432x288 with 1 Axes>"
      ]
     },
     "metadata": {
      "needs_background": "light"
     },
     "output_type": "display_data"
    },
    {
     "data": {
      "image/png": "[encoded data removed]",
      "text/plain": [
       "<Figure size 432x288 with 1 Axes>"
      ]
     },
     "metadata": {
      "needs_background": "light"
     },
     "output_type": "display_data"
    },
    {
     "data": {
      "image/png": "[encoded data removed]",
      "text/plain": [
       "<Figure size 432x288 with 1 Axes>"
      ]
     },
     "metadata": {
      "needs_background": "light"
     },
     "output_type": "display_data"
    },
    {
     "data": {
      "image/png": "[encoded data removed]",
      "text/plain": [
       "<Figure size 432x288 with 1 Axes>"
      ]
     },
     "metadata": {
      "needs_background": "light"
     },
     "output_type": "display_data"
    },
    {
     "data": {
      "image/png": "[encoded data removed]",
      "text/plain": [
       "<Figure size 432x288 with 1 Axes>"
      ]
     },
     "metadata": {
      "needs_background": "light"
     },
     "output_type": "display_data"
    },
    {
     "data": {
      "image/png": "[encoded data removed]",
      "text/plain": [
       "<Figure size 432x288 with 1 Axes>"
      ]
     },
     "metadata": {
      "needs_background": "light"
     },
     "output_type": "display_data"
    },
    {
     "data": {
      "image/png": "[encoded data removed]",
      "text/plain": [
       "<Figure size 432x288 with 1 Axes>"
      ]
     },
     "metadata": {
      "needs_background": "light"
     },
     "output_type": "display_data"
    },
    {
     "data": {
      "image/png": "[encoded data removed]",
      "text/plain": [
       "<Figure size 432x288 with 1 Axes>"
      ]
     },
     "metadata": {
      "needs_background": "light"
     },
     "output_type": "display_data"
    },
    {
     "data": {
      "image/png": "[encoded data removed]",
      "text/plain": [
       "<Figure size 432x288 with 1 Axes>"
      ]
     },
     "metadata": {
      "needs_background": "light"
     },
     "output_type": "display_data"
    },
    {
     "data": {
      "image/png": "[encoded data removed]",
      "text/plain": [
       "<Figure size 432x288 with 1 Axes>"
      ]
     },
     "metadata": {
      "needs_background": "light"
     },
     "output_type": "display_data"
    },
    {
     "data": {
      "image/png": "[encoded data removed]",
      "text/plain": [
       "<Figure size 432x288 with 1 Axes>"
      ]
     },
     "metadata": {
      "needs_background": "light"
     },
     "output_type": "display_data"
    },
    {
     "data": {
      "image/png": "[encoded data removed]",
      "text/plain": [
       "<Figure size 432x288 with 1 Axes>"
      ]
     },
     "metadata": {
      "needs_background": "light"
     },
     "output_type": "display_data"
    },
    {
     "data": {
      "image/png": "[encoded data removed]",
      "text/plain": [
       "<Figure size 432x288 with 1 Axes>"
      ]
     },
     "metadata": {
      "needs_background": "light"
     },
     "output_type": "display_data"
    },
    {
     "data": {
      "image/png": "[encoded data removed]",
      "text/plain": [
       "<Figure size 432x288 with 1 Axes>"
      ]
     },
     "metadata": {
      "needs_background": "light"
     },
     "output_type": "display_data"
    },
    {
     "data": {
      "image/png": "[encoded data removed]",
      "text/plain": [
       "<Figure size 432x288 with 1 Axes>"
      ]
     },
     "metadata": {
      "needs_background": "light"
     },
     "output_type": "display_data"
    },
    {
     "data": {
      "image/png": "[encoded data removed]",
      "text/plain": [
       "<Figure size 432x288 with 1 Axes>"
      ]
     },
     "metadata": {
      "needs_background": "light"
     },
     "output_type": "display_data"
    },
    {
     "data": {
      "image/png": "[encoded data removed]",
      "text/plain": [
       "<Figure size 432x288 with 1 Axes>"
      ]
     },
     "metadata": {
      "needs_background": "light"
     },
     "output_type": "display_data"
    },
    {
     "data": {
      "image/png": "[encoded data removed]",
      "text/plain": [
       "<Figure size 432x288 with 1 Axes>"
      ]
     },
     "metadata": {
      "needs_background": "light"
     },
     "output_type": "display_data"
    },
    {
     "data": {
      "image/png": "[encoded data removed]",
      "text/plain": [
       "<Figure size 432x288 with 1 Axes>"
      ]
     },
     "metadata": {
      "needs_background": "light"
     },
     "output_type": "display_data"
    },
    {
     "data": {
      "image/png": "[encoded data removed]",
      "text/plain": [
       "<Figure size 432x288 with 1 Axes>"
      ]
     },
     "metadata": {
      "needs_background": "light"
     },
     "output_type": "display_data"
    },
    {
     "data": {
      "image/png": "[encoded data removed]",
      "text/plain": [
       "<Figure size 432x288 with 1 Axes>"
      ]
     },
     "metadata": {
      "needs_background": "light"
     },
     "output_type": "display_data"
    },
    {
     "data": {
      "image/png": "[encoded data removed]",
      "text/plain": [
       "<Figure size 432x288 with 1 Axes>"
      ]
     },
     "metadata": {
      "needs_background": "light"
     },
     "output_type": "display_data"
    },
    {
     "data": {
      "image/png": "[encoded data removed]",
      "text/plain": [
       "<Figure size 432x288 with 1 Axes>"
      ]
     },
     "metadata": {
      "needs_background": "light"
     },
     "output_type": "display_data"
    },
    {
     "data": {
      "image/png": "[encoded data removed]",
      "text/plain": [
       "<Figure size 432x288 with 1 Axes>"
      ]
     },
     "metadata": {
      "needs_background": "light"
     },
     "output_type": "display_data"
    },
    {
     "data": {
      "image/png": "[encoded data removed]",
      "text/plain": [
       "<Figure size 432x288 with 1 Axes>"
      ]
     },
     "metadata": {
      "needs_background": "light"
     },
     "output_type": "display_data"
    },
    {
     "data": {
      "image/png": "[encoded data removed]",
      "text/plain": [
       "<Figure size 432x288 with 1 Axes>"
      ]
     },
     "metadata": {
      "needs_background": "light"
     },
     "output_type": "display_data"
    }
   ],
   "source": [
    "win_loss_graphs = []\n",
    "for count, team in enumerate(final_df.index):\n",
    "    fig = plt.figure(count)\n",
    "    (plt.bar(x = ['wins', 'losses'], height = [final_df.loc[team, 'wins'], final_df.loc[team, 'losses']], \n",
    "            color = ['red', 'blue']))\n",
    "    win_loss_graphs.append(fig)"
   ]
  },
  {
   "cell_type": "code",
   "execution_count": 60,
   "metadata": {},
   "outputs": [
    {
     "data": {
      "text/plain": [
       "matplotlib.figure.Figure"
      ]
     },
     "execution_count": 60,
     "metadata": {},
     "output_type": "execute_result"
    }
   ],
   "source": [
    "type(win_loss_graphs[0])"
   ]
  },
  {
   "cell_type": "markdown",
   "metadata": {},
   "source": [
    "#### Now we need to convert this list to binary or bson, so it can be read into a Mongo database"
   ]
  },
  {
   "cell_type": "code",
   "execution_count": 61,
   "metadata": {},
   "outputs": [],
   "source": [
    "binarized_figs = []\n",
    "for item in win_loss_graphs:\n",
    "    item.savefig('myfile.png')\n",
    "    with open(\"myfile.png\", \"rb\") as image:\n",
    "        f = image.read()\n",
    "    binarized_figs.append(f)"
   ]
  },
  {
   "cell_type": "code",
   "execution_count": 62,
   "metadata": {},
   "outputs": [],
   "source": [
    "final_df['graph'] = binarized_figs"
   ]
  },
  {
   "cell_type": "code",
   "execution_count": 63,
   "metadata": {},
   "outputs": [
    {
     "data": {
      "text/html": [
       "<div>\n",
       "<style scoped>\n",
       "    .dataframe tbody tr th:only-of-type {\n",
       "        vertical-align: middle;\n",
       "    }\n",
       "\n",
       "    .dataframe tbody tr th {\n",
       "        vertical-align: top;\n",
       "    }\n",
       "\n",
       "    .dataframe thead th {\n",
       "        text-align: right;\n",
       "    }\n",
       "</style>\n",
       "<table border=\"1\" class=\"dataframe\">\n",
       "  <thead>\n",
       "    <tr style=\"text-align: right;\">\n",
       "      <th></th>\n",
       "      <th>wins</th>\n",
       "      <th>draws</th>\n",
       "      <th>losses</th>\n",
       "      <th>goals</th>\n",
       "      <th>wins_rain</th>\n",
       "      <th>rainfall_bool</th>\n",
       "      <th>rain_win_percent</th>\n",
       "      <th>graph</th>\n",
       "    </tr>\n",
       "    <tr>\n",
       "      <th>HomeTeam</th>\n",
       "      <th></th>\n",
       "      <th></th>\n",
       "      <th></th>\n",
       "      <th></th>\n",
       "      <th></th>\n",
       "      <th></th>\n",
       "      <th></th>\n",
       "      <th></th>\n",
       "    </tr>\n",
       "  </thead>\n",
       "  <tbody>\n",
       "    <tr>\n",
       "      <th>Aachen</th>\n",
       "      <td>6</td>\n",
       "      <td>13</td>\n",
       "      <td>15</td>\n",
       "      <td>30</td>\n",
       "      <td>3</td>\n",
       "      <td>13.0</td>\n",
       "      <td>0.230769</td>\n",
       "      <td>b'\\x89PNG\\r\\n\\x1a\\n\\x00\\x00\\x00\\rIHDR\\x00\\x00\\...</td>\n",
       "    </tr>\n",
       "    <tr>\n",
       "      <th>Arsenal</th>\n",
       "      <td>21</td>\n",
       "      <td>7</td>\n",
       "      <td>10</td>\n",
       "      <td>74</td>\n",
       "      <td>8</td>\n",
       "      <td>14.0</td>\n",
       "      <td>0.571429</td>\n",
       "      <td>b'\\x89PNG\\r\\n\\x1a\\n\\x00\\x00\\x00\\rIHDR\\x00\\x00\\...</td>\n",
       "    </tr>\n",
       "    <tr>\n",
       "      <th>Aston Villa</th>\n",
       "      <td>7</td>\n",
       "      <td>17</td>\n",
       "      <td>14</td>\n",
       "      <td>37</td>\n",
       "      <td>2</td>\n",
       "      <td>12.0</td>\n",
       "      <td>0.166667</td>\n",
       "      <td>b'\\x89PNG\\r\\n\\x1a\\n\\x00\\x00\\x00\\rIHDR\\x00\\x00\\...</td>\n",
       "    </tr>\n",
       "    <tr>\n",
       "      <th>Augsburg</th>\n",
       "      <td>8</td>\n",
       "      <td>14</td>\n",
       "      <td>12</td>\n",
       "      <td>36</td>\n",
       "      <td>4</td>\n",
       "      <td>11.0</td>\n",
       "      <td>0.363636</td>\n",
       "      <td>b'\\x89PNG\\r\\n\\x1a\\n\\x00\\x00\\x00\\rIHDR\\x00\\x00\\...</td>\n",
       "    </tr>\n",
       "    <tr>\n",
       "      <th>Bayern Munich</th>\n",
       "      <td>23</td>\n",
       "      <td>4</td>\n",
       "      <td>7</td>\n",
       "      <td>77</td>\n",
       "      <td>8</td>\n",
       "      <td>11.0</td>\n",
       "      <td>0.727273</td>\n",
       "      <td>b'\\x89PNG\\r\\n\\x1a\\n\\x00\\x00\\x00\\rIHDR\\x00\\x00\\...</td>\n",
       "    </tr>\n",
       "  </tbody>\n",
       "</table>\n",
       "</div>"
      ],
      "text/plain": [
       "               wins  draws  losses  goals  wins_rain  rainfall_bool  \\\n",
       "HomeTeam                                                              \n",
       "Aachen            6     13      15     30          3           13.0   \n",
       "Arsenal          21      7      10     74          8           14.0   \n",
       "Aston Villa       7     17      14     37          2           12.0   \n",
       "Augsburg          8     14      12     36          4           11.0   \n",
       "Bayern Munich    23      4       7     77          8           11.0   \n",
       "\n",
       "               rain_win_percent  \\\n",
       "HomeTeam                          \n",
       "Aachen                 0.230769   \n",
       "Arsenal                0.571429   \n",
       "Aston Villa            0.166667   \n",
       "Augsburg               0.363636   \n",
       "Bayern Munich          0.727273   \n",
       "\n",
       "                                                           graph  \n",
       "HomeTeam                                                          \n",
       "Aachen         b'\\x89PNG\\r\\n\\x1a\\n\\x00\\x00\\x00\\rIHDR\\x00\\x00\\...  \n",
       "Arsenal        b'\\x89PNG\\r\\n\\x1a\\n\\x00\\x00\\x00\\rIHDR\\x00\\x00\\...  \n",
       "Aston Villa    b'\\x89PNG\\r\\n\\x1a\\n\\x00\\x00\\x00\\rIHDR\\x00\\x00\\...  \n",
       "Augsburg       b'\\x89PNG\\r\\n\\x1a\\n\\x00\\x00\\x00\\rIHDR\\x00\\x00\\...  \n",
       "Bayern Munich  b'\\x89PNG\\r\\n\\x1a\\n\\x00\\x00\\x00\\rIHDR\\x00\\x00\\...  "
      ]
     },
     "execution_count": 63,
     "metadata": {},
     "output_type": "execute_result"
    }
   ],
   "source": [
    "final_df.head()"
   ]
  },
  {
   "cell_type": "markdown",
   "metadata": {},
   "source": [
    "### Reset index so the Team Name is properly stored"
   ]
  },
  {
   "cell_type": "code",
   "execution_count": 64,
   "metadata": {},
   "outputs": [],
   "source": [
    "final_df.reset_index(inplace = True)"
   ]
  },
  {
   "cell_type": "code",
   "execution_count": 65,
   "metadata": {},
   "outputs": [
    {
     "data": {
      "text/html": [
       "<div>\n",
       "<style scoped>\n",
       "    .dataframe tbody tr th:only-of-type {\n",
       "        vertical-align: middle;\n",
       "    }\n",
       "\n",
       "    .dataframe tbody tr th {\n",
       "        vertical-align: top;\n",
       "    }\n",
       "\n",
       "    .dataframe thead th {\n",
       "        text-align: right;\n",
       "    }\n",
       "</style>\n",
       "<table border=\"1\" class=\"dataframe\">\n",
       "  <thead>\n",
       "    <tr style=\"text-align: right;\">\n",
       "      <th></th>\n",
       "      <th>HomeTeam</th>\n",
       "      <th>wins</th>\n",
       "      <th>draws</th>\n",
       "      <th>losses</th>\n",
       "      <th>goals</th>\n",
       "      <th>wins_rain</th>\n",
       "      <th>rainfall_bool</th>\n",
       "      <th>rain_win_percent</th>\n",
       "      <th>graph</th>\n",
       "    </tr>\n",
       "  </thead>\n",
       "  <tbody>\n",
       "    <tr>\n",
       "      <th>0</th>\n",
       "      <td>Aachen</td>\n",
       "      <td>6</td>\n",
       "      <td>13</td>\n",
       "      <td>15</td>\n",
       "      <td>30</td>\n",
       "      <td>3</td>\n",
       "      <td>13.0</td>\n",
       "      <td>0.230769</td>\n",
       "      <td>b'\\x89PNG\\r\\n\\x1a\\n\\x00\\x00\\x00\\rIHDR\\x00\\x00\\...</td>\n",
       "    </tr>\n",
       "    <tr>\n",
       "      <th>1</th>\n",
       "      <td>Arsenal</td>\n",
       "      <td>21</td>\n",
       "      <td>7</td>\n",
       "      <td>10</td>\n",
       "      <td>74</td>\n",
       "      <td>8</td>\n",
       "      <td>14.0</td>\n",
       "      <td>0.571429</td>\n",
       "      <td>b'\\x89PNG\\r\\n\\x1a\\n\\x00\\x00\\x00\\rIHDR\\x00\\x00\\...</td>\n",
       "    </tr>\n",
       "    <tr>\n",
       "      <th>2</th>\n",
       "      <td>Aston Villa</td>\n",
       "      <td>7</td>\n",
       "      <td>17</td>\n",
       "      <td>14</td>\n",
       "      <td>37</td>\n",
       "      <td>2</td>\n",
       "      <td>12.0</td>\n",
       "      <td>0.166667</td>\n",
       "      <td>b'\\x89PNG\\r\\n\\x1a\\n\\x00\\x00\\x00\\rIHDR\\x00\\x00\\...</td>\n",
       "    </tr>\n",
       "    <tr>\n",
       "      <th>3</th>\n",
       "      <td>Augsburg</td>\n",
       "      <td>8</td>\n",
       "      <td>14</td>\n",
       "      <td>12</td>\n",
       "      <td>36</td>\n",
       "      <td>4</td>\n",
       "      <td>11.0</td>\n",
       "      <td>0.363636</td>\n",
       "      <td>b'\\x89PNG\\r\\n\\x1a\\n\\x00\\x00\\x00\\rIHDR\\x00\\x00\\...</td>\n",
       "    </tr>\n",
       "    <tr>\n",
       "      <th>4</th>\n",
       "      <td>Bayern Munich</td>\n",
       "      <td>23</td>\n",
       "      <td>4</td>\n",
       "      <td>7</td>\n",
       "      <td>77</td>\n",
       "      <td>8</td>\n",
       "      <td>11.0</td>\n",
       "      <td>0.727273</td>\n",
       "      <td>b'\\x89PNG\\r\\n\\x1a\\n\\x00\\x00\\x00\\rIHDR\\x00\\x00\\...</td>\n",
       "    </tr>\n",
       "  </tbody>\n",
       "</table>\n",
       "</div>"
      ],
      "text/plain": [
       "        HomeTeam  wins  draws  losses  goals  wins_rain  rainfall_bool  \\\n",
       "0         Aachen     6     13      15     30          3           13.0   \n",
       "1        Arsenal    21      7      10     74          8           14.0   \n",
       "2    Aston Villa     7     17      14     37          2           12.0   \n",
       "3       Augsburg     8     14      12     36          4           11.0   \n",
       "4  Bayern Munich    23      4       7     77          8           11.0   \n",
       "\n",
       "   rain_win_percent                                              graph  \n",
       "0          0.230769  b'\\x89PNG\\r\\n\\x1a\\n\\x00\\x00\\x00\\rIHDR\\x00\\x00\\...  \n",
       "1          0.571429  b'\\x89PNG\\r\\n\\x1a\\n\\x00\\x00\\x00\\rIHDR\\x00\\x00\\...  \n",
       "2          0.166667  b'\\x89PNG\\r\\n\\x1a\\n\\x00\\x00\\x00\\rIHDR\\x00\\x00\\...  \n",
       "3          0.363636  b'\\x89PNG\\r\\n\\x1a\\n\\x00\\x00\\x00\\rIHDR\\x00\\x00\\...  \n",
       "4          0.727273  b'\\x89PNG\\r\\n\\x1a\\n\\x00\\x00\\x00\\rIHDR\\x00\\x00\\...  "
      ]
     },
     "execution_count": 65,
     "metadata": {},
     "output_type": "execute_result"
    }
   ],
   "source": [
    "final_df.head()"
   ]
  },
  {
   "cell_type": "markdown",
   "metadata": {},
   "source": [
    "### Put our records in our Mongo database with PyMongo"
   ]
  },
  {
   "cell_type": "code",
   "execution_count": 66,
   "metadata": {},
   "outputs": [],
   "source": [
    "import pymongo"
   ]
  },
  {
   "cell_type": "code",
   "execution_count": 67,
   "metadata": {},
   "outputs": [],
   "source": [
    "#Start db\n",
    "myclient = pymongo.MongoClient('mongodb://127.0.0.1:27017')\n",
    "mydb = myclient['team_database']\n",
    "mycollection = mydb['matches_collection']"
   ]
  },
  {
   "cell_type": "code",
   "execution_count": 68,
   "metadata": {},
   "outputs": [],
   "source": [
    "#Prep records for db\n",
    "final_dict = final_df.to_dict(orient = 'records')"
   ]
  },
  {
   "cell_type": "code",
   "execution_count": 69,
   "metadata": {},
   "outputs": [
    {
     "data": {
      "text/plain": [
       "{'HomeTeam': 'Aachen',\n",
       " 'wins': 6,\n",
       " 'draws': 13,\n",
       " 'losses': 15,\n",
       " 'goals': 30,\n",
       " 'wins_rain': 3,\n",
       " 'rainfall_bool': 13.0,\n",
       " 'rain_win_percent': 0.23076923076923078,\n",
       " 'graph': b'\\x89PNG\\r\\n\\x1a\\n\\x00\\x00\\x00\\rIHDR\\x00\\x00\\x01\\xb0\\x00\\x00\\x01 \\x08\\x06\\x00\\x00\\x00\\xd5(&i\\x00\\x00\\x00\\x04sBIT\\x08\\x08\\x08\\x08|\\x08d\\x88\\x00\\x00\\x00\\tpHYs\\x00\\x00\\x0b\\x12\\x00\\x00\\x0b\\x12\\x01\\xd2\\xdd~\\xfc\\x00\\x00\\x008tEXtSoftware\\x00matplotlib version3.1.0, http://matplotlib.org/\\xb5\\xed\\x87\\x17\\x00\\x00\\x11\\x17IDATx\\x9c\\xed\\xdc}h\\x95\\xf5\\xff\\xc7\\xf1\\xd7\\xf9:5\\xf2&\\x137\\x9dN\\x9bb\\xe5t\\xba\\xa3;f+w\\xf2nj\"\\x86w\\xe0\\xb0h\\xde\\xb4\\x12\\x8b2\\x12\\xea?)E[Fe\\x05r\\xc2\\xcc;\\xa6\\xd8\\x1f\\x19\\xdd\\x8c\\xcc\"-\\x8d\\xba\\x9a\\xdda\\x9a\\xd8\\x16\\xdb\\x9cy,\\xcd{\\xd6\\xb6\\xcf\\xf7\\x8f/\\xc9O\\xa7\\xe5\\xcf\\x9b}\\xae\\xb7>\\x1f0p\\xd7\\xae\\xb9\\xd7\\x81\\xe3\\x9e\\\\\\xd7\\x99\\x8b8\\xe7\\x9c\\x00\\x000\\xe6?\\xbe\\x07\\x00\\x00p)\\x08\\x18\\x00\\xc0$\\x02\\x06\\x000\\x89\\x80\\x01\\x00L\"`\\x00\\x00\\x93\\x08\\x18\\x00\\xc0$\\x02\\x06\\x000\\x89\\x80\\x01\\x00L\"`\\x00\\x00\\x93\\x08\\x18\\x00\\xc0$\\x02\\x06\\x000\\x89\\x80\\x01\\x00L\"`\\x00\\x00\\x93\\x08\\x18\\x00\\xc0$\\x02\\x06\\x000\\x89\\x80\\x01\\x00L\"`\\x00\\x00\\x93\\x08\\x18\\x00\\xc0$\\x02\\x06\\x000\\x89\\x80\\x01\\x00L\"`\\x00\\x00\\x93\\x08\\x18\\x00\\xc0$\\x02\\x06\\x000\\x89\\x80\\x01\\x00L\"`\\x00\\x00\\x93\\x08\\x18\\x00\\xc0$\\x02\\x06\\x000\\x89\\x80\\x01\\x00L\"`\\x00\\x00\\x93\\x08\\x18\\x00\\xc0$\\x02\\x06\\x000\\x89\\x80\\x01\\x00L\"`\\x00\\x00\\x93\\x08\\x18\\x00\\xc0\\xa4\\x14\\xdf\\x03\\xae\\x96N\\x9d:)33\\xd3\\xf7\\x0c\\x000\\xa5\\xb2\\xb2R\\x87\\x0e\\x1d\\xf2=\\xe3\\xa2\\\\\\xb3\\x01\\xcb\\xcc\\xccT\\x10\\x04\\xbeg\\x00\\x80)\\xb1X\\xcc\\xf7\\x84\\x8b\\xc6-D\\x00\\x80I\\x04\\x0c\\x00`\\x12\\x01\\x03\\x00\\x98D\\xc0\\x00\\x00&\\x110\\x00\\x80I\\x04\\x0c\\x00`\\x12\\x01\\x03\\x00\\x98D\\xc0\\x00\\x00&]\\xb3\\xff\\x91\\x19\\xb8\\x96E\"\\xbe\\x17 \\xcc\\x9c\\xf3\\xbd\\xa0yp\\x05\\x06\\x000\\x89\\x80\\x01\\x00L\"`\\x00\\x00\\x93\\x08\\x18\\x00\\xc0$\\x02\\x06\\x000\\x89\\x80\\x01\\x00L\"`\\x00\\x00\\x93\\x08\\x18\\x00\\xc0$\\x02\\x06\\x000)t\\x01\\x9b9s\\xa6\\xd2\\xd2\\xd2\\x94\\x9d\\x9d\\xdd\\xe4cK\\x97.U$\\x12\\xd1\\xa1C\\x87<,\\x03\\x00\\x84I\\xe8\\x02VTT\\xa4\\xb2\\xb2\\xb2&\\xc7\\xab\\xaa\\xaa\\xb4y\\xf3f\\xf5\\xe8\\xd1\\xc3\\xc3*\\x00@\\xd8\\x84.`\\xf1x\\\\\\x1d;vlr|\\xde\\xbcy*))Q\\x84_\\x02\\x07\\x00P\\x08\\x03v>\\xef\\xbe\\xfb\\xae\\xbau\\xeb\\xa6\\x9c\\x9c\\x1c\\xdfS\\x00\\x00!\\x11\\xfa\\xdfF\\x7f\\xf2\\xe4I-Z\\xb4H\\x1f}\\xf4\\xd1\\xbf\\x9e\\x9bH$\\x94H$$I\\xc9d\\xf2jO\\x03\\x00x\\x14\\xfa+\\xb0}\\xfb\\xf6\\xa9\\xa2\\xa2B999\\xca\\xcc\\xccTuu\\xb5\\x06\\r\\x1a\\xa4\\x03\\x07\\x0e49\\xb7\\xb8\\xb8XA\\x10(\\x08\\x02\\xa5\\xa6\\xa6zX\\x0b\\x00h.\\xa1\\xbf\\x02\\xeb\\xdf\\xbf\\xbf\\x0e\\x1e<x\\xe6\\xfd\\xcc\\xccL\\x05A\\xa0N\\x9d:y\\\\\\x05\\x00\\xf0-tW`\\x85\\x85\\x85\\xca\\xcb\\xcb\\xd3\\x9e={\\x94\\x91\\x91\\xa1\\x15+V\\xf8\\x9e\\x04\\x00\\x08\\xa1\\xd0]\\x81\\x95\\x96\\x96\\xfe\\xe3\\xc7+++\\x9bg\\x08\\x00 \\xd4Bw\\x05\\x06\\x00\\xc0\\xc5 `\\x00\\x00\\x93\\x08\\x18\\x00\\xc0$\\x02\\x06\\x000\\x89\\x80\\x01\\x00L\"`\\x00\\x00\\x93\\x08\\x18\\x00\\xc0$\\x02\\x06\\x000\\x89\\x80\\x01\\x00L\"`\\x00\\x00\\x93\\x08\\x18\\x00\\xc0$\\x02\\x06\\x000\\x89\\x80\\x01\\x00L\"`\\x00\\x00\\x93\\x08\\x18\\x00\\xc0$\\x02\\x06\\x000\\x89\\x80\\x01\\x00L\"`\\x00\\x00\\x93B\\x15\\xb0\\x993g*--M\\xd9\\xd9\\xd9g\\x8e\\xcd\\x9f?_}\\xfa\\xf4\\xd1\\x80\\x01\\x034q\\xe2D\\x1d9r\\xc4\\xe3B\\x00@X\\x84*`EEE*++;\\xebXAA\\x81~\\xfc\\xf1G}\\xff\\xfd\\xf7\\xba\\xed\\xb6\\xdb\\xb4x\\xf1bO\\xeb\\x00\\x00a\\x12\\xaa\\x80\\xc5\\xe3qu\\xec\\xd8\\xf1\\xacc\\xa3G\\x8fVJJ\\x8a$\\xe9\\xce;\\xefTuu\\xb5\\x8fi\\x00\\x80\\x90\\tU\\xc0\\xfe\\xcd\\x9bo\\xbe\\xa9{\\xef\\xbd\\xd7\\xf7\\x0c\\x00@\\x08\\xa4\\xf8\\x1ep\\xb1\\x16-Z\\xa4\\x94\\x94\\x14M\\x9f>\\xfd\\x82\\xe7$\\x12\\t%\\x12\\tIR2\\x99l\\xaei\\x00\\x00\\x0fL\\\\\\x81\\xadZ\\xb5J\\xef\\xbd\\xf7\\x9e\\xd6\\xad[\\xa7H$r\\xc1\\xf3\\x8a\\x8b\\x8b\\x15\\x04\\x81\\x82 Pjjj3.\\x04\\x004\\xb7\\xd0_\\x81\\x95\\x95\\x95\\xe9\\xf9\\xe7\\x9f\\xd7g\\x9f}\\xa6\\x1bo\\xbc\\xd1\\xf7\\x1c\\x00@H\\x84\\xea\\n\\xac\\xb0\\xb0Pyyy\\xda\\xb3g\\x8f222\\xb4b\\xc5\\n=\\xfa\\xe8\\xa3:v\\xec\\x98\\n\\n\\n\\x14\\x8dF\\xf5\\xc8#\\x8f\\xf8\\x9e\\t\\x00\\x08\\x81P]\\x81\\x95\\x96\\x96696k\\xd6,\\x0fK\\x00\\x00a\\x17\\xaa+0\\x00\\x00.\\x16\\x01\\x03\\x00\\x98D\\xc0\\x00\\x00&\\x110\\x00\\x80I\\x04\\x0c\\x00`\\x12\\x01\\x03\\x00\\x98D\\xc0\\x00\\x00&\\x110\\x00\\x80I\\x04\\x0c\\x00`\\x12\\x01\\x03\\x00\\x98D\\xc0\\x00\\x00&\\x110\\x00\\x80I\\x04\\x0c\\x00`\\x12\\x01\\x03\\x00\\x98D\\xc0\\x00\\x00&\\x110\\x00\\x80I\\x04\\x0c\\x00`\\x12\\x01\\x03\\x00\\x98D\\xc0\\x00\\x00&\\x85.`3g\\xceTZZ\\x9a\\xb2\\xb3\\xb3\\xcf\\x1c\\xfb\\xe3\\x8f?TPP\\xa0[o\\xbdU\\x05\\x05\\x05:|\\xf8\\xb0\\xc7\\x85\\x00\\x800\\x08]\\xc0\\x8a\\x8a\\x8aTVVv\\xd6\\xb1%K\\x96h\\xe4\\xc8\\x91\\xda\\xbbw\\xafF\\x8e\\x1c\\xa9%K\\x96xZ\\x07\\x00\\x08\\x8b\\xd0\\x05,\\x1e\\x8f\\xabc\\xc7\\x8eg\\x1d\\xdb\\xb4i\\x93\\x1e|\\xf0AI\\xd2\\x83\\x0f>\\xa8w\\xdey\\xc7\\xc74\\x00@\\x88\\x84.`\\xe7\\xf3\\xdbo\\xbf)==]\\x92\\x94\\x9e\\x9e\\xae\\x83\\x07\\x0fz^\\x04\\x00\\xf0-\\xc5\\xf7\\x80+)\\x91H(\\x91HH\\x92\\x92\\xc9\\xa4\\xe75\\x00\\x80\\xab\\xc9\\xc4\\x15X\\xe7\\xce\\x9dU[[+I\\xaa\\xad\\xadUZZ\\xday\\xcf+..V\\x10\\x04\\n\\x82@\\xa9\\xa9\\xa9\\xcd9\\x11\\x00\\xd0\\xccL\\x04l\\xc2\\x84\\tZ\\xb5j\\x95$i\\xd5\\xaaU\\xba\\xef\\xbe\\xfb</\\x02\\x00\\xf8\\x16\\xba\\x80\\x15\\x16\\x16*//O{\\xf6\\xecQFF\\x86V\\xacX\\xa1\\xa7\\x9f~Z\\x9b7o\\xd6\\xad\\xb7\\xde\\xaa\\xcd\\x9b7\\xeb\\xe9\\xa7\\x9f\\xf6=\\x13\\x00\\xe0Y\\xe8^\\x03+--=\\xef\\xf1-[\\xb64\\xf3\\x12\\x00@\\x98\\x85\\xee\\n\\x0c\\x00\\x80\\x8bA\\xc0\\x00\\x00&\\x110\\x00\\x80I\\x04\\x0c\\x00`\\x12\\x01\\x03\\x00\\x98D\\xc0\\x00\\x00&\\x110\\x00\\x80I\\x04\\x0c\\x00`\\x12\\x01\\x03\\x00\\x98D\\xc0\\x00\\x00&\\x110\\x00\\x80I\\x04\\x0c\\x00`\\x12\\x01\\x03\\x00\\x98D\\xc0\\x00\\x00&\\x110\\x00\\x80I\\x04\\x0c\\x00`\\x12\\x01\\x03\\x00\\x98D\\xc0\\x00\\x00&\\x110\\x00\\x80If\\x02\\xf6\\xd2K/\\xa9_\\xbf~\\xca\\xce\\xceVaa\\xa1N\\x9f>\\xed{\\x12\\x00\\xc0#\\x13\\x01\\xab\\xa9\\xa9\\xd1\\xb2e\\xcb\\x14\\x04\\x81~\\xfc\\xf1G544h\\xfd\\xfa\\xf5\\xbeg\\x01\\x00<2\\x110I\\xaa\\xaf\\xaf\\xd7\\xa9S\\xa7T__\\xaf\\x93\\'O\\xaak\\xd7\\xae\\xbe\\'\\x01\\x00<2\\x11\\xb0n\\xdd\\xba\\xe9\\xa9\\xa7\\x9eR\\x8f\\x1e=\\x94\\x9e\\x9e\\xae\\x9bn\\xbaI\\xa3G\\x8f\\xf6=\\x0b\\x00\\xe0\\x91\\x89\\x80\\x1d>|X\\x9b6mREE\\x85\\xf6\\xef\\xdf\\xaf\\x13\\'Nh\\xed\\xda\\xb5M\\xceK$\\x12\\x8a\\xc5b\\x8a\\xc5bJ&\\x93\\x1e\\x96\\x02\\x00\\x9a\\x8b\\x89\\x80}\\xfc\\xf1\\xc7\\xea\\xd9\\xb3\\xa7RSS\\xd5\\xb2eKM\\x9a4I\\xdb\\xb7oor^qq\\xb1\\x82 P\\x10\\x04JMM\\xf5\\xb0\\x14\\x00\\xd0\\\\L\\x04\\xacG\\x8f\\x1e\\xfa\\xf2\\xcb/u\\xf2\\xe4I9\\xe7\\xb4e\\xcb\\x16eee\\xf9\\x9e\\x05\\x00\\xf0\\xc8D\\xc0\\x86\\x0c\\x19\\xa2)S\\xa6h\\xd0\\xa0A\\xea\\xdf\\xbf\\xbf\\x1a\\x1b\\x1bU\\\\\\\\\\xec{\\x16\\x00\\xc0\\xa3\\x88s\\xce\\xf9\\x1eq5\\xc4b1\\x05A\\xe0{\\x06pUD\"\\xbe\\x17 \\xcc.\\xe7\\xbb\\xba\\xa5\\xef\\x9d&\\xae\\xc0\\x00\\x008\\x17\\x01\\x03\\x00\\x98D\\xc0\\x00\\x00&\\x110\\x00\\x80I\\x04\\x0c\\x00`\\x12\\x01\\x03\\x00\\x98D\\xc0\\x00\\x00&\\x110\\x00\\x80I\\x04\\x0c\\x00`\\x12\\x01\\x03\\x00\\x98D\\xc0\\x00\\x00&\\x110\\x00\\x80I\\x04\\x0c\\x00`\\x12\\x01\\x03\\x00\\x98D\\xc0\\x00\\x00&\\x110\\x00\\x80I\\x04\\x0c\\x00`\\x12\\x01\\x03\\x00\\x98d&`G\\x8e\\x1c\\xd1\\x94)S\\xd4\\xa7O\\x1feeei\\xc7\\x8e\\x1d\\xbe\\'\\x01\\x00<J\\xf1=\\xe0b=\\xfe\\xf8\\xe3\\x1a;v\\xac\\xde~\\xfbm\\xd5\\xd5\\xd5\\xe9\\xe4\\xc9\\x93\\xbe\\'\\x01\\x00<2\\x11\\xb0\\xa3G\\x8fj\\xeb\\xd6\\xadz\\xeb\\xad\\xb7$I\\xadZ\\xb5R\\xabV\\xad\\xfc\\x8e\\x02\\x00xe\\xe2\\x16\\xe2/\\xbf\\xfc\\xa2\\xd4\\xd4T\\xcd\\x981C\\x03\\x07\\x0e\\xd4\\xec\\xd9\\xb3u\\xe2\\xc4\\t\\xdf\\xb3\\x00\\x00\\x1e\\x99\\x08X}}\\xbd\\xca\\xcb\\xcb5g\\xce\\x1c\\xed\\xdc\\xb9Sm\\xda\\xb4\\xd1\\x92%K\\x9a\\x9c\\x97H$\\x14\\x8b\\xc5\\x14\\x8b\\xc5\\x94L&/\\xfd\\x0bF\"\\xbc\\xf1v\\xfe7\\x00\\xa1a\"`\\x19\\x19\\x19\\xca\\xc8\\xc8\\xd0\\x90!C$IS\\xa6LQyyy\\x93\\xf3\\x8a\\x8b\\x8b\\x15\\x04\\x81\\x82 Pjjjs\\xcf\\x04\\x004#\\x13\\x01\\xeb\\xd2\\xa5\\x8b\\xbaw\\xef\\xae={\\xf6H\\x92\\xb6l\\xd9\\xa2\\xbe}\\xfbz^\\x05\\x00\\xf0\\xc9\\xc4\\x0fqH\\xd2\\xab\\xaf\\xbe\\xaa\\xe9\\xd3\\xa7\\xab\\xae\\xaeN\\xbdz\\xf5\\xd2\\xca\\x95+}O\\x02\\x00xd&`\\xd1hTA\\x10\\xf8\\x9e\\x01\\x00\\x08\\t\\x13\\xb7\\x10\\x01\\x008\\x17\\x01\\x03\\x00\\x98D\\xc0\\x00\\x00&\\x110\\x00\\x80I\\x04\\x0c\\x00`\\x12\\x01\\x03\\x00\\x98D\\xc0\\x00\\x00&\\x110\\x00\\x80I\\x04\\x0c\\x00`\\x12\\x01\\x03\\x00\\x98D\\xc0\\x00\\x00&\\x110\\x00\\x80I\\x04\\x0c\\x00`\\x12\\x01\\x03\\x00\\x98D\\xc0\\x00\\x00&\\x110\\x00\\x80I\\x04\\x0c\\x00`\\x12\\x01\\x03\\x00\\x98D\\xc0\\x00\\x00&\\x99\\nXCC\\x83\\x06\\x0e\\x1c\\xa8\\xf1\\xe3\\xc7\\xfb\\x9e\\x02\\x00\\xf0\\xccT\\xc0^y\\xe5\\x15eee\\xf9\\x9e\\x01\\x00\\x08\\x013\\x01\\xab\\xae\\xae\\xd6\\xfb\\xef\\xbf\\xaf\\xd9\\xb3g\\xfb\\x9e\\x02\\x00\\x08\\x013\\x01{\\xe2\\x89\\'TRR\\xa2\\xff\\xfc\\xc7\\xccd\\x00\\xc0Ud\\xa2\\x06\\xef\\xbd\\xf7\\x9e\\xd2\\xd2\\xd2\\x94\\x9b\\x9b\\xfb\\x8f\\xe7%\\x12\\t\\xc5b1\\xc5b1%\\x93\\xc9fZ\\x07\\x00\\xf0!\\xe2\\x9cs\\xbeG\\xfc\\x9bg\\x9eyFk\\xd6\\xacQJJ\\x8aN\\x9f>\\xad\\xa3G\\x8fj\\xd2\\xa4IZ\\xbbv\\xed\\x05?\\'\\x16\\x8b)\\x08\\x82K\\xfb\\x82\\x91\\xc8%.\\xc55/$\\xff\\\\x\\x8a\\xe2\\x9f\\\\\\xce\\xd3\\xf4\\xb2\\xbew63\\x13W`\\x8b\\x17/Vuu\\xb5*++\\xb5~\\xfdz\\x8d\\x181\\xe2\\x1f\\xe3\\x05\\x00\\xb8\\xf6\\x99\\x08\\x18\\x00\\x00\\xe7J\\xf1=\\xe0\\xffk\\xd8\\xb0a\\x1a6l\\x98\\xef\\x19\\x00\\x00\\xcf\\xb8\\x02\\x03\\x00\\x98D\\xc0\\x00\\x00&\\x110\\x00\\x80I\\x04\\x0c\\x00`\\x12\\x01\\x03\\x00\\x98D\\xc0\\x00\\x00&\\x110\\x00\\x80I\\x04\\x0c\\x00`\\x12\\x01\\x03\\x00\\x98D\\xc0\\x00\\x00&\\x110\\x00\\x80I\\x04\\x0c\\x00`\\x12\\x01\\x03\\x00\\x98D\\xc0\\x00\\x00&\\x110\\x00\\x80I\\x04\\x0c\\x00`\\x12\\x01\\x03\\x00\\x98D\\xc0\\x00\\x00&\\x99\\x08XUU\\x95\\x86\\x0f\\x1f\\xae\\xac\\xac,\\xf5\\xeb\\xd7O\\xaf\\xbc\\xf2\\x8a\\xefI\\x00\\x00\\xcfR|\\x0f\\xb8\\x18)))z\\xf1\\xc5\\x175h\\xd0 \\x1d;vL\\xb9\\xb9\\xb9*((P\\xdf\\xbe}}O\\x03\\x00xb\\xe2\\n,==]\\x83\\x06\\r\\x92$\\xb5k\\xd7NYYY\\xaa\\xa9\\xa9\\xf1\\xbc\\n\\x00\\xe0\\x93\\x89\\x80\\xfd_\\x95\\x95\\x95\\xda\\xb9s\\xa7\\x86\\x0c\\x19\\xe2{\\n\\x00\\xc0#\\x13\\xb7\\x10\\xffv\\xfc\\xf8qM\\x9e<Y/\\xbf\\xfc\\xb2\\xda\\xb7o\\xdf\\xe4\\xe3\\x89DB\\x89DB\\x92\\x94L&\\x9b{\\x1e\\x00\\xa0\\x19E\\x9cs\\xce\\xf7\\x88\\x8b\\xf1\\xd7_\\x7fi\\xfc\\xf8\\xf1\\x1a3f\\x8c\\x9e|\\xf2\\xc9\\x7f=?\\x16\\x8b)\\x08\\x82K\\xfbb\\x91\\xc8\\xa5}\\x1e\\xae}!\\xf9\\xe7\\xc2S\\x14\\xff\\xe4r\\x9e\\xa6\\x97\\xf5\\xbd\\xb3\\x99\\x99\\xb8\\x85\\xe8\\x9c\\xd3\\xacY\\xb3\\x94\\x95\\x95uQ\\xf1\\x02\\x00\\\\\\xfbL\\x04\\xec\\x8b/\\xbe\\xd0\\x9a5k\\xf4\\xc9\\'\\x9f(\\x1a\\x8d*\\x1a\\x8d\\xea\\x83\\x0f>\\xf0=\\x0b\\x00\\xe0\\x91\\x89\\xd7\\xc0\\x86\\x0e\\x1d*#w:\\x01\\x00\\xcd\\xc4\\xc4\\x15\\x18\\x00\\x00\\xe7\"`\\x00\\x00\\x93\\x08\\x18\\x00\\xc0$\\x02\\x06\\x000\\x89\\x80\\x01\\x00L\"`\\x00\\x00\\x93\\x08\\x18\\x00\\xc0$\\x02\\x06\\x000\\x89\\x80\\x01\\x00L\"`\\x00\\x00\\x93\\x08\\x18\\x00\\xc0$\\x02\\x06\\x000\\x89\\x80\\x01\\x00L\"`\\x00\\x00\\x93\\x08\\x18\\x00\\xc0$\\x02\\x06\\x000\\x89\\x80\\x01\\x00L\"`\\x00\\x00\\x93\\x08\\x18\\x00\\xc0$3\\x01+++\\xd3\\xed\\xb7\\xdf\\xae\\xde\\xbd{k\\xc9\\x92%\\xbe\\xe7\\x00\\x00<3\\x11\\xb0\\x86\\x86\\x06\\xcd\\x9d;W\\x1f~\\xf8\\xa1v\\xed\\xda\\xa5\\xd2\\xd2R\\xed\\xda\\xb5\\xcb\\xf7,\\x00\\x80G&\\x02\\xf6\\xd5W_\\xa9w\\xef\\xde\\xea\\xd5\\xab\\x97Z\\xb5j\\xa5i\\xd3\\xa6i\\xd3\\xa6M\\xbeg\\x01\\x00<2\\x11\\xb0\\x9a\\x9a\\x1au\\xef\\xde\\xfd\\xcc\\xfb\\x19\\x19\\x19\\xaa\\xa9\\xa9\\xf1\\xb8\\x08\\x00\\xe0[\\x8a\\xef\\x01\\x17\\xc39\\xd7\\xe4X$\\x12ir,\\x91H(\\x91HH\\x92v\\xef\\xde\\xadX,vi_07\\xf7\\xd2>\\xef\\x1a\\x95L&\\x95\\x9a\\x9a\\xea{F8\\\\\\xeas\\xea\\n\\xe3)z6\\x9e\\xa3g\\xbb\\x9c\\xa7iee\\xe5\\x15\\xdbq\\xb5\\x99\\x08XFF\\x86\\xaa\\xaa\\xaa\\xce\\xbc_]]\\xad\\xae]\\xbb69\\xaf\\xb8\\xb8X\\xc5\\xc5\\xc5\\xcd9\\xed\\xba\\x10\\x8b\\xc5\\x14\\x04\\x81\\xef\\x19\\xc0\\x05\\xf1\\x1c\\xbd>\\x99\\xb8\\x858x\\xf0`\\xed\\xdd\\xbbW\\x15\\x15\\x15\\xaa\\xab\\xab\\xd3\\xfa\\xf5\\xeb5a\\xc2\\x04\\xdf\\xb3\\x00\\x00\\x1e\\x99\\xb8\\x02KII\\xd1k\\xaf\\xbd\\xa61c\\xc6\\xa8\\xa1\\xa1A3g\\xceT\\xbf~\\xfd|\\xcf\\x02\\x00xd\"`\\x924n\\xdc8\\x8d\\x1b7\\xce\\xf7\\x8c\\xeb\\x12\\xb7e\\x11v<G\\xafO\\x11w\\xbe\\x9f\\x90\\x00\\x00 \\xe4L\\xbc\\x06\\x06\\x00\\xc0\\xb9\\x08\\x18\\xcek\\xdc\\xb8q:r\\xe4\\x88\\xef\\x19\\xb8\\xce\\xb4m\\xdb\\xd6\\xf7\\x04\\x18\\xc2-D\\x00\\xa1\\xd1\\xb6m[\\x1d?~\\xdc\\xf7\\x0c\\x18\\xc1\\x15\\xd8u\\xaa\\xa4\\xa4D\\xcb\\x96-\\x93$\\xcd\\x9b7O#F\\x8c\\x90$m\\xd9\\xb2E\\xf7\\xdf\\x7f\\xbf233u\\xe8\\xd0!UVV*++K\\x0f=\\xf4\\x90\\xfa\\xf5\\xeb\\xa7\\xd1\\xa3G\\xeb\\xd4\\xa9S\\x92\\xa4e\\xcb\\x96\\xa9o\\xdf\\xbe\\x1a0`\\x80\\xa6M\\x9b\\xe6\\xed\\xb1\\xe0\\xda\\xe3\\x9c\\xd3\\xfc\\xf9\\xf3\\x95\\x9d\\x9d\\xad\\xfe\\xfd\\xfbk\\xc3\\x86\\r\\x92\\xa4\\xda\\xdaZ\\xc5\\xe3qE\\xa3Qeggk\\xdb\\xb6mjhhPQQ\\xd1\\x99s_z\\xe9%I\\xd2\\xbe}\\xfb4v\\xecX\\xe5\\xe6\\xe6*??_\\xbbw\\xef\\x96$m\\xdc\\xb8Q\\xd9\\xd9\\xd9\\xca\\xc9\\xc9Q<\\x1e\\xf7\\xf6\\x18q\\x058\\\\\\x97v\\xec\\xd8\\xe1\\xa6L\\x99\\xe2\\x9csn\\xe8\\xd0\\xa1n\\xf0\\xe0\\xc1\\xae\\xae\\xae\\xce-X\\xb0\\xc0-_\\xbe\\xdc\\xddr\\xcb-.\\x99L\\xba\\x8a\\x8a\\n\\xd7\\xa2E\\x0b\\xb7s\\xe7N\\xe7\\x9csS\\xa7Nuk\\xd6\\xacq\\xce9\\x97\\x9e\\x9e\\xeeN\\x9f>\\xed\\x9cs\\xee\\xf0\\xe1\\xc3~\\x1e\\x08\\xae)m\\xda\\xb4q\\xce9\\xf7\\xf6\\xdbo\\xbbQ\\xa3F\\xb9\\xfa\\xfazw\\xe0\\xc0\\x01\\xd7\\xbd{w\\xb7\\x7f\\xff~\\xb7t\\xe9R\\xb7p\\xe1B\\xe7\\x9cs\\xf5\\xf5\\xf5\\xee\\xe8\\xd1\\xa3.\\x08\\x027j\\xd4\\xa83\\x7f\\xc7\\xdf\\xcf\\xc5\\x11#F\\xb8\\x9f\\x7f\\xfe\\xd99\\xe7\\xdc\\x97_~\\xe9\\x86\\x0f\\x1f\\xee\\x9cs.;;\\xdbUWW\\x9fu.l\\xe2\\n\\xec:\\x95\\x9b\\x9b\\xabo\\xbe\\xf9F\\xc7\\x8e\\x1dS\\xeb\\xd6\\xad\\x95\\x97\\x97\\xa7 \\x08\\xb4m\\xdb6\\xe5\\xe7\\xe7\\x9fun\\xcf\\x9e=\\x15\\x8dF\\xcf|\\xde\\xdf\\xbfjf\\xc0\\x80\\x01\\x9a>}\\xba\\xd6\\xae]\\xab\\x94\\x143\\xff#\\x03\\x06|\\xfe\\xf9\\xe7*,,T\\x8b\\x16-\\xd4\\xb9sg\\xdds\\xcf=\\xfa\\xfa\\xeb\\xaf5x\\xf0`\\xad\\\\\\xb9R\\x0b\\x16,\\xd0\\x0f?\\xfc\\xa0v\\xed\\xda\\xa9W\\xaf^\\xfa\\xe5\\x97_\\xf4\\xd8c\\x8f\\xa9\\xac\\xacL\\xed\\xdb\\xb7\\xd7\\xf1\\xe3\\xc7\\xb5}\\xfbvM\\x9d:U\\xd1hT\\x0f?\\xfc\\xb0jkk%Iw\\xdf}\\xb7\\x8a\\x8a\\x8a\\xf4\\xc6\\x1bo\\xa8\\xa1\\xa1\\xc1\\xf3#\\xc5\\xe5 `\\xd7\\xa9\\x96-[*33S+W\\xae\\xd4]w\\xdd\\xa5\\xfc\\xfc|}\\xfa\\xe9\\xa7\\xda\\xb7o\\x9f\\xb2\\xb2\\xb2\\xce:\\xb7u\\xeb\\xd6g\\xfe\\xdc\\xa2E\\x0b\\xd5\\xd7\\xd7K\\x92\\xde\\x7f\\xff}\\xcd\\x9d;W\\xdf|\\xf3\\x8drss\\xcf\\x1c\\x07.\\x97\\xbb\\xc0K\\xf3\\xf1x\\\\[\\xb7nU\\xb7n\\xdd\\xf4\\xc0\\x03\\x0fh\\xf5\\xea\\xd5\\xba\\xf9\\xe6\\x9b\\xf5\\xddw\\xdfi\\xd8\\xb0az\\xfd\\xf5\\xd75{\\xf6l566\\xaaC\\x87\\x0e\\xfa\\xf6\\xdbo\\xcf\\xbc\\xfd\\xf4\\xd3O\\x92\\xa4\\xe5\\xcb\\x97k\\xe1\\xc2\\x85\\xaa\\xaa\\xaaR4\\x1a\\xd5\\xef\\xbf\\xff\\xde\\x9c\\x0f\\rW\\x10\\x01\\xbb\\x8e\\xc5\\xe3q-]\\xbaT\\xf1x\\\\\\xf9\\xf9\\xf9Z\\xbe|\\xb9\\xa2\\xd1\\xe8y\\x7fQ\\xf2\\xb9\\x1a\\x1b\\x1bUUU\\xa5\\xe1\\xc3\\x87\\xab\\xa4\\xa4DG\\x8e\\x1c\\xe1\\xc5w\\\\1\\xf1x\\\\\\x1b6lPCC\\x83\\x92\\xc9\\xa4\\xb6n\\xdd\\xaa;\\xee\\xb8C\\xbf\\xfe\\xfa\\xab\\xd2\\xd2\\xd2\\xf4\\xd0C\\x0fi\\xd6\\xacY*//\\xd7\\xa1C\\x87\\xd4\\xd8\\xd8\\xa8\\xc9\\x93\\'\\xeb\\xb9\\xe7\\x9eSyy\\xb9\\xda\\xb7o\\xaf\\x9e={j\\xe3\\xc6\\x8d\\x92\\xfe\\x17\\xc4\\xef\\xbe\\xfbN\\xd2\\xff^\\x1b\\x1b2d\\x88\\x9e}\\xf6Yu\\xea\\xd4\\xe9\\xac\\xdf\\xb3\\n[\\xb8\\xefs\\x1d\\xcb\\xcf\\xcf\\xd7\\xa2E\\x8b\\x94\\x97\\x97\\xa76m\\xda\\xe8\\x86\\x1bnhr\\xfb\\xf0B\\x1a\\x1a\\x1at\\xff\\xfd\\xf7\\xeb\\xcf?\\xff\\x94sN\\xf3\\xe6\\xcdS\\x87\\x0e\\x1d\\xae\\xf2b\\\\/&N\\x9c\\xa8\\x1d;v(\\'\\'G\\x91HD%%%\\xea\\xd2\\xa5\\x8bV\\xadZ\\xa5\\x17^xA-[\\xb6T\\xdb\\xb6m\\xb5z\\xf5j\\xd5\\xd4\\xd4h\\xc6\\x8c\\x19jll\\x94$-^\\xbcX\\x92\\xb4n\\xdd:\\xcd\\x993G\\x0b\\x17.\\xd4_\\x7f\\xfd\\xa5i\\xd3\\xa6)\\'\\'G\\xf3\\xe7\\xcf\\xd7\\xde\\xbd{\\xe5\\x9c\\xd3\\xc8\\x91#\\x95\\x93\\x93\\xe3\\xf3\\xa1\\xe22\\xf0c\\xf4\\x00\\x00\\x93\\xb8\\x85\\x08\\x000\\x89\\x80\\x01\\x00L\"`\\x00\\x00\\x93\\x08\\x18\\x00\\xc0$\\x02\\x06\\x000\\x89\\x80\\x01\\x00L\"`\\x00\\x00\\x93\\x08\\x18\\x00\\xc0$\\x02\\x06\\x000\\x89\\x80\\x01\\x00L\"`\\x00\\x00\\x93\\x08\\x18\\x00\\xc0$\\x02\\x06\\x000\\x89\\x80\\x01\\x00L\"`\\x00\\x00\\x93\\x08\\x18\\x00\\xc0$\\x02\\x06\\x000\\x89\\x80\\x01\\x00L\"`\\x00\\x00\\x93\\x08\\x18\\x00\\xc0\\xa4\\xff\\x02\\x9c\\x1d=\\x8a\\x9a\\xdcl\\xce\\x00\\x00\\x00\\x00IEND\\xaeB`\\x82'}"
      ]
     },
     "execution_count": 69,
     "metadata": {},
     "output_type": "execute_result"
    }
   ],
   "source": [
    "final_dict[0]"
   ]
  },
  {
   "cell_type": "code",
   "execution_count": 70,
   "metadata": {
    "scrolled": true
   },
   "outputs": [
    {
     "data": {
      "text/plain": [
       "[ObjectId('5dfa952217db7b73d38261a8'),\n",
       " ObjectId('5dfa952217db7b73d38261a9'),\n",
       " ObjectId('5dfa952217db7b73d38261aa'),\n",
       " ObjectId('5dfa952217db7b73d38261ab'),\n",
       " ObjectId('5dfa952217db7b73d38261ac'),\n",
       " ObjectId('5dfa952217db7b73d38261ad'),\n",
       " ObjectId('5dfa952217db7b73d38261ae'),\n",
       " ObjectId('5dfa952217db7b73d38261af'),\n",
       " ObjectId('5dfa952217db7b73d38261b0'),\n",
       " ObjectId('5dfa952217db7b73d38261b1'),\n",
       " ObjectId('5dfa952217db7b73d38261b2'),\n",
       " ObjectId('5dfa952217db7b73d38261b3'),\n",
       " ObjectId('5dfa952217db7b73d38261b4'),\n",
       " ObjectId('5dfa952217db7b73d38261b5'),\n",
       " ObjectId('5dfa952217db7b73d38261b6'),\n",
       " ObjectId('5dfa952217db7b73d38261b7'),\n",
       " ObjectId('5dfa952217db7b73d38261b8'),\n",
       " ObjectId('5dfa952217db7b73d38261b9'),\n",
       " ObjectId('5dfa952217db7b73d38261ba'),\n",
       " ObjectId('5dfa952217db7b73d38261bb'),\n",
       " ObjectId('5dfa952217db7b73d38261bc'),\n",
       " ObjectId('5dfa952217db7b73d38261bd'),\n",
       " ObjectId('5dfa952217db7b73d38261be'),\n",
       " ObjectId('5dfa952217db7b73d38261bf'),\n",
       " ObjectId('5dfa952217db7b73d38261c0'),\n",
       " ObjectId('5dfa952217db7b73d38261c1'),\n",
       " ObjectId('5dfa952217db7b73d38261c2'),\n",
       " ObjectId('5dfa952217db7b73d38261c3'),\n",
       " ObjectId('5dfa952217db7b73d38261c4'),\n",
       " ObjectId('5dfa952217db7b73d38261c5'),\n",
       " ObjectId('5dfa952217db7b73d38261c6'),\n",
       " ObjectId('5dfa952217db7b73d38261c7'),\n",
       " ObjectId('5dfa952217db7b73d38261c8'),\n",
       " ObjectId('5dfa952217db7b73d38261c9'),\n",
       " ObjectId('5dfa952217db7b73d38261ca'),\n",
       " ObjectId('5dfa952217db7b73d38261cb'),\n",
       " ObjectId('5dfa952217db7b73d38261cc'),\n",
       " ObjectId('5dfa952217db7b73d38261cd'),\n",
       " ObjectId('5dfa952217db7b73d38261ce'),\n",
       " ObjectId('5dfa952217db7b73d38261cf'),\n",
       " ObjectId('5dfa952217db7b73d38261d0'),\n",
       " ObjectId('5dfa952217db7b73d38261d1'),\n",
       " ObjectId('5dfa952217db7b73d38261d2'),\n",
       " ObjectId('5dfa952217db7b73d38261d3'),\n",
       " ObjectId('5dfa952217db7b73d38261d4'),\n",
       " ObjectId('5dfa952217db7b73d38261d5'),\n",
       " ObjectId('5dfa952217db7b73d38261d6'),\n",
       " ObjectId('5dfa952217db7b73d38261d7'),\n",
       " ObjectId('5dfa952217db7b73d38261d8'),\n",
       " ObjectId('5dfa952217db7b73d38261d9'),\n",
       " ObjectId('5dfa952217db7b73d38261da'),\n",
       " ObjectId('5dfa952217db7b73d38261db'),\n",
       " ObjectId('5dfa952217db7b73d38261dc'),\n",
       " ObjectId('5dfa952217db7b73d38261dd'),\n",
       " ObjectId('5dfa952217db7b73d38261de'),\n",
       " ObjectId('5dfa952217db7b73d38261df')]"
      ]
     },
     "execution_count": 70,
     "metadata": {},
     "output_type": "execute_result"
    }
   ],
   "source": [
    "#Add records to db\n",
    "insertion_results = mycollection.insert_many(final_dict)\n",
    "insertion_results.inserted_ids"
   ]
  },
  {
   "cell_type": "code",
   "execution_count": 71,
   "metadata": {},
   "outputs": [],
   "source": [
    "# Call db\n",
    "get_db = myclient.get_database('team_database')\n",
    "\n",
    "my_matches = get_db.get_collection('matches_collection')"
   ]
  },
  {
   "cell_type": "code",
   "execution_count": 72,
   "metadata": {},
   "outputs": [
    {
     "data": {
      "text/plain": [
       "Collection(Database(MongoClient(host=['127.0.0.1:27017'], document_class=dict, tz_aware=False, connect=True), 'team_database'), 'matches_collection')"
      ]
     },
     "execution_count": 72,
     "metadata": {},
     "output_type": "execute_result"
    }
   ],
   "source": [
    "my_matches"
   ]
  },
  {
   "cell_type": "code",
   "execution_count": 73,
   "metadata": {},
   "outputs": [],
   "source": [
    "cursor = my_matches\n",
    "\n",
    "rebuild_df = []\n",
    "for document in cursor.find():\n",
    "    rebuild_df.append(document)"
   ]
  },
  {
   "cell_type": "code",
   "execution_count": 74,
   "metadata": {
    "scrolled": true
   },
   "outputs": [],
   "source": [
    "df_back = pd.DataFrame(rebuild_df)"
   ]
  },
  {
   "cell_type": "code",
   "execution_count": 75,
   "metadata": {
    "scrolled": true
   },
   "outputs": [
    {
     "data": {
      "text/html": [
       "<div>\n",
       "<style scoped>\n",
       "    .dataframe tbody tr th:only-of-type {\n",
       "        vertical-align: middle;\n",
       "    }\n",
       "\n",
       "    .dataframe tbody tr th {\n",
       "        vertical-align: top;\n",
       "    }\n",
       "\n",
       "    .dataframe thead th {\n",
       "        text-align: right;\n",
       "    }\n",
       "</style>\n",
       "<table border=\"1\" class=\"dataframe\">\n",
       "  <thead>\n",
       "    <tr style=\"text-align: right;\">\n",
       "      <th></th>\n",
       "      <th>HomeTeam</th>\n",
       "      <th>_id</th>\n",
       "      <th>draws</th>\n",
       "      <th>goals</th>\n",
       "      <th>graph</th>\n",
       "      <th>losses</th>\n",
       "      <th>rain_win_percent</th>\n",
       "      <th>rainfall_bool</th>\n",
       "      <th>wins</th>\n",
       "      <th>wins_rain</th>\n",
       "    </tr>\n",
       "  </thead>\n",
       "  <tbody>\n",
       "    <tr>\n",
       "      <th>0</th>\n",
       "      <td>Aachen</td>\n",
       "      <td>5dfa952217db7b73d38261a8</td>\n",
       "      <td>13</td>\n",
       "      <td>30</td>\n",
       "      <td>b'\\x89PNG\\r\\n\\x1a\\n\\x00\\x00\\x00\\rIHDR\\x00\\x00\\...</td>\n",
       "      <td>15</td>\n",
       "      <td>0.230769</td>\n",
       "      <td>13.0</td>\n",
       "      <td>6</td>\n",
       "      <td>3</td>\n",
       "    </tr>\n",
       "    <tr>\n",
       "      <th>1</th>\n",
       "      <td>Arsenal</td>\n",
       "      <td>5dfa952217db7b73d38261a9</td>\n",
       "      <td>7</td>\n",
       "      <td>74</td>\n",
       "      <td>b'\\x89PNG\\r\\n\\x1a\\n\\x00\\x00\\x00\\rIHDR\\x00\\x00\\...</td>\n",
       "      <td>10</td>\n",
       "      <td>0.571429</td>\n",
       "      <td>14.0</td>\n",
       "      <td>21</td>\n",
       "      <td>8</td>\n",
       "    </tr>\n",
       "    <tr>\n",
       "      <th>2</th>\n",
       "      <td>Aston Villa</td>\n",
       "      <td>5dfa952217db7b73d38261aa</td>\n",
       "      <td>17</td>\n",
       "      <td>37</td>\n",
       "      <td>b'\\x89PNG\\r\\n\\x1a\\n\\x00\\x00\\x00\\rIHDR\\x00\\x00\\...</td>\n",
       "      <td>14</td>\n",
       "      <td>0.166667</td>\n",
       "      <td>12.0</td>\n",
       "      <td>7</td>\n",
       "      <td>2</td>\n",
       "    </tr>\n",
       "    <tr>\n",
       "      <th>3</th>\n",
       "      <td>Augsburg</td>\n",
       "      <td>5dfa952217db7b73d38261ab</td>\n",
       "      <td>14</td>\n",
       "      <td>36</td>\n",
       "      <td>b'\\x89PNG\\r\\n\\x1a\\n\\x00\\x00\\x00\\rIHDR\\x00\\x00\\...</td>\n",
       "      <td>12</td>\n",
       "      <td>0.363636</td>\n",
       "      <td>11.0</td>\n",
       "      <td>8</td>\n",
       "      <td>4</td>\n",
       "    </tr>\n",
       "    <tr>\n",
       "      <th>4</th>\n",
       "      <td>Bayern Munich</td>\n",
       "      <td>5dfa952217db7b73d38261ac</td>\n",
       "      <td>4</td>\n",
       "      <td>77</td>\n",
       "      <td>b'\\x89PNG\\r\\n\\x1a\\n\\x00\\x00\\x00\\rIHDR\\x00\\x00\\...</td>\n",
       "      <td>7</td>\n",
       "      <td>0.727273</td>\n",
       "      <td>11.0</td>\n",
       "      <td>23</td>\n",
       "      <td>8</td>\n",
       "    </tr>\n",
       "    <tr>\n",
       "      <th>5</th>\n",
       "      <td>Blackburn</td>\n",
       "      <td>5dfa952217db7b73d38261ad</td>\n",
       "      <td>7</td>\n",
       "      <td>48</td>\n",
       "      <td>b'\\x89PNG\\r\\n\\x1a\\n\\x00\\x00\\x00\\rIHDR\\x00\\x00\\...</td>\n",
       "      <td>23</td>\n",
       "      <td>0.100000</td>\n",
       "      <td>10.0</td>\n",
       "      <td>8</td>\n",
       "      <td>1</td>\n",
       "    </tr>\n",
       "    <tr>\n",
       "      <th>6</th>\n",
       "      <td>Bochum</td>\n",
       "      <td>5dfa952217db7b73d38261ae</td>\n",
       "      <td>7</td>\n",
       "      <td>41</td>\n",
       "      <td>b'\\x89PNG\\r\\n\\x1a\\n\\x00\\x00\\x00\\rIHDR\\x00\\x00\\...</td>\n",
       "      <td>17</td>\n",
       "      <td>0.272727</td>\n",
       "      <td>11.0</td>\n",
       "      <td>10</td>\n",
       "      <td>3</td>\n",
       "    </tr>\n",
       "    <tr>\n",
       "      <th>7</th>\n",
       "      <td>Bolton</td>\n",
       "      <td>5dfa952217db7b73d38261af</td>\n",
       "      <td>6</td>\n",
       "      <td>46</td>\n",
       "      <td>b'\\x89PNG\\r\\n\\x1a\\n\\x00\\x00\\x00\\rIHDR\\x00\\x00\\...</td>\n",
       "      <td>22</td>\n",
       "      <td>0.333333</td>\n",
       "      <td>12.0</td>\n",
       "      <td>10</td>\n",
       "      <td>4</td>\n",
       "    </tr>\n",
       "    <tr>\n",
       "      <th>8</th>\n",
       "      <td>Braunschweig</td>\n",
       "      <td>5dfa952217db7b73d38261b0</td>\n",
       "      <td>15</td>\n",
       "      <td>37</td>\n",
       "      <td>b'\\x89PNG\\r\\n\\x1a\\n\\x00\\x00\\x00\\rIHDR\\x00\\x00\\...</td>\n",
       "      <td>9</td>\n",
       "      <td>0.444444</td>\n",
       "      <td>9.0</td>\n",
       "      <td>10</td>\n",
       "      <td>4</td>\n",
       "    </tr>\n",
       "    <tr>\n",
       "      <th>9</th>\n",
       "      <td>Chelsea</td>\n",
       "      <td>5dfa952217db7b73d38261b1</td>\n",
       "      <td>10</td>\n",
       "      <td>65</td>\n",
       "      <td>b'\\x89PNG\\r\\n\\x1a\\n\\x00\\x00\\x00\\rIHDR\\x00\\x00\\...</td>\n",
       "      <td>10</td>\n",
       "      <td>0.615385</td>\n",
       "      <td>13.0</td>\n",
       "      <td>18</td>\n",
       "      <td>8</td>\n",
       "    </tr>\n",
       "    <tr>\n",
       "      <th>10</th>\n",
       "      <td>Cottbus</td>\n",
       "      <td>5dfa952217db7b73d38261b2</td>\n",
       "      <td>11</td>\n",
       "      <td>30</td>\n",
       "      <td>b'\\x89PNG\\r\\n\\x1a\\n\\x00\\x00\\x00\\rIHDR\\x00\\x00\\...</td>\n",
       "      <td>15</td>\n",
       "      <td>0.300000</td>\n",
       "      <td>10.0</td>\n",
       "      <td>8</td>\n",
       "      <td>3</td>\n",
       "    </tr>\n",
       "    <tr>\n",
       "      <th>11</th>\n",
       "      <td>Dortmund</td>\n",
       "      <td>5dfa952217db7b73d38261b3</td>\n",
       "      <td>6</td>\n",
       "      <td>80</td>\n",
       "      <td>b'\\x89PNG\\r\\n\\x1a\\n\\x00\\x00\\x00\\rIHDR\\x00\\x00\\...</td>\n",
       "      <td>3</td>\n",
       "      <td>0.600000</td>\n",
       "      <td>10.0</td>\n",
       "      <td>25</td>\n",
       "      <td>6</td>\n",
       "    </tr>\n",
       "    <tr>\n",
       "      <th>12</th>\n",
       "      <td>Dresden</td>\n",
       "      <td>5dfa952217db7b73d38261b4</td>\n",
       "      <td>9</td>\n",
       "      <td>50</td>\n",
       "      <td>b'\\x89PNG\\r\\n\\x1a\\n\\x00\\x00\\x00\\rIHDR\\x00\\x00\\...</td>\n",
       "      <td>13</td>\n",
       "      <td>0.333333</td>\n",
       "      <td>9.0</td>\n",
       "      <td>12</td>\n",
       "      <td>3</td>\n",
       "    </tr>\n",
       "    <tr>\n",
       "      <th>13</th>\n",
       "      <td>Duisburg</td>\n",
       "      <td>5dfa952217db7b73d38261b5</td>\n",
       "      <td>9</td>\n",
       "      <td>42</td>\n",
       "      <td>b'\\x89PNG\\r\\n\\x1a\\n\\x00\\x00\\x00\\rIHDR\\x00\\x00\\...</td>\n",
       "      <td>15</td>\n",
       "      <td>0.250000</td>\n",
       "      <td>16.0</td>\n",
       "      <td>10</td>\n",
       "      <td>4</td>\n",
       "    </tr>\n",
       "    <tr>\n",
       "      <th>14</th>\n",
       "      <td>Ein Frankfurt</td>\n",
       "      <td>5dfa952217db7b73d38261b6</td>\n",
       "      <td>8</td>\n",
       "      <td>76</td>\n",
       "      <td>b'\\x89PNG\\r\\n\\x1a\\n\\x00\\x00\\x00\\rIHDR\\x00\\x00\\...</td>\n",
       "      <td>6</td>\n",
       "      <td>0.333333</td>\n",
       "      <td>9.0</td>\n",
       "      <td>20</td>\n",
       "      <td>3</td>\n",
       "    </tr>\n",
       "    <tr>\n",
       "      <th>15</th>\n",
       "      <td>Erzgebirge Aue</td>\n",
       "      <td>5dfa952217db7b73d38261b7</td>\n",
       "      <td>11</td>\n",
       "      <td>31</td>\n",
       "      <td>b'\\x89PNG\\r\\n\\x1a\\n\\x00\\x00\\x00\\rIHDR\\x00\\x00\\...</td>\n",
       "      <td>15</td>\n",
       "      <td>0.090909</td>\n",
       "      <td>11.0</td>\n",
       "      <td>8</td>\n",
       "      <td>1</td>\n",
       "    </tr>\n",
       "    <tr>\n",
       "      <th>16</th>\n",
       "      <td>Everton</td>\n",
       "      <td>5dfa952217db7b73d38261b8</td>\n",
       "      <td>11</td>\n",
       "      <td>50</td>\n",
       "      <td>b'\\x89PNG\\r\\n\\x1a\\n\\x00\\x00\\x00\\rIHDR\\x00\\x00\\...</td>\n",
       "      <td>12</td>\n",
       "      <td>0.461538</td>\n",
       "      <td>13.0</td>\n",
       "      <td>15</td>\n",
       "      <td>6</td>\n",
       "    </tr>\n",
       "    <tr>\n",
       "      <th>17</th>\n",
       "      <td>FC Koln</td>\n",
       "      <td>5dfa952217db7b73d38261b9</td>\n",
       "      <td>6</td>\n",
       "      <td>39</td>\n",
       "      <td>b'\\x89PNG\\r\\n\\x1a\\n\\x00\\x00\\x00\\rIHDR\\x00\\x00\\...</td>\n",
       "      <td>20</td>\n",
       "      <td>0.307692</td>\n",
       "      <td>13.0</td>\n",
       "      <td>8</td>\n",
       "      <td>4</td>\n",
       "    </tr>\n",
       "    <tr>\n",
       "      <th>18</th>\n",
       "      <td>Fortuna Dusseldorf</td>\n",
       "      <td>5dfa952217db7b73d38261ba</td>\n",
       "      <td>14</td>\n",
       "      <td>64</td>\n",
       "      <td>b'\\x89PNG\\r\\n\\x1a\\n\\x00\\x00\\x00\\rIHDR\\x00\\x00\\...</td>\n",
       "      <td>4</td>\n",
       "      <td>0.384615</td>\n",
       "      <td>13.0</td>\n",
       "      <td>16</td>\n",
       "      <td>5</td>\n",
       "    </tr>\n",
       "    <tr>\n",
       "      <th>19</th>\n",
       "      <td>Frankfurt FSV</td>\n",
       "      <td>5dfa952217db7b73d38261bb</td>\n",
       "      <td>14</td>\n",
       "      <td>43</td>\n",
       "      <td>b'\\x89PNG\\r\\n\\x1a\\n\\x00\\x00\\x00\\rIHDR\\x00\\x00\\...</td>\n",
       "      <td>13</td>\n",
       "      <td>0.071429</td>\n",
       "      <td>14.0</td>\n",
       "      <td>7</td>\n",
       "      <td>1</td>\n",
       "    </tr>\n",
       "    <tr>\n",
       "      <th>20</th>\n",
       "      <td>Freiburg</td>\n",
       "      <td>5dfa952217db7b73d38261bc</td>\n",
       "      <td>10</td>\n",
       "      <td>45</td>\n",
       "      <td>b'\\x89PNG\\r\\n\\x1a\\n\\x00\\x00\\x00\\rIHDR\\x00\\x00\\...</td>\n",
       "      <td>14</td>\n",
       "      <td>0.272727</td>\n",
       "      <td>11.0</td>\n",
       "      <td>10</td>\n",
       "      <td>3</td>\n",
       "    </tr>\n",
       "    <tr>\n",
       "      <th>21</th>\n",
       "      <td>Fulham</td>\n",
       "      <td>5dfa952217db7b73d38261bd</td>\n",
       "      <td>10</td>\n",
       "      <td>48</td>\n",
       "      <td>b'\\x89PNG\\r\\n\\x1a\\n\\x00\\x00\\x00\\rIHDR\\x00\\x00\\...</td>\n",
       "      <td>14</td>\n",
       "      <td>0.333333</td>\n",
       "      <td>12.0</td>\n",
       "      <td>14</td>\n",
       "      <td>4</td>\n",
       "    </tr>\n",
       "    <tr>\n",
       "      <th>22</th>\n",
       "      <td>Greuther Furth</td>\n",
       "      <td>5dfa952217db7b73d38261be</td>\n",
       "      <td>10</td>\n",
       "      <td>73</td>\n",
       "      <td>b'\\x89PNG\\r\\n\\x1a\\n\\x00\\x00\\x00\\rIHDR\\x00\\x00\\...</td>\n",
       "      <td>4</td>\n",
       "      <td>0.571429</td>\n",
       "      <td>14.0</td>\n",
       "      <td>20</td>\n",
       "      <td>8</td>\n",
       "    </tr>\n",
       "    <tr>\n",
       "      <th>23</th>\n",
       "      <td>Hamburg</td>\n",
       "      <td>5dfa952217db7b73d38261bf</td>\n",
       "      <td>12</td>\n",
       "      <td>35</td>\n",
       "      <td>b'\\x89PNG\\r\\n\\x1a\\n\\x00\\x00\\x00\\rIHDR\\x00\\x00\\...</td>\n",
       "      <td>14</td>\n",
       "      <td>0.153846</td>\n",
       "      <td>13.0</td>\n",
       "      <td>8</td>\n",
       "      <td>2</td>\n",
       "    </tr>\n",
       "    <tr>\n",
       "      <th>24</th>\n",
       "      <td>Hannover</td>\n",
       "      <td>5dfa952217db7b73d38261c0</td>\n",
       "      <td>12</td>\n",
       "      <td>41</td>\n",
       "      <td>b'\\x89PNG\\r\\n\\x1a\\n\\x00\\x00\\x00\\rIHDR\\x00\\x00\\...</td>\n",
       "      <td>10</td>\n",
       "      <td>0.416667</td>\n",
       "      <td>12.0</td>\n",
       "      <td>12</td>\n",
       "      <td>5</td>\n",
       "    </tr>\n",
       "    <tr>\n",
       "      <th>25</th>\n",
       "      <td>Hansa Rostock</td>\n",
       "      <td>5dfa952217db7b73d38261c1</td>\n",
       "      <td>12</td>\n",
       "      <td>34</td>\n",
       "      <td>b'\\x89PNG\\r\\n\\x1a\\n\\x00\\x00\\x00\\rIHDR\\x00\\x00\\...</td>\n",
       "      <td>17</td>\n",
       "      <td>0.066667</td>\n",
       "      <td>15.0</td>\n",
       "      <td>5</td>\n",
       "      <td>1</td>\n",
       "    </tr>\n",
       "    <tr>\n",
       "      <th>26</th>\n",
       "      <td>Hertha</td>\n",
       "      <td>5dfa952217db7b73d38261c2</td>\n",
       "      <td>10</td>\n",
       "      <td>38</td>\n",
       "      <td>b'\\x89PNG\\r\\n\\x1a\\n\\x00\\x00\\x00\\rIHDR\\x00\\x00\\...</td>\n",
       "      <td>17</td>\n",
       "      <td>0.300000</td>\n",
       "      <td>10.0</td>\n",
       "      <td>7</td>\n",
       "      <td>3</td>\n",
       "    </tr>\n",
       "    <tr>\n",
       "      <th>27</th>\n",
       "      <td>Hoffenheim</td>\n",
       "      <td>5dfa952217db7b73d38261c3</td>\n",
       "      <td>11</td>\n",
       "      <td>41</td>\n",
       "      <td>b'\\x89PNG\\r\\n\\x1a\\n\\x00\\x00\\x00\\rIHDR\\x00\\x00\\...</td>\n",
       "      <td>13</td>\n",
       "      <td>0.200000</td>\n",
       "      <td>10.0</td>\n",
       "      <td>10</td>\n",
       "      <td>2</td>\n",
       "    </tr>\n",
       "    <tr>\n",
       "      <th>28</th>\n",
       "      <td>Ingolstadt</td>\n",
       "      <td>5dfa952217db7b73d38261c4</td>\n",
       "      <td>13</td>\n",
       "      <td>43</td>\n",
       "      <td>b'\\x89PNG\\r\\n\\x1a\\n\\x00\\x00\\x00\\rIHDR\\x00\\x00\\...</td>\n",
       "      <td>13</td>\n",
       "      <td>0.142857</td>\n",
       "      <td>14.0</td>\n",
       "      <td>8</td>\n",
       "      <td>2</td>\n",
       "    </tr>\n",
       "    <tr>\n",
       "      <th>29</th>\n",
       "      <td>Kaiserslautern</td>\n",
       "      <td>5dfa952217db7b73d38261c5</td>\n",
       "      <td>11</td>\n",
       "      <td>24</td>\n",
       "      <td>b'\\x89PNG\\r\\n\\x1a\\n\\x00\\x00\\x00\\rIHDR\\x00\\x00\\...</td>\n",
       "      <td>19</td>\n",
       "      <td>0.000000</td>\n",
       "      <td>12.0</td>\n",
       "      <td>4</td>\n",
       "      <td>0</td>\n",
       "    </tr>\n",
       "    <tr>\n",
       "      <th>30</th>\n",
       "      <td>Karlsruhe</td>\n",
       "      <td>5dfa952217db7b73d38261c6</td>\n",
       "      <td>6</td>\n",
       "      <td>34</td>\n",
       "      <td>b'\\x89PNG\\r\\n\\x1a\\n\\x00\\x00\\x00\\rIHDR\\x00\\x00\\...</td>\n",
       "      <td>19</td>\n",
       "      <td>0.266667</td>\n",
       "      <td>15.0</td>\n",
       "      <td>9</td>\n",
       "      <td>4</td>\n",
       "    </tr>\n",
       "    <tr>\n",
       "      <th>31</th>\n",
       "      <td>Leverkusen</td>\n",
       "      <td>5dfa952217db7b73d38261c7</td>\n",
       "      <td>9</td>\n",
       "      <td>52</td>\n",
       "      <td>b'\\x89PNG\\r\\n\\x1a\\n\\x00\\x00\\x00\\rIHDR\\x00\\x00\\...</td>\n",
       "      <td>10</td>\n",
       "      <td>0.428571</td>\n",
       "      <td>14.0</td>\n",
       "      <td>15</td>\n",
       "      <td>6</td>\n",
       "    </tr>\n",
       "    <tr>\n",
       "      <th>32</th>\n",
       "      <td>Liverpool</td>\n",
       "      <td>5dfa952217db7b73d38261c8</td>\n",
       "      <td>10</td>\n",
       "      <td>47</td>\n",
       "      <td>b'\\x89PNG\\r\\n\\x1a\\n\\x00\\x00\\x00\\rIHDR\\x00\\x00\\...</td>\n",
       "      <td>14</td>\n",
       "      <td>0.400000</td>\n",
       "      <td>10.0</td>\n",
       "      <td>14</td>\n",
       "      <td>4</td>\n",
       "    </tr>\n",
       "    <tr>\n",
       "      <th>33</th>\n",
       "      <td>M'gladbach</td>\n",
       "      <td>5dfa952217db7b73d38261c9</td>\n",
       "      <td>9</td>\n",
       "      <td>49</td>\n",
       "      <td>b'\\x89PNG\\r\\n\\x1a\\n\\x00\\x00\\x00\\rIHDR\\x00\\x00\\...</td>\n",
       "      <td>8</td>\n",
       "      <td>0.727273</td>\n",
       "      <td>11.0</td>\n",
       "      <td>17</td>\n",
       "      <td>8</td>\n",
       "    </tr>\n",
       "    <tr>\n",
       "      <th>34</th>\n",
       "      <td>Mainz</td>\n",
       "      <td>5dfa952217db7b73d38261ca</td>\n",
       "      <td>12</td>\n",
       "      <td>47</td>\n",
       "      <td>b'\\x89PNG\\r\\n\\x1a\\n\\x00\\x00\\x00\\rIHDR\\x00\\x00\\...</td>\n",
       "      <td>13</td>\n",
       "      <td>0.200000</td>\n",
       "      <td>10.0</td>\n",
       "      <td>9</td>\n",
       "      <td>2</td>\n",
       "    </tr>\n",
       "    <tr>\n",
       "      <th>35</th>\n",
       "      <td>Man City</td>\n",
       "      <td>5dfa952217db7b73d38261cb</td>\n",
       "      <td>5</td>\n",
       "      <td>93</td>\n",
       "      <td>b'\\x89PNG\\r\\n\\x1a\\n\\x00\\x00\\x00\\rIHDR\\x00\\x00\\...</td>\n",
       "      <td>5</td>\n",
       "      <td>0.687500</td>\n",
       "      <td>16.0</td>\n",
       "      <td>28</td>\n",
       "      <td>11</td>\n",
       "    </tr>\n",
       "    <tr>\n",
       "      <th>36</th>\n",
       "      <td>Man United</td>\n",
       "      <td>5dfa952217db7b73d38261cc</td>\n",
       "      <td>5</td>\n",
       "      <td>89</td>\n",
       "      <td>b'\\x89PNG\\r\\n\\x1a\\n\\x00\\x00\\x00\\rIHDR\\x00\\x00\\...</td>\n",
       "      <td>5</td>\n",
       "      <td>0.800000</td>\n",
       "      <td>15.0</td>\n",
       "      <td>28</td>\n",
       "      <td>12</td>\n",
       "    </tr>\n",
       "    <tr>\n",
       "      <th>37</th>\n",
       "      <td>Munich 1860</td>\n",
       "      <td>5dfa952217db7b73d38261cd</td>\n",
       "      <td>6</td>\n",
       "      <td>62</td>\n",
       "      <td>b'\\x89PNG\\r\\n\\x1a\\n\\x00\\x00\\x00\\rIHDR\\x00\\x00\\...</td>\n",
       "      <td>11</td>\n",
       "      <td>0.647059</td>\n",
       "      <td>17.0</td>\n",
       "      <td>17</td>\n",
       "      <td>11</td>\n",
       "    </tr>\n",
       "    <tr>\n",
       "      <th>38</th>\n",
       "      <td>Newcastle</td>\n",
       "      <td>5dfa952217db7b73d38261ce</td>\n",
       "      <td>8</td>\n",
       "      <td>56</td>\n",
       "      <td>b'\\x89PNG\\r\\n\\x1a\\n\\x00\\x00\\x00\\rIHDR\\x00\\x00\\...</td>\n",
       "      <td>11</td>\n",
       "      <td>0.230769</td>\n",
       "      <td>13.0</td>\n",
       "      <td>19</td>\n",
       "      <td>3</td>\n",
       "    </tr>\n",
       "    <tr>\n",
       "      <th>39</th>\n",
       "      <td>Norwich</td>\n",
       "      <td>5dfa952217db7b73d38261cf</td>\n",
       "      <td>11</td>\n",
       "      <td>52</td>\n",
       "      <td>b'\\x89PNG\\r\\n\\x1a\\n\\x00\\x00\\x00\\rIHDR\\x00\\x00\\...</td>\n",
       "      <td>15</td>\n",
       "      <td>0.300000</td>\n",
       "      <td>10.0</td>\n",
       "      <td>12</td>\n",
       "      <td>3</td>\n",
       "    </tr>\n",
       "    <tr>\n",
       "      <th>40</th>\n",
       "      <td>Nurnberg</td>\n",
       "      <td>5dfa952217db7b73d38261d0</td>\n",
       "      <td>6</td>\n",
       "      <td>38</td>\n",
       "      <td>b'\\x89PNG\\r\\n\\x1a\\n\\x00\\x00\\x00\\rIHDR\\x00\\x00\\...</td>\n",
       "      <td>16</td>\n",
       "      <td>0.555556</td>\n",
       "      <td>9.0</td>\n",
       "      <td>12</td>\n",
       "      <td>5</td>\n",
       "    </tr>\n",
       "    <tr>\n",
       "      <th>41</th>\n",
       "      <td>Paderborn</td>\n",
       "      <td>5dfa952217db7b73d38261d1</td>\n",
       "      <td>10</td>\n",
       "      <td>51</td>\n",
       "      <td>b'\\x89PNG\\r\\n\\x1a\\n\\x00\\x00\\x00\\rIHDR\\x00\\x00\\...</td>\n",
       "      <td>7</td>\n",
       "      <td>0.500000</td>\n",
       "      <td>12.0</td>\n",
       "      <td>17</td>\n",
       "      <td>6</td>\n",
       "    </tr>\n",
       "    <tr>\n",
       "      <th>42</th>\n",
       "      <td>QPR</td>\n",
       "      <td>5dfa952217db7b73d38261d2</td>\n",
       "      <td>7</td>\n",
       "      <td>43</td>\n",
       "      <td>b'\\x89PNG\\r\\n\\x1a\\n\\x00\\x00\\x00\\rIHDR\\x00\\x00\\...</td>\n",
       "      <td>21</td>\n",
       "      <td>0.230769</td>\n",
       "      <td>13.0</td>\n",
       "      <td>10</td>\n",
       "      <td>3</td>\n",
       "    </tr>\n",
       "    <tr>\n",
       "      <th>43</th>\n",
       "      <td>Schalke 04</td>\n",
       "      <td>5dfa952217db7b73d38261d3</td>\n",
       "      <td>4</td>\n",
       "      <td>74</td>\n",
       "      <td>b'\\x89PNG\\r\\n\\x1a\\n\\x00\\x00\\x00\\rIHDR\\x00\\x00\\...</td>\n",
       "      <td>10</td>\n",
       "      <td>0.500000</td>\n",
       "      <td>10.0</td>\n",
       "      <td>20</td>\n",
       "      <td>5</td>\n",
       "    </tr>\n",
       "    <tr>\n",
       "      <th>44</th>\n",
       "      <td>St Pauli</td>\n",
       "      <td>5dfa952217db7b73d38261d4</td>\n",
       "      <td>8</td>\n",
       "      <td>59</td>\n",
       "      <td>b'\\x89PNG\\r\\n\\x1a\\n\\x00\\x00\\x00\\rIHDR\\x00\\x00\\...</td>\n",
       "      <td>8</td>\n",
       "      <td>0.727273</td>\n",
       "      <td>11.0</td>\n",
       "      <td>18</td>\n",
       "      <td>8</td>\n",
       "    </tr>\n",
       "    <tr>\n",
       "      <th>45</th>\n",
       "      <td>Stoke</td>\n",
       "      <td>5dfa952217db7b73d38261d5</td>\n",
       "      <td>12</td>\n",
       "      <td>36</td>\n",
       "      <td>b'\\x89PNG\\r\\n\\x1a\\n\\x00\\x00\\x00\\rIHDR\\x00\\x00\\...</td>\n",
       "      <td>15</td>\n",
       "      <td>0.333333</td>\n",
       "      <td>12.0</td>\n",
       "      <td>11</td>\n",
       "      <td>4</td>\n",
       "    </tr>\n",
       "    <tr>\n",
       "      <th>46</th>\n",
       "      <td>Stuttgart</td>\n",
       "      <td>5dfa952217db7b73d38261d6</td>\n",
       "      <td>8</td>\n",
       "      <td>63</td>\n",
       "      <td>b'\\x89PNG\\r\\n\\x1a\\n\\x00\\x00\\x00\\rIHDR\\x00\\x00\\...</td>\n",
       "      <td>11</td>\n",
       "      <td>0.428571</td>\n",
       "      <td>7.0</td>\n",
       "      <td>15</td>\n",
       "      <td>3</td>\n",
       "    </tr>\n",
       "    <tr>\n",
       "      <th>47</th>\n",
       "      <td>Sunderland</td>\n",
       "      <td>5dfa952217db7b73d38261d7</td>\n",
       "      <td>12</td>\n",
       "      <td>45</td>\n",
       "      <td>b'\\x89PNG\\r\\n\\x1a\\n\\x00\\x00\\x00\\rIHDR\\x00\\x00\\...</td>\n",
       "      <td>15</td>\n",
       "      <td>0.307692</td>\n",
       "      <td>13.0</td>\n",
       "      <td>11</td>\n",
       "      <td>4</td>\n",
       "    </tr>\n",
       "    <tr>\n",
       "      <th>48</th>\n",
       "      <td>Swansea</td>\n",
       "      <td>5dfa952217db7b73d38261d8</td>\n",
       "      <td>11</td>\n",
       "      <td>44</td>\n",
       "      <td>b'\\x89PNG\\r\\n\\x1a\\n\\x00\\x00\\x00\\rIHDR\\x00\\x00\\...</td>\n",
       "      <td>15</td>\n",
       "      <td>0.200000</td>\n",
       "      <td>10.0</td>\n",
       "      <td>12</td>\n",
       "      <td>2</td>\n",
       "    </tr>\n",
       "    <tr>\n",
       "      <th>49</th>\n",
       "      <td>Tottenham</td>\n",
       "      <td>5dfa952217db7b73d38261d9</td>\n",
       "      <td>9</td>\n",
       "      <td>66</td>\n",
       "      <td>b'\\x89PNG\\r\\n\\x1a\\n\\x00\\x00\\x00\\rIHDR\\x00\\x00\\...</td>\n",
       "      <td>9</td>\n",
       "      <td>0.750000</td>\n",
       "      <td>12.0</td>\n",
       "      <td>20</td>\n",
       "      <td>9</td>\n",
       "    </tr>\n",
       "    <tr>\n",
       "      <th>50</th>\n",
       "      <td>Union Berlin</td>\n",
       "      <td>5dfa952217db7b73d38261da</td>\n",
       "      <td>6</td>\n",
       "      <td>55</td>\n",
       "      <td>b'\\x89PNG\\r\\n\\x1a\\n\\x00\\x00\\x00\\rIHDR\\x00\\x00\\...</td>\n",
       "      <td>14</td>\n",
       "      <td>0.454545</td>\n",
       "      <td>11.0</td>\n",
       "      <td>14</td>\n",
       "      <td>5</td>\n",
       "    </tr>\n",
       "    <tr>\n",
       "      <th>51</th>\n",
       "      <td>Werder Bremen</td>\n",
       "      <td>5dfa952217db7b73d38261db</td>\n",
       "      <td>9</td>\n",
       "      <td>49</td>\n",
       "      <td>b'\\x89PNG\\r\\n\\x1a\\n\\x00\\x00\\x00\\rIHDR\\x00\\x00\\...</td>\n",
       "      <td>14</td>\n",
       "      <td>0.500000</td>\n",
       "      <td>10.0</td>\n",
       "      <td>11</td>\n",
       "      <td>5</td>\n",
       "    </tr>\n",
       "    <tr>\n",
       "      <th>52</th>\n",
       "      <td>West Brom</td>\n",
       "      <td>5dfa952217db7b73d38261dc</td>\n",
       "      <td>8</td>\n",
       "      <td>45</td>\n",
       "      <td>b'\\x89PNG\\r\\n\\x1a\\n\\x00\\x00\\x00\\rIHDR\\x00\\x00\\...</td>\n",
       "      <td>17</td>\n",
       "      <td>0.285714</td>\n",
       "      <td>14.0</td>\n",
       "      <td>13</td>\n",
       "      <td>4</td>\n",
       "    </tr>\n",
       "    <tr>\n",
       "      <th>53</th>\n",
       "      <td>Wigan</td>\n",
       "      <td>5dfa952217db7b73d38261dd</td>\n",
       "      <td>10</td>\n",
       "      <td>42</td>\n",
       "      <td>b'\\x89PNG\\r\\n\\x1a\\n\\x00\\x00\\x00\\rIHDR\\x00\\x00\\...</td>\n",
       "      <td>17</td>\n",
       "      <td>0.333333</td>\n",
       "      <td>12.0</td>\n",
       "      <td>11</td>\n",
       "      <td>4</td>\n",
       "    </tr>\n",
       "    <tr>\n",
       "      <th>54</th>\n",
       "      <td>Wolfsburg</td>\n",
       "      <td>5dfa952217db7b73d38261de</td>\n",
       "      <td>5</td>\n",
       "      <td>47</td>\n",
       "      <td>b'\\x89PNG\\r\\n\\x1a\\n\\x00\\x00\\x00\\rIHDR\\x00\\x00\\...</td>\n",
       "      <td>16</td>\n",
       "      <td>0.333333</td>\n",
       "      <td>12.0</td>\n",
       "      <td>13</td>\n",
       "      <td>4</td>\n",
       "    </tr>\n",
       "    <tr>\n",
       "      <th>55</th>\n",
       "      <td>Wolves</td>\n",
       "      <td>5dfa952217db7b73d38261df</td>\n",
       "      <td>10</td>\n",
       "      <td>40</td>\n",
       "      <td>b'\\x89PNG\\r\\n\\x1a\\n\\x00\\x00\\x00\\rIHDR\\x00\\x00\\...</td>\n",
       "      <td>23</td>\n",
       "      <td>0.100000</td>\n",
       "      <td>10.0</td>\n",
       "      <td>5</td>\n",
       "      <td>1</td>\n",
       "    </tr>\n",
       "  </tbody>\n",
       "</table>\n",
       "</div>"
      ],
      "text/plain": [
       "              HomeTeam                       _id  draws  goals  \\\n",
       "0               Aachen  5dfa952217db7b73d38261a8     13     30   \n",
       "1              Arsenal  5dfa952217db7b73d38261a9      7     74   \n",
       "2          Aston Villa  5dfa952217db7b73d38261aa     17     37   \n",
       "3             Augsburg  5dfa952217db7b73d38261ab     14     36   \n",
       "4        Bayern Munich  5dfa952217db7b73d38261ac      4     77   \n",
       "5            Blackburn  5dfa952217db7b73d38261ad      7     48   \n",
       "6               Bochum  5dfa952217db7b73d38261ae      7     41   \n",
       "7               Bolton  5dfa952217db7b73d38261af      6     46   \n",
       "8         Braunschweig  5dfa952217db7b73d38261b0     15     37   \n",
       "9              Chelsea  5dfa952217db7b73d38261b1     10     65   \n",
       "10             Cottbus  5dfa952217db7b73d38261b2     11     30   \n",
       "11            Dortmund  5dfa952217db7b73d38261b3      6     80   \n",
       "12             Dresden  5dfa952217db7b73d38261b4      9     50   \n",
       "13            Duisburg  5dfa952217db7b73d38261b5      9     42   \n",
       "14       Ein Frankfurt  5dfa952217db7b73d38261b6      8     76   \n",
       "15      Erzgebirge Aue  5dfa952217db7b73d38261b7     11     31   \n",
       "16             Everton  5dfa952217db7b73d38261b8     11     50   \n",
       "17             FC Koln  5dfa952217db7b73d38261b9      6     39   \n",
       "18  Fortuna Dusseldorf  5dfa952217db7b73d38261ba     14     64   \n",
       "19       Frankfurt FSV  5dfa952217db7b73d38261bb     14     43   \n",
       "20            Freiburg  5dfa952217db7b73d38261bc     10     45   \n",
       "21              Fulham  5dfa952217db7b73d38261bd     10     48   \n",
       "22      Greuther Furth  5dfa952217db7b73d38261be     10     73   \n",
       "23             Hamburg  5dfa952217db7b73d38261bf     12     35   \n",
       "24            Hannover  5dfa952217db7b73d38261c0     12     41   \n",
       "25       Hansa Rostock  5dfa952217db7b73d38261c1     12     34   \n",
       "26              Hertha  5dfa952217db7b73d38261c2     10     38   \n",
       "27          Hoffenheim  5dfa952217db7b73d38261c3     11     41   \n",
       "28          Ingolstadt  5dfa952217db7b73d38261c4     13     43   \n",
       "29      Kaiserslautern  5dfa952217db7b73d38261c5     11     24   \n",
       "30           Karlsruhe  5dfa952217db7b73d38261c6      6     34   \n",
       "31          Leverkusen  5dfa952217db7b73d38261c7      9     52   \n",
       "32           Liverpool  5dfa952217db7b73d38261c8     10     47   \n",
       "33          M'gladbach  5dfa952217db7b73d38261c9      9     49   \n",
       "34               Mainz  5dfa952217db7b73d38261ca     12     47   \n",
       "35            Man City  5dfa952217db7b73d38261cb      5     93   \n",
       "36          Man United  5dfa952217db7b73d38261cc      5     89   \n",
       "37         Munich 1860  5dfa952217db7b73d38261cd      6     62   \n",
       "38           Newcastle  5dfa952217db7b73d38261ce      8     56   \n",
       "39             Norwich  5dfa952217db7b73d38261cf     11     52   \n",
       "40            Nurnberg  5dfa952217db7b73d38261d0      6     38   \n",
       "41           Paderborn  5dfa952217db7b73d38261d1     10     51   \n",
       "42                 QPR  5dfa952217db7b73d38261d2      7     43   \n",
       "43          Schalke 04  5dfa952217db7b73d38261d3      4     74   \n",
       "44            St Pauli  5dfa952217db7b73d38261d4      8     59   \n",
       "45               Stoke  5dfa952217db7b73d38261d5     12     36   \n",
       "46           Stuttgart  5dfa952217db7b73d38261d6      8     63   \n",
       "47          Sunderland  5dfa952217db7b73d38261d7     12     45   \n",
       "48             Swansea  5dfa952217db7b73d38261d8     11     44   \n",
       "49           Tottenham  5dfa952217db7b73d38261d9      9     66   \n",
       "50        Union Berlin  5dfa952217db7b73d38261da      6     55   \n",
       "51       Werder Bremen  5dfa952217db7b73d38261db      9     49   \n",
       "52           West Brom  5dfa952217db7b73d38261dc      8     45   \n",
       "53               Wigan  5dfa952217db7b73d38261dd     10     42   \n",
       "54           Wolfsburg  5dfa952217db7b73d38261de      5     47   \n",
       "55              Wolves  5dfa952217db7b73d38261df     10     40   \n",
       "\n",
       "                                                graph  losses  \\\n",
       "0   b'\\x89PNG\\r\\n\\x1a\\n\\x00\\x00\\x00\\rIHDR\\x00\\x00\\...      15   \n",
       "1   b'\\x89PNG\\r\\n\\x1a\\n\\x00\\x00\\x00\\rIHDR\\x00\\x00\\...      10   \n",
       "2   b'\\x89PNG\\r\\n\\x1a\\n\\x00\\x00\\x00\\rIHDR\\x00\\x00\\...      14   \n",
       "3   b'\\x89PNG\\r\\n\\x1a\\n\\x00\\x00\\x00\\rIHDR\\x00\\x00\\...      12   \n",
       "4   b'\\x89PNG\\r\\n\\x1a\\n\\x00\\x00\\x00\\rIHDR\\x00\\x00\\...       7   \n",
       "5   b'\\x89PNG\\r\\n\\x1a\\n\\x00\\x00\\x00\\rIHDR\\x00\\x00\\...      23   \n",
       "6   b'\\x89PNG\\r\\n\\x1a\\n\\x00\\x00\\x00\\rIHDR\\x00\\x00\\...      17   \n",
       "7   b'\\x89PNG\\r\\n\\x1a\\n\\x00\\x00\\x00\\rIHDR\\x00\\x00\\...      22   \n",
       "8   b'\\x89PNG\\r\\n\\x1a\\n\\x00\\x00\\x00\\rIHDR\\x00\\x00\\...       9   \n",
       "9   b'\\x89PNG\\r\\n\\x1a\\n\\x00\\x00\\x00\\rIHDR\\x00\\x00\\...      10   \n",
       "10  b'\\x89PNG\\r\\n\\x1a\\n\\x00\\x00\\x00\\rIHDR\\x00\\x00\\...      15   \n",
       "11  b'\\x89PNG\\r\\n\\x1a\\n\\x00\\x00\\x00\\rIHDR\\x00\\x00\\...       3   \n",
       "12  b'\\x89PNG\\r\\n\\x1a\\n\\x00\\x00\\x00\\rIHDR\\x00\\x00\\...      13   \n",
       "13  b'\\x89PNG\\r\\n\\x1a\\n\\x00\\x00\\x00\\rIHDR\\x00\\x00\\...      15   \n",
       "14  b'\\x89PNG\\r\\n\\x1a\\n\\x00\\x00\\x00\\rIHDR\\x00\\x00\\...       6   \n",
       "15  b'\\x89PNG\\r\\n\\x1a\\n\\x00\\x00\\x00\\rIHDR\\x00\\x00\\...      15   \n",
       "16  b'\\x89PNG\\r\\n\\x1a\\n\\x00\\x00\\x00\\rIHDR\\x00\\x00\\...      12   \n",
       "17  b'\\x89PNG\\r\\n\\x1a\\n\\x00\\x00\\x00\\rIHDR\\x00\\x00\\...      20   \n",
       "18  b'\\x89PNG\\r\\n\\x1a\\n\\x00\\x00\\x00\\rIHDR\\x00\\x00\\...       4   \n",
       "19  b'\\x89PNG\\r\\n\\x1a\\n\\x00\\x00\\x00\\rIHDR\\x00\\x00\\...      13   \n",
       "20  b'\\x89PNG\\r\\n\\x1a\\n\\x00\\x00\\x00\\rIHDR\\x00\\x00\\...      14   \n",
       "21  b'\\x89PNG\\r\\n\\x1a\\n\\x00\\x00\\x00\\rIHDR\\x00\\x00\\...      14   \n",
       "22  b'\\x89PNG\\r\\n\\x1a\\n\\x00\\x00\\x00\\rIHDR\\x00\\x00\\...       4   \n",
       "23  b'\\x89PNG\\r\\n\\x1a\\n\\x00\\x00\\x00\\rIHDR\\x00\\x00\\...      14   \n",
       "24  b'\\x89PNG\\r\\n\\x1a\\n\\x00\\x00\\x00\\rIHDR\\x00\\x00\\...      10   \n",
       "25  b'\\x89PNG\\r\\n\\x1a\\n\\x00\\x00\\x00\\rIHDR\\x00\\x00\\...      17   \n",
       "26  b'\\x89PNG\\r\\n\\x1a\\n\\x00\\x00\\x00\\rIHDR\\x00\\x00\\...      17   \n",
       "27  b'\\x89PNG\\r\\n\\x1a\\n\\x00\\x00\\x00\\rIHDR\\x00\\x00\\...      13   \n",
       "28  b'\\x89PNG\\r\\n\\x1a\\n\\x00\\x00\\x00\\rIHDR\\x00\\x00\\...      13   \n",
       "29  b'\\x89PNG\\r\\n\\x1a\\n\\x00\\x00\\x00\\rIHDR\\x00\\x00\\...      19   \n",
       "30  b'\\x89PNG\\r\\n\\x1a\\n\\x00\\x00\\x00\\rIHDR\\x00\\x00\\...      19   \n",
       "31  b'\\x89PNG\\r\\n\\x1a\\n\\x00\\x00\\x00\\rIHDR\\x00\\x00\\...      10   \n",
       "32  b'\\x89PNG\\r\\n\\x1a\\n\\x00\\x00\\x00\\rIHDR\\x00\\x00\\...      14   \n",
       "33  b'\\x89PNG\\r\\n\\x1a\\n\\x00\\x00\\x00\\rIHDR\\x00\\x00\\...       8   \n",
       "34  b'\\x89PNG\\r\\n\\x1a\\n\\x00\\x00\\x00\\rIHDR\\x00\\x00\\...      13   \n",
       "35  b'\\x89PNG\\r\\n\\x1a\\n\\x00\\x00\\x00\\rIHDR\\x00\\x00\\...       5   \n",
       "36  b'\\x89PNG\\r\\n\\x1a\\n\\x00\\x00\\x00\\rIHDR\\x00\\x00\\...       5   \n",
       "37  b'\\x89PNG\\r\\n\\x1a\\n\\x00\\x00\\x00\\rIHDR\\x00\\x00\\...      11   \n",
       "38  b'\\x89PNG\\r\\n\\x1a\\n\\x00\\x00\\x00\\rIHDR\\x00\\x00\\...      11   \n",
       "39  b'\\x89PNG\\r\\n\\x1a\\n\\x00\\x00\\x00\\rIHDR\\x00\\x00\\...      15   \n",
       "40  b'\\x89PNG\\r\\n\\x1a\\n\\x00\\x00\\x00\\rIHDR\\x00\\x00\\...      16   \n",
       "41  b'\\x89PNG\\r\\n\\x1a\\n\\x00\\x00\\x00\\rIHDR\\x00\\x00\\...       7   \n",
       "42  b'\\x89PNG\\r\\n\\x1a\\n\\x00\\x00\\x00\\rIHDR\\x00\\x00\\...      21   \n",
       "43  b'\\x89PNG\\r\\n\\x1a\\n\\x00\\x00\\x00\\rIHDR\\x00\\x00\\...      10   \n",
       "44  b'\\x89PNG\\r\\n\\x1a\\n\\x00\\x00\\x00\\rIHDR\\x00\\x00\\...       8   \n",
       "45  b'\\x89PNG\\r\\n\\x1a\\n\\x00\\x00\\x00\\rIHDR\\x00\\x00\\...      15   \n",
       "46  b'\\x89PNG\\r\\n\\x1a\\n\\x00\\x00\\x00\\rIHDR\\x00\\x00\\...      11   \n",
       "47  b'\\x89PNG\\r\\n\\x1a\\n\\x00\\x00\\x00\\rIHDR\\x00\\x00\\...      15   \n",
       "48  b'\\x89PNG\\r\\n\\x1a\\n\\x00\\x00\\x00\\rIHDR\\x00\\x00\\...      15   \n",
       "49  b'\\x89PNG\\r\\n\\x1a\\n\\x00\\x00\\x00\\rIHDR\\x00\\x00\\...       9   \n",
       "50  b'\\x89PNG\\r\\n\\x1a\\n\\x00\\x00\\x00\\rIHDR\\x00\\x00\\...      14   \n",
       "51  b'\\x89PNG\\r\\n\\x1a\\n\\x00\\x00\\x00\\rIHDR\\x00\\x00\\...      14   \n",
       "52  b'\\x89PNG\\r\\n\\x1a\\n\\x00\\x00\\x00\\rIHDR\\x00\\x00\\...      17   \n",
       "53  b'\\x89PNG\\r\\n\\x1a\\n\\x00\\x00\\x00\\rIHDR\\x00\\x00\\...      17   \n",
       "54  b'\\x89PNG\\r\\n\\x1a\\n\\x00\\x00\\x00\\rIHDR\\x00\\x00\\...      16   \n",
       "55  b'\\x89PNG\\r\\n\\x1a\\n\\x00\\x00\\x00\\rIHDR\\x00\\x00\\...      23   \n",
       "\n",
       "    rain_win_percent  rainfall_bool  wins  wins_rain  \n",
       "0           0.230769           13.0     6          3  \n",
       "1           0.571429           14.0    21          8  \n",
       "2           0.166667           12.0     7          2  \n",
       "3           0.363636           11.0     8          4  \n",
       "4           0.727273           11.0    23          8  \n",
       "5           0.100000           10.0     8          1  \n",
       "6           0.272727           11.0    10          3  \n",
       "7           0.333333           12.0    10          4  \n",
       "8           0.444444            9.0    10          4  \n",
       "9           0.615385           13.0    18          8  \n",
       "10          0.300000           10.0     8          3  \n",
       "11          0.600000           10.0    25          6  \n",
       "12          0.333333            9.0    12          3  \n",
       "13          0.250000           16.0    10          4  \n",
       "14          0.333333            9.0    20          3  \n",
       "15          0.090909           11.0     8          1  \n",
       "16          0.461538           13.0    15          6  \n",
       "17          0.307692           13.0     8          4  \n",
       "18          0.384615           13.0    16          5  \n",
       "19          0.071429           14.0     7          1  \n",
       "20          0.272727           11.0    10          3  \n",
       "21          0.333333           12.0    14          4  \n",
       "22          0.571429           14.0    20          8  \n",
       "23          0.153846           13.0     8          2  \n",
       "24          0.416667           12.0    12          5  \n",
       "25          0.066667           15.0     5          1  \n",
       "26          0.300000           10.0     7          3  \n",
       "27          0.200000           10.0    10          2  \n",
       "28          0.142857           14.0     8          2  \n",
       "29          0.000000           12.0     4          0  \n",
       "30          0.266667           15.0     9          4  \n",
       "31          0.428571           14.0    15          6  \n",
       "32          0.400000           10.0    14          4  \n",
       "33          0.727273           11.0    17          8  \n",
       "34          0.200000           10.0     9          2  \n",
       "35          0.687500           16.0    28         11  \n",
       "36          0.800000           15.0    28         12  \n",
       "37          0.647059           17.0    17         11  \n",
       "38          0.230769           13.0    19          3  \n",
       "39          0.300000           10.0    12          3  \n",
       "40          0.555556            9.0    12          5  \n",
       "41          0.500000           12.0    17          6  \n",
       "42          0.230769           13.0    10          3  \n",
       "43          0.500000           10.0    20          5  \n",
       "44          0.727273           11.0    18          8  \n",
       "45          0.333333           12.0    11          4  \n",
       "46          0.428571            7.0    15          3  \n",
       "47          0.307692           13.0    11          4  \n",
       "48          0.200000           10.0    12          2  \n",
       "49          0.750000           12.0    20          9  \n",
       "50          0.454545           11.0    14          5  \n",
       "51          0.500000           10.0    11          5  \n",
       "52          0.285714           14.0    13          4  \n",
       "53          0.333333           12.0    11          4  \n",
       "54          0.333333           12.0    13          4  \n",
       "55          0.100000           10.0     5          1  "
      ]
     },
     "execution_count": 75,
     "metadata": {},
     "output_type": "execute_result"
    }
   ],
   "source": [
    "df_back"
   ]
  },
  {
   "cell_type": "code",
   "execution_count": 76,
   "metadata": {},
   "outputs": [
    {
     "data": {
      "text/plain": [
       "b'\\x89PNG\\r\\n\\x1a\\n\\x00\\x00\\x00\\rIHDR\\x00\\x00\\x01\\xb0\\x00\\x00\\x01 \\x08\\x06\\x00\\x00\\x00\\xd5(&i\\x00\\x00\\x00\\x04sBIT\\x08\\x08\\x08\\x08|\\x08d\\x88\\x00\\x00\\x00\\tpHYs\\x00\\x00\\x0b\\x12\\x00\\x00\\x0b\\x12\\x01\\xd2\\xdd~\\xfc\\x00\\x00\\x008tEXtSoftware\\x00matplotlib version3.1.0, http://matplotlib.org/\\xb5\\xed\\x87\\x17\\x00\\x00\\x11\\x17IDATx\\x9c\\xed\\xdc}h\\x95\\xf5\\xff\\xc7\\xf1\\xd7\\xf9:5\\xf2&\\x137\\x9dN\\x9bb\\xe5t\\xba\\xa3;f+w\\xf2nj\"\\x86w\\xe0\\xb0h\\xde\\xb4\\x12\\x8b2\\x12\\xea?)E[Fe\\x05r\\xc2\\xcc;\\xa6\\xd8\\x1f\\x19\\xdd\\x8c\\xcc\"-\\x8d\\xba\\x9a\\xdda\\x9a\\xd8\\x16\\xdb\\x9cy,\\xcd{\\xd6\\xb6\\xcf\\xf7\\x8f/\\xc9O\\xa7\\xe5\\xcf\\x9b}\\xae\\xb7>\\x1f0p\\xd7\\xae\\xb9\\xd7\\x81\\xe3\\x9e\\\\\\xd7\\x99\\x8b8\\xe7\\x9c\\x00\\x000\\xe6?\\xbe\\x07\\x00\\x00p)\\x08\\x18\\x00\\xc0$\\x02\\x06\\x000\\x89\\x80\\x01\\x00L\"`\\x00\\x00\\x93\\x08\\x18\\x00\\xc0$\\x02\\x06\\x000\\x89\\x80\\x01\\x00L\"`\\x00\\x00\\x93\\x08\\x18\\x00\\xc0$\\x02\\x06\\x000\\x89\\x80\\x01\\x00L\"`\\x00\\x00\\x93\\x08\\x18\\x00\\xc0$\\x02\\x06\\x000\\x89\\x80\\x01\\x00L\"`\\x00\\x00\\x93\\x08\\x18\\x00\\xc0$\\x02\\x06\\x000\\x89\\x80\\x01\\x00L\"`\\x00\\x00\\x93\\x08\\x18\\x00\\xc0$\\x02\\x06\\x000\\x89\\x80\\x01\\x00L\"`\\x00\\x00\\x93\\x08\\x18\\x00\\xc0$\\x02\\x06\\x000\\x89\\x80\\x01\\x00L\"`\\x00\\x00\\x93\\x08\\x18\\x00\\xc0$\\x02\\x06\\x000\\x89\\x80\\x01\\x00L\"`\\x00\\x00\\x93\\x08\\x18\\x00\\xc0\\xa4\\x14\\xdf\\x03\\xae\\x96N\\x9d:)33\\xd3\\xf7\\x0c\\x000\\xa5\\xb2\\xb2R\\x87\\x0e\\x1d\\xf2=\\xe3\\xa2\\\\\\xb3\\x01\\xcb\\xcc\\xccT\\x10\\x04\\xbeg\\x00\\x80)\\xb1X\\xcc\\xf7\\x84\\x8b\\xc6-D\\x00\\x80I\\x04\\x0c\\x00`\\x12\\x01\\x03\\x00\\x98D\\xc0\\x00\\x00&\\x110\\x00\\x80I\\x04\\x0c\\x00`\\x12\\x01\\x03\\x00\\x98D\\xc0\\x00\\x00&]\\xb3\\xff\\x91\\x19\\xb8\\x96E\"\\xbe\\x17 \\xcc\\x9c\\xf3\\xbd\\xa0yp\\x05\\x06\\x000\\x89\\x80\\x01\\x00L\"`\\x00\\x00\\x93\\x08\\x18\\x00\\xc0$\\x02\\x06\\x000\\x89\\x80\\x01\\x00L\"`\\x00\\x00\\x93\\x08\\x18\\x00\\xc0$\\x02\\x06\\x000)t\\x01\\x9b9s\\xa6\\xd2\\xd2\\xd2\\x94\\x9d\\x9d\\xdd\\xe4cK\\x97.U$\\x12\\xd1\\xa1C\\x87<,\\x03\\x00\\x84I\\xe8\\x02VTT\\xa4\\xb2\\xb2\\xb2&\\xc7\\xab\\xaa\\xaa\\xb4y\\xf3f\\xf5\\xe8\\xd1\\xc3\\xc3*\\x00@\\xd8\\x84.`\\xf1x\\\\\\x1d;vlr|\\xde\\xbcy*))Q\\x84_\\x02\\x07\\x00P\\x08\\x03v>\\xef\\xbe\\xfb\\xae\\xbau\\xeb\\xa6\\x9c\\x9c\\x1c\\xdfS\\x00\\x00!\\x11\\xfa\\xdfF\\x7f\\xf2\\xe4I-Z\\xb4H\\x1f}\\xf4\\xd1\\xbf\\x9e\\x9bH$\\x94H$$I\\xc9d\\xf2jO\\x03\\x00x\\x14\\xfa+\\xb0}\\xfb\\xf6\\xa9\\xa2\\xa2B999\\xca\\xcc\\xccTuu\\xb5\\x06\\r\\x1a\\xa4\\x03\\x07\\x0e49\\xb7\\xb8\\xb8XA\\x10(\\x08\\x02\\xa5\\xa6\\xa6zX\\x0b\\x00h.\\xa1\\xbf\\x02\\xeb\\xdf\\xbf\\xbf\\x0e\\x1e<x\\xe6\\xfd\\xcc\\xccL\\x05A\\xa0N\\x9d:y\\\\\\x05\\x00\\xf0-tW`\\x85\\x85\\x85\\xca\\xcb\\xcb\\xd3\\x9e={\\x94\\x91\\x91\\xa1\\x15+V\\xf8\\x9e\\x04\\x00\\x08\\xa1\\xd0]\\x81\\x95\\x96\\x96\\xfe\\xe3\\xc7+++\\x9bg\\x08\\x00 \\xd4Bw\\x05\\x06\\x00\\xc0\\xc5 `\\x00\\x00\\x93\\x08\\x18\\x00\\xc0$\\x02\\x06\\x000\\x89\\x80\\x01\\x00L\"`\\x00\\x00\\x93\\x08\\x18\\x00\\xc0$\\x02\\x06\\x000\\x89\\x80\\x01\\x00L\"`\\x00\\x00\\x93\\x08\\x18\\x00\\xc0$\\x02\\x06\\x000\\x89\\x80\\x01\\x00L\"`\\x00\\x00\\x93\\x08\\x18\\x00\\xc0$\\x02\\x06\\x000\\x89\\x80\\x01\\x00L\"`\\x00\\x00\\x93B\\x15\\xb0\\x993g*--M\\xd9\\xd9\\xd9g\\x8e\\xcd\\x9f?_}\\xfa\\xf4\\xd1\\x80\\x01\\x034q\\xe2D\\x1d9r\\xc4\\xe3B\\x00@X\\x84*`EEE*++;\\xebXAA\\x81~\\xfc\\xf1G}\\xff\\xfd\\xf7\\xba\\xed\\xb6\\xdb\\xb4x\\xf1bO\\xeb\\x00\\x00a\\x12\\xaa\\x80\\xc5\\xe3qu\\xec\\xd8\\xf1\\xacc\\xa3G\\x8fVJJ\\x8a$\\xe9\\xce;\\xefTuu\\xb5\\x8fi\\x00\\x80\\x90\\tU\\xc0\\xfe\\xcd\\x9bo\\xbe\\xa9{\\xef\\xbd\\xd7\\xf7\\x0c\\x00@\\x08\\xa4\\xf8\\x1ep\\xb1\\x16-Z\\xa4\\x94\\x94\\x14M\\x9f>\\xfd\\x82\\xe7$\\x12\\t%\\x12\\tIR2\\x99l\\xaei\\x00\\x00\\x0fL\\\\\\x81\\xadZ\\xb5J\\xef\\xbd\\xf7\\x9e\\xd6\\xad[\\xa7H$r\\xc1\\xf3\\x8a\\x8b\\x8b\\x15\\x04\\x81\\x82 Pjjj3.\\x04\\x004\\xb7\\xd0_\\x81\\x95\\x95\\x95\\xe9\\xf9\\xe7\\x9f\\xd7g\\x9f}\\xa6\\x1bo\\xbc\\xd1\\xf7\\x1c\\x00@H\\x84\\xea\\n\\xac\\xb0\\xb0Pyyy\\xda\\xb3g\\x8f222\\xb4b\\xc5\\n=\\xfa\\xe8\\xa3:v\\xec\\x98\\n\\n\\n\\x14\\x8dF\\xf5\\xc8#\\x8f\\xf8\\x9e\\t\\x00\\x08\\x81P]\\x81\\x95\\x96\\x96696k\\xd6,\\x0fK\\x00\\x00a\\x17\\xaa+0\\x00\\x00.\\x16\\x01\\x03\\x00\\x98D\\xc0\\x00\\x00&\\x110\\x00\\x80I\\x04\\x0c\\x00`\\x12\\x01\\x03\\x00\\x98D\\xc0\\x00\\x00&\\x110\\x00\\x80I\\x04\\x0c\\x00`\\x12\\x01\\x03\\x00\\x98D\\xc0\\x00\\x00&\\x110\\x00\\x80I\\x04\\x0c\\x00`\\x12\\x01\\x03\\x00\\x98D\\xc0\\x00\\x00&\\x110\\x00\\x80I\\x04\\x0c\\x00`\\x12\\x01\\x03\\x00\\x98D\\xc0\\x00\\x00&\\x85.`3g\\xceTZZ\\x9a\\xb2\\xb3\\xb3\\xcf\\x1c\\xfb\\xe3\\x8f?TPP\\xa0[o\\xbdU\\x05\\x05\\x05:|\\xf8\\xb0\\xc7\\x85\\x00\\x800\\x08]\\xc0\\x8a\\x8a\\x8aTVVv\\xd6\\xb1%K\\x96h\\xe4\\xc8\\x91\\xda\\xbbw\\xafF\\x8e\\x1c\\xa9%K\\x96xZ\\x07\\x00\\x08\\x8b\\xd0\\x05,\\x1e\\x8f\\xabc\\xc7\\x8eg\\x1d\\xdb\\xb4i\\x93\\x1e|\\xf0AI\\xd2\\x83\\x0f>\\xa8w\\xdey\\xc7\\xc74\\x00@\\x88\\x84.`\\xe7\\xf3\\xdbo\\xbf)==]\\x92\\x94\\x9e\\x9e\\xae\\x83\\x07\\x0fz^\\x04\\x00\\xf0-\\xc5\\xf7\\x80+)\\x91H(\\x91HH\\x92\\x92\\xc9\\xa4\\xe75\\x00\\x80\\xab\\xc9\\xc4\\x15X\\xe7\\xce\\x9dU[[+I\\xaa\\xad\\xadUZZ\\xday\\xcf+..V\\x10\\x04\\n\\x82@\\xa9\\xa9\\xa9\\xcd9\\x11\\x00\\xd0\\xccL\\x04l\\xc2\\x84\\tZ\\xb5j\\x95$i\\xd5\\xaaU\\xba\\xef\\xbe\\xfb</\\x02\\x00\\xf8\\x16\\xba\\x80\\x15\\x16\\x16*//O{\\xf6\\xecQFF\\x86V\\xacX\\xa1\\xa7\\x9f~Z\\x9b7o\\xd6\\xad\\xb7\\xde\\xaa\\xcd\\x9b7\\xeb\\xe9\\xa7\\x9f\\xf6=\\x13\\x00\\xe0Y\\xe8^\\x03+--=\\xef\\xf1-[\\xb64\\xf3\\x12\\x00@\\x98\\x85\\xee\\n\\x0c\\x00\\x80\\x8bA\\xc0\\x00\\x00&\\x110\\x00\\x80I\\x04\\x0c\\x00`\\x12\\x01\\x03\\x00\\x98D\\xc0\\x00\\x00&\\x110\\x00\\x80I\\x04\\x0c\\x00`\\x12\\x01\\x03\\x00\\x98D\\xc0\\x00\\x00&\\x110\\x00\\x80I\\x04\\x0c\\x00`\\x12\\x01\\x03\\x00\\x98D\\xc0\\x00\\x00&\\x110\\x00\\x80I\\x04\\x0c\\x00`\\x12\\x01\\x03\\x00\\x98D\\xc0\\x00\\x00&\\x110\\x00\\x80If\\x02\\xf6\\xd2K/\\xa9_\\xbf~\\xca\\xce\\xceVaa\\xa1N\\x9f>\\xed{\\x12\\x00\\xc0#\\x13\\x01\\xab\\xa9\\xa9\\xd1\\xb2e\\xcb\\x14\\x04\\x81~\\xfc\\xf1G544h\\xfd\\xfa\\xf5\\xbeg\\x01\\x00<2\\x110I\\xaa\\xaf\\xaf\\xd7\\xa9S\\xa7T__\\xaf\\x93\\'O\\xaak\\xd7\\xae\\xbe\\'\\x01\\x00<2\\x11\\xb0n\\xdd\\xba\\xe9\\xa9\\xa7\\x9eR\\x8f\\x1e=\\x94\\x9e\\x9e\\xae\\x9bn\\xbaI\\xa3G\\x8f\\xf6=\\x0b\\x00\\xe0\\x91\\x89\\x80\\x1d>|X\\x9b6mREE\\x85\\xf6\\xef\\xdf\\xaf\\x13\\'Nh\\xed\\xda\\xb5M\\xceK$\\x12\\x8a\\xc5b\\x8a\\xc5bJ&\\x93\\x1e\\x96\\x02\\x00\\x9a\\x8b\\x89\\x80}\\xfc\\xf1\\xc7\\xea\\xd9\\xb3\\xa7RSS\\xd5\\xb2eKM\\x9a4I\\xdb\\xb7oor^qq\\xb1\\x82 P\\x10\\x04JMM\\xf5\\xb0\\x14\\x00\\xd0\\\\L\\x04\\xacG\\x8f\\x1e\\xfa\\xf2\\xcb/u\\xf2\\xe4I9\\xe7\\xb4e\\xcb\\x16eee\\xf9\\x9e\\x05\\x00\\xf0\\xc8D\\xc0\\x86\\x0c\\x19\\xa2)S\\xa6h\\xd0\\xa0A\\xea\\xdf\\xbf\\xbf\\x1a\\x1b\\x1bU\\\\\\\\\\xec{\\x16\\x00\\xc0\\xa3\\x88s\\xce\\xf9\\x1eq5\\xc4b1\\x05A\\xe0{\\x06pUD\"\\xbe\\x17 \\xcc.\\xe7\\xbb\\xba\\xa5\\xef\\x9d&\\xae\\xc0\\x00\\x008\\x17\\x01\\x03\\x00\\x98D\\xc0\\x00\\x00&\\x110\\x00\\x80I\\x04\\x0c\\x00`\\x12\\x01\\x03\\x00\\x98D\\xc0\\x00\\x00&\\x110\\x00\\x80I\\x04\\x0c\\x00`\\x12\\x01\\x03\\x00\\x98D\\xc0\\x00\\x00&\\x110\\x00\\x80I\\x04\\x0c\\x00`\\x12\\x01\\x03\\x00\\x98D\\xc0\\x00\\x00&\\x110\\x00\\x80I\\x04\\x0c\\x00`\\x12\\x01\\x03\\x00\\x98d&`G\\x8e\\x1c\\xd1\\x94)S\\xd4\\xa7O\\x1feeei\\xc7\\x8e\\x1d\\xbe\\'\\x01\\x00<J\\xf1=\\xe0b=\\xfe\\xf8\\xe3\\x1a;v\\xac\\xde~\\xfbm\\xd5\\xd5\\xd5\\xe9\\xe4\\xc9\\x93\\xbe\\'\\x01\\x00<2\\x11\\xb0\\xa3G\\x8fj\\xeb\\xd6\\xadz\\xeb\\xad\\xb7$I\\xadZ\\xb5R\\xabV\\xad\\xfc\\x8e\\x02\\x00xe\\xe2\\x16\\xe2/\\xbf\\xfc\\xa2\\xd4\\xd4T\\xcd\\x981C\\x03\\x07\\x0e\\xd4\\xec\\xd9\\xb3u\\xe2\\xc4\\t\\xdf\\xb3\\x00\\x00\\x1e\\x99\\x08X}}\\xbd\\xca\\xcb\\xcb5g\\xce\\x1c\\xed\\xdc\\xb9Sm\\xda\\xb4\\xd1\\x92%K\\x9a\\x9c\\x97H$\\x14\\x8b\\xc5\\x14\\x8b\\xc5\\x94L&/\\xfd\\x0bF\"\\xbc\\xf1v\\xfe7\\x00\\xa1a\"`\\x19\\x19\\x19\\xca\\xc8\\xc8\\xd0\\x90!C$IS\\xa6LQyyy\\x93\\xf3\\x8a\\x8b\\x8b\\x15\\x04\\x81\\x82 Pjjjs\\xcf\\x04\\x004#\\x13\\x01\\xeb\\xd2\\xa5\\x8b\\xbaw\\xef\\xae={\\xf6H\\x92\\xb6l\\xd9\\xa2\\xbe}\\xfbz^\\x05\\x00\\xf0\\xc9\\xc4\\x0fqH\\xd2\\xab\\xaf\\xbe\\xaa\\xe9\\xd3\\xa7\\xab\\xae\\xaeN\\xbdz\\xf5\\xd2\\xca\\x95+}O\\x02\\x00xd&`\\xd1hTA\\x10\\xf8\\x9e\\x01\\x00\\x08\\t\\x13\\xb7\\x10\\x01\\x008\\x17\\x01\\x03\\x00\\x98D\\xc0\\x00\\x00&\\x110\\x00\\x80I\\x04\\x0c\\x00`\\x12\\x01\\x03\\x00\\x98D\\xc0\\x00\\x00&\\x110\\x00\\x80I\\x04\\x0c\\x00`\\x12\\x01\\x03\\x00\\x98D\\xc0\\x00\\x00&\\x110\\x00\\x80I\\x04\\x0c\\x00`\\x12\\x01\\x03\\x00\\x98D\\xc0\\x00\\x00&\\x110\\x00\\x80I\\x04\\x0c\\x00`\\x12\\x01\\x03\\x00\\x98D\\xc0\\x00\\x00&\\x99\\nXCC\\x83\\x06\\x0e\\x1c\\xa8\\xf1\\xe3\\xc7\\xfb\\x9e\\x02\\x00\\xf0\\xccT\\xc0^y\\xe5\\x15eee\\xf9\\x9e\\x01\\x00\\x08\\x013\\x01\\xab\\xae\\xae\\xd6\\xfb\\xef\\xbf\\xaf\\xd9\\xb3g\\xfb\\x9e\\x02\\x00\\x08\\x013\\x01{\\xe2\\x89\\'TRR\\xa2\\xff\\xfc\\xc7\\xccd\\x00\\xc0Ud\\xa2\\x06\\xef\\xbd\\xf7\\x9e\\xd2\\xd2\\xd2\\x94\\x9b\\x9b\\xfb\\x8f\\xe7%\\x12\\t\\xc5b1\\xc5b1%\\x93\\xc9fZ\\x07\\x00\\xf0!\\xe2\\x9cs\\xbeG\\xfc\\x9bg\\x9eyFk\\xd6\\xacQJJ\\x8aN\\x9f>\\xad\\xa3G\\x8fj\\xd2\\xa4IZ\\xbbv\\xed\\x05?\\'\\x16\\x8b)\\x08\\x82K\\xfb\\x82\\x91\\xc8%.\\xc55/$\\xff\\\\x\\x8a\\xe2\\x9f\\\\\\xce\\xd3\\xf4\\xb2\\xbew63\\x13W`\\x8b\\x17/Vuu\\xb5*++\\xb5~\\xfdz\\x8d\\x181\\xe2\\x1f\\xe3\\x05\\x00\\xb8\\xf6\\x99\\x08\\x18\\x00\\x00\\xe7J\\xf1=\\xe0\\xffk\\xd8\\xb0a\\x1a6l\\x98\\xef\\x19\\x00\\x00\\xcf\\xb8\\x02\\x03\\x00\\x98D\\xc0\\x00\\x00&\\x110\\x00\\x80I\\x04\\x0c\\x00`\\x12\\x01\\x03\\x00\\x98D\\xc0\\x00\\x00&\\x110\\x00\\x80I\\x04\\x0c\\x00`\\x12\\x01\\x03\\x00\\x98D\\xc0\\x00\\x00&\\x110\\x00\\x80I\\x04\\x0c\\x00`\\x12\\x01\\x03\\x00\\x98D\\xc0\\x00\\x00&\\x110\\x00\\x80I\\x04\\x0c\\x00`\\x12\\x01\\x03\\x00\\x98D\\xc0\\x00\\x00&\\x99\\x08XUU\\x95\\x86\\x0f\\x1f\\xae\\xac\\xac,\\xf5\\xeb\\xd7O\\xaf\\xbc\\xf2\\x8a\\xefI\\x00\\x00\\xcfR|\\x0f\\xb8\\x18)))z\\xf1\\xc5\\x175h\\xd0 \\x1d;vL\\xb9\\xb9\\xb9*((P\\xdf\\xbe}}O\\x03\\x00xb\\xe2\\n,==]\\x83\\x06\\r\\x92$\\xb5k\\xd7NYYY\\xaa\\xa9\\xa9\\xf1\\xbc\\n\\x00\\xe0\\x93\\x89\\x80\\xfd_\\x95\\x95\\x95\\xda\\xb9s\\xa7\\x86\\x0c\\x19\\xe2{\\n\\x00\\xc0#\\x13\\xb7\\x10\\xffv\\xfc\\xf8qM\\x9e<Y/\\xbf\\xfc\\xb2\\xda\\xb7o\\xdf\\xe4\\xe3\\x89DB\\x89DB\\x92\\x94L&\\x9b{\\x1e\\x00\\xa0\\x19E\\x9cs\\xce\\xf7\\x88\\x8b\\xf1\\xd7_\\x7fi\\xfc\\xf8\\xf1\\x1a3f\\x8c\\x9e|\\xf2\\xc9\\x7f=?\\x16\\x8b)\\x08\\x82K\\xfbb\\x91\\xc8\\xa5}\\x1e\\xae}!\\xf9\\xe7\\xc2S\\x14\\xff\\xe4r\\x9e\\xa6\\x97\\xf5\\xbd\\xb3\\x99\\x99\\xb8\\x85\\xe8\\x9c\\xd3\\xacY\\xb3\\x94\\x95\\x95uQ\\xf1\\x02\\x00\\\\\\xfbL\\x04\\xec\\x8b/\\xbe\\xd0\\x9a5k\\xf4\\xc9\\'\\x9f(\\x1a\\x8d*\\x1a\\x8d\\xea\\x83\\x0f>\\xf0=\\x0b\\x00\\xe0\\x91\\x89\\xd7\\xc0\\x86\\x0e\\x1d*#w:\\x01\\x00\\xcd\\xc4\\xc4\\x15\\x18\\x00\\x00\\xe7\"`\\x00\\x00\\x93\\x08\\x18\\x00\\xc0$\\x02\\x06\\x000\\x89\\x80\\x01\\x00L\"`\\x00\\x00\\x93\\x08\\x18\\x00\\xc0$\\x02\\x06\\x000\\x89\\x80\\x01\\x00L\"`\\x00\\x00\\x93\\x08\\x18\\x00\\xc0$\\x02\\x06\\x000\\x89\\x80\\x01\\x00L\"`\\x00\\x00\\x93\\x08\\x18\\x00\\xc0$\\x02\\x06\\x000\\x89\\x80\\x01\\x00L\"`\\x00\\x00\\x93\\x08\\x18\\x00\\xc0$3\\x01+++\\xd3\\xed\\xb7\\xdf\\xae\\xde\\xbd{k\\xc9\\x92%\\xbe\\xe7\\x00\\x00<3\\x11\\xb0\\x86\\x86\\x06\\xcd\\x9d;W\\x1f~\\xf8\\xa1v\\xed\\xda\\xa5\\xd2\\xd2R\\xed\\xda\\xb5\\xcb\\xf7,\\x00\\x80G&\\x02\\xf6\\xd5W_\\xa9w\\xef\\xde\\xea\\xd5\\xab\\x97Z\\xb5j\\xa5i\\xd3\\xa6i\\xd3\\xa6M\\xbeg\\x01\\x00<2\\x11\\xb0\\x9a\\x9a\\x1au\\xef\\xde\\xfd\\xcc\\xfb\\x19\\x19\\x19\\xaa\\xa9\\xa9\\xf1\\xb8\\x08\\x00\\xe0[\\x8a\\xef\\x01\\x17\\xc39\\xd7\\xe4X$\\x12ir,\\x91H(\\x91HH\\x92v\\xef\\xde\\xadX,vi_07\\xf7\\xd2>\\xef\\x1a\\x95L&\\x95\\x9a\\x9a\\xea{F8\\\\\\xeas\\xea\\n\\xe3)z6\\x9e\\xa3g\\xbb\\x9c\\xa7iee\\xe5\\x15\\xdbq\\xb5\\x99\\x08XFF\\x86\\xaa\\xaa\\xaa\\xce\\xbc_]]\\xad\\xae]\\xbb69\\xaf\\xb8\\xb8X\\xc5\\xc5\\xc5\\xcd9\\xed\\xba\\x10\\x8b\\xc5\\x14\\x04\\x81\\xef\\x19\\xc0\\x05\\xf1\\x1c\\xbd>\\x99\\xb8\\x858x\\xf0`\\xed\\xdd\\xbbW\\x15\\x15\\x15\\xaa\\xab\\xab\\xd3\\xfa\\xf5\\xeb5a\\xc2\\x04\\xdf\\xb3\\x00\\x00\\x1e\\x99\\xb8\\x02KII\\xd1k\\xaf\\xbd\\xa61c\\xc6\\xa8\\xa1\\xa1A3g\\xceT\\xbf~\\xfd|\\xcf\\x02\\x00xd\"`\\x924n\\xdc8\\x8d\\x1b7\\xce\\xf7\\x8c\\xeb\\x12\\xb7e\\x11v<G\\xafO\\x11w\\xbe\\x9f\\x90\\x00\\x00 \\xe4L\\xbc\\x06\\x06\\x00\\xc0\\xb9\\x08\\x18\\xcek\\xdc\\xb8q:r\\xe4\\x88\\xef\\x19\\xb8\\xce\\xb4m\\xdb\\xd6\\xf7\\x04\\x18\\xc2-D\\x00\\xa1\\xd1\\xb6m[\\x1d?~\\xdc\\xf7\\x0c\\x18\\xc1\\x15\\xd8u\\xaa\\xa4\\xa4D\\xcb\\x96-\\x93$\\xcd\\x9b7O#F\\x8c\\x90$m\\xd9\\xb2E\\xf7\\xdf\\x7f\\xbf233u\\xe8\\xd0!UVV*++K\\x0f=\\xf4\\x90\\xfa\\xf5\\xeb\\xa7\\xd1\\xa3G\\xeb\\xd4\\xa9S\\x92\\xa4e\\xcb\\x96\\xa9o\\xdf\\xbe\\x1a0`\\x80\\xa6M\\x9b\\xe6\\xed\\xb1\\xe0\\xda\\xe3\\x9c\\xd3\\xfc\\xf9\\xf3\\x95\\x9d\\x9d\\xad\\xfe\\xfd\\xfbk\\xc3\\x86\\r\\x92\\xa4\\xda\\xdaZ\\xc5\\xe3qE\\xa3Qeggk\\xdb\\xb6mjhhPQQ\\xd1\\x99s_z\\xe9%I\\xd2\\xbe}\\xfb4v\\xecX\\xe5\\xe6\\xe6*??_\\xbbw\\xef\\x96$m\\xdc\\xb8Q\\xd9\\xd9\\xd9\\xca\\xc9\\xc9Q<\\x1e\\xf7\\xf6\\x18q\\x058\\\\\\x97v\\xec\\xd8\\xe1\\xa6L\\x99\\xe2\\x9csn\\xe8\\xd0\\xa1n\\xf0\\xe0\\xc1\\xae\\xae\\xae\\xce-X\\xb0\\xc0-_\\xbe\\xdc\\xddr\\xcb-.\\x99L\\xba\\x8a\\x8a\\n\\xd7\\xa2E\\x0b\\xb7s\\xe7N\\xe7\\x9csS\\xa7Nuk\\xd6\\xacq\\xce9\\x97\\x9e\\x9e\\xeeN\\x9f>\\xed\\x9cs\\xee\\xf0\\xe1\\xc3~\\x1e\\x08\\xae)m\\xda\\xb4q\\xce9\\xf7\\xf6\\xdbo\\xbbQ\\xa3F\\xb9\\xfa\\xfazw\\xe0\\xc0\\x01\\xd7\\xbd{w\\xb7\\x7f\\xff~\\xb7t\\xe9R\\xb7p\\xe1B\\xe7\\x9cs\\xf5\\xf5\\xf5\\xee\\xe8\\xd1\\xa3.\\x08\\x027j\\xd4\\xa83\\x7f\\xc7\\xdf\\xcf\\xc5\\x11#F\\xb8\\x9f\\x7f\\xfe\\xd99\\xe7\\xdc\\x97_~\\xe9\\x86\\x0f\\x1f\\xee\\x9cs.;;\\xdbUWW\\x9fu.l\\xe2\\n\\xec:\\x95\\x9b\\x9b\\xabo\\xbe\\xf9F\\xc7\\x8e\\x1dS\\xeb\\xd6\\xad\\x95\\x97\\x97\\xa7 \\x08\\xb4m\\xdb6\\xe5\\xe7\\xe7\\x9fun\\xcf\\x9e=\\x15\\x8dF\\xcf|\\xde\\xdf\\xbfjf\\xc0\\x80\\x01\\x9a>}\\xba\\xd6\\xae]\\xab\\x94\\x143\\xff#\\x03\\x06|\\xfe\\xf9\\xe7*,,T\\x8b\\x16-\\xd4\\xb9sg\\xdds\\xcf=\\xfa\\xfa\\xeb\\xaf5x\\xf0`\\xad\\\\\\xb9R\\x0b\\x16,\\xd0\\x0f?\\xfc\\xa0v\\xed\\xda\\xa9W\\xaf^\\xfa\\xe5\\x97_\\xf4\\xd8c\\x8f\\xa9\\xac\\xacL\\xed\\xdb\\xb7\\xd7\\xf1\\xe3\\xc7\\xb5}\\xfbvM\\x9d:U\\xd1hT\\x0f?\\xfc\\xb0jkk%Iw\\xdf}\\xb7\\x8a\\x8a\\x8a\\xf4\\xc6\\x1bo\\xa8\\xa1\\xa1\\xc1\\xf3#\\xc5\\xe5 `\\xd7\\xa9\\x96-[*33S+W\\xae\\xd4]w\\xdd\\xa5\\xfc\\xfc|}\\xfa\\xe9\\xa7\\xda\\xb7o\\x9f\\xb2\\xb2\\xb2\\xce:\\xb7u\\xeb\\xd6g\\xfe\\xdc\\xa2E\\x0b\\xd5\\xd7\\xd7K\\x92\\xde\\x7f\\xff}\\xcd\\x9d;W\\xdf|\\xf3\\x8drss\\xcf\\x1c\\x07.\\x97\\xbb\\xc0K\\xf3\\xf1x\\\\[\\xb7nU\\xb7n\\xdd\\xf4\\xc0\\x03\\x0fh\\xf5\\xea\\xd5\\xba\\xf9\\xe6\\x9b\\xf5\\xddw\\xdfi\\xd8\\xb0az\\xfd\\xf5\\xd75{\\xf6l566\\xaaC\\x87\\x0e\\xfa\\xf6\\xdbo\\xcf\\xbc\\xfd\\xf4\\xd3O\\x92\\xa4\\xe5\\xcb\\x97k\\xe1\\xc2\\x85\\xaa\\xaa\\xaaR4\\x1a\\xd5\\xef\\xbf\\xff\\xde\\x9c\\x0f\\rW\\x10\\x01\\xbb\\x8e\\xc5\\xe3q-]\\xbaT\\xf1x\\\\\\xf9\\xf9\\xf9Z\\xbe|\\xb9\\xa2\\xd1\\xe8y\\x7fQ\\xf2\\xb9\\x1a\\x1b\\x1bUUU\\xa5\\xe1\\xc3\\x87\\xab\\xa4\\xa4DG\\x8e\\x1c\\xe1\\xc5w\\\\1\\xf1x\\\\\\x1b6lPCC\\x83\\x92\\xc9\\xa4\\xb6n\\xdd\\xaa;\\xee\\xb8C\\xbf\\xfe\\xfa\\xab\\xd2\\xd2\\xd2\\xf4\\xd0C\\x0fi\\xd6\\xacY*//\\xd7\\xa1C\\x87\\xd4\\xd8\\xd8\\xa8\\xc9\\x93\\'\\xeb\\xb9\\xe7\\x9eSyy\\xb9\\xda\\xb7o\\xaf\\x9e={j\\xe3\\xc6\\x8d\\x92\\xfe\\x17\\xc4\\xef\\xbe\\xfbN\\xd2\\xff^\\x1b\\x1b2d\\x88\\x9e}\\xf6Yu\\xea\\xd4\\xe9\\xac\\xdf\\xb3\\n[\\xb8\\xefs\\x1d\\xcb\\xcf\\xcf\\xd7\\xa2E\\x8b\\x94\\x97\\x97\\xa76m\\xda\\xe8\\x86\\x1bnhr\\xfb\\xf0B\\x1a\\x1a\\x1at\\xff\\xfd\\xf7\\xeb\\xcf?\\xff\\x94sN\\xf3\\xe6\\xcdS\\x87\\x0e\\x1d\\xae\\xf2b\\\\/&N\\x9c\\xa8\\x1d;v(\\'\\'G\\x91HD%%%\\xea\\xd2\\xa5\\x8bV\\xadZ\\xa5\\x17^xA-[\\xb6T\\xdb\\xb6m\\xb5z\\xf5j\\xd5\\xd4\\xd4h\\xc6\\x8c\\x19jll\\x94$-^\\xbcX\\x92\\xb4n\\xdd:\\xcd\\x993G\\x0b\\x17.\\xd4_\\x7f\\xfd\\xa5i\\xd3\\xa6)\\'\\'G\\xf3\\xe7\\xcf\\xd7\\xde\\xbd{\\xe5\\x9c\\xd3\\xc8\\x91#\\x95\\x93\\x93\\xe3\\xf3\\xa1\\xe22\\xf0c\\xf4\\x00\\x00\\x93\\xb8\\x85\\x08\\x000\\x89\\x80\\x01\\x00L\"`\\x00\\x00\\x93\\x08\\x18\\x00\\xc0$\\x02\\x06\\x000\\x89\\x80\\x01\\x00L\"`\\x00\\x00\\x93\\x08\\x18\\x00\\xc0$\\x02\\x06\\x000\\x89\\x80\\x01\\x00L\"`\\x00\\x00\\x93\\x08\\x18\\x00\\xc0$\\x02\\x06\\x000\\x89\\x80\\x01\\x00L\"`\\x00\\x00\\x93\\x08\\x18\\x00\\xc0$\\x02\\x06\\x000\\x89\\x80\\x01\\x00L\"`\\x00\\x00\\x93\\x08\\x18\\x00\\xc0\\xa4\\xff\\x02\\x9c\\x1d=\\x8a\\x9a\\xdcl\\xce\\x00\\x00\\x00\\x00IEND\\xaeB`\\x82'"
      ]
     },
     "execution_count": 76,
     "metadata": {},
     "output_type": "execute_result"
    }
   ],
   "source": [
    "df_back.loc[0,'graph']"
   ]
  },
  {
   "cell_type": "code",
   "execution_count": 77,
   "metadata": {},
   "outputs": [],
   "source": [
    "from PIL import Image\n",
    "import io\n",
    "\n",
    "image = Image.open(io.BytesIO(df_back.loc[0,'graph']))"
   ]
  },
  {
   "cell_type": "code",
   "execution_count": 78,
   "metadata": {},
   "outputs": [
    {
     "data": {
      "image/png": "[encoded data removed]",
      "text/plain": [
       "<PIL.PngImagePlugin.PngImageFile image mode=RGBA size=432x288 at 0x119078470>"
      ]
     },
     "execution_count": 78,
     "metadata": {},
     "output_type": "execute_result"
    }
   ],
   "source": [
    "image"
   ]
  },
  {
   "cell_type": "code",
   "execution_count": 79,
   "metadata": {},
   "outputs": [],
   "source": [
    "myclient.drop_database(mydb)"
   ]
  },
  {
   "cell_type": "code",
   "execution_count": null,
   "metadata": {},
   "outputs": [],
   "source": []
  }
 ],
 "metadata": {
  "kernelspec": {
   "display_name": "Python 3",
   "language": "python",
   "name": "python3"
  },
  "language_info": {
   "codemirror_mode": {
    "name": "ipython",
    "version": 3
   },
   "file_extension": ".py",
   "mimetype": "text/x-python",
   "name": "python",
   "nbconvert_exporter": "python",
   "pygments_lexer": "ipython3",
   "version": "3.7.3"
  }
 },
 "nbformat": 4,
 "nbformat_minor": 4
}
