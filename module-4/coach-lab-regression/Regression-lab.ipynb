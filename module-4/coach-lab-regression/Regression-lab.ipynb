{
 "cells": [
  {
   "cell_type": "markdown",
   "metadata": {},
   "source": [
    "## Predicting house prices with linear regression"
   ]
  },
  {
   "cell_type": "code",
   "execution_count": 1,
   "metadata": {},
   "outputs": [],
   "source": [
    "import pandas as pd\n",
    "import numpy as np"
   ]
  },
  {
   "cell_type": "code",
   "execution_count": 2,
   "metadata": {},
   "outputs": [],
   "source": [
    "houses_df = pd.read_csv('housing_price_regression.csv')"
   ]
  },
  {
   "cell_type": "markdown",
   "metadata": {},
   "source": [
    "### Dataset consists of 2051 homes and initially had 80 features (up to 278 from dummy variables)\n",
    "##### I cleaned the dataset beforehand"
   ]
  },
  {
   "cell_type": "code",
   "execution_count": 3,
   "metadata": {},
   "outputs": [
    {
     "data": {
      "text/html": [
       "<div>\n",
       "<style scoped>\n",
       "    .dataframe tbody tr th:only-of-type {\n",
       "        vertical-align: middle;\n",
       "    }\n",
       "\n",
       "    .dataframe tbody tr th {\n",
       "        vertical-align: top;\n",
       "    }\n",
       "\n",
       "    .dataframe thead th {\n",
       "        text-align: right;\n",
       "    }\n",
       "</style>\n",
       "<table border=\"1\" class=\"dataframe\">\n",
       "  <thead>\n",
       "    <tr style=\"text-align: right;\">\n",
       "      <th></th>\n",
       "      <th>Id</th>\n",
       "      <th>PID</th>\n",
       "      <th>Lot Frontage</th>\n",
       "      <th>Lot Area</th>\n",
       "      <th>Overall Qual</th>\n",
       "      <th>Overall Cond</th>\n",
       "      <th>Year Built</th>\n",
       "      <th>Year Remod/Add</th>\n",
       "      <th>Mas Vnr Area</th>\n",
       "      <th>BsmtFin SF 1</th>\n",
       "      <th>...</th>\n",
       "      <th>Misc Feature_TenC</th>\n",
       "      <th>Sale Type_CWD</th>\n",
       "      <th>Sale Type_Con</th>\n",
       "      <th>Sale Type_ConLD</th>\n",
       "      <th>Sale Type_ConLI</th>\n",
       "      <th>Sale Type_ConLw</th>\n",
       "      <th>Sale Type_New</th>\n",
       "      <th>Sale Type_Oth</th>\n",
       "      <th>Sale Type_WD</th>\n",
       "      <th>target</th>\n",
       "    </tr>\n",
       "  </thead>\n",
       "  <tbody>\n",
       "    <tr>\n",
       "      <th>0</th>\n",
       "      <td>109</td>\n",
       "      <td>533352170</td>\n",
       "      <td>0.0</td>\n",
       "      <td>13517</td>\n",
       "      <td>6</td>\n",
       "      <td>8</td>\n",
       "      <td>1976</td>\n",
       "      <td>2005</td>\n",
       "      <td>289.0</td>\n",
       "      <td>533.0</td>\n",
       "      <td>...</td>\n",
       "      <td>0</td>\n",
       "      <td>0</td>\n",
       "      <td>0</td>\n",
       "      <td>0</td>\n",
       "      <td>0</td>\n",
       "      <td>0</td>\n",
       "      <td>0</td>\n",
       "      <td>0</td>\n",
       "      <td>1</td>\n",
       "      <td>130500</td>\n",
       "    </tr>\n",
       "    <tr>\n",
       "      <th>1</th>\n",
       "      <td>544</td>\n",
       "      <td>531379050</td>\n",
       "      <td>43.0</td>\n",
       "      <td>11492</td>\n",
       "      <td>7</td>\n",
       "      <td>5</td>\n",
       "      <td>1996</td>\n",
       "      <td>1997</td>\n",
       "      <td>132.0</td>\n",
       "      <td>637.0</td>\n",
       "      <td>...</td>\n",
       "      <td>0</td>\n",
       "      <td>0</td>\n",
       "      <td>0</td>\n",
       "      <td>0</td>\n",
       "      <td>0</td>\n",
       "      <td>0</td>\n",
       "      <td>0</td>\n",
       "      <td>0</td>\n",
       "      <td>1</td>\n",
       "      <td>220000</td>\n",
       "    </tr>\n",
       "    <tr>\n",
       "      <th>2</th>\n",
       "      <td>153</td>\n",
       "      <td>535304180</td>\n",
       "      <td>68.0</td>\n",
       "      <td>7922</td>\n",
       "      <td>5</td>\n",
       "      <td>7</td>\n",
       "      <td>1953</td>\n",
       "      <td>2007</td>\n",
       "      <td>0.0</td>\n",
       "      <td>731.0</td>\n",
       "      <td>...</td>\n",
       "      <td>0</td>\n",
       "      <td>0</td>\n",
       "      <td>0</td>\n",
       "      <td>0</td>\n",
       "      <td>0</td>\n",
       "      <td>0</td>\n",
       "      <td>0</td>\n",
       "      <td>0</td>\n",
       "      <td>1</td>\n",
       "      <td>109000</td>\n",
       "    </tr>\n",
       "    <tr>\n",
       "      <th>3</th>\n",
       "      <td>318</td>\n",
       "      <td>916386060</td>\n",
       "      <td>73.0</td>\n",
       "      <td>9802</td>\n",
       "      <td>5</td>\n",
       "      <td>5</td>\n",
       "      <td>2006</td>\n",
       "      <td>2007</td>\n",
       "      <td>0.0</td>\n",
       "      <td>0.0</td>\n",
       "      <td>...</td>\n",
       "      <td>0</td>\n",
       "      <td>0</td>\n",
       "      <td>0</td>\n",
       "      <td>0</td>\n",
       "      <td>0</td>\n",
       "      <td>0</td>\n",
       "      <td>0</td>\n",
       "      <td>0</td>\n",
       "      <td>1</td>\n",
       "      <td>174000</td>\n",
       "    </tr>\n",
       "    <tr>\n",
       "      <th>4</th>\n",
       "      <td>255</td>\n",
       "      <td>906425045</td>\n",
       "      <td>82.0</td>\n",
       "      <td>14235</td>\n",
       "      <td>6</td>\n",
       "      <td>8</td>\n",
       "      <td>1900</td>\n",
       "      <td>1993</td>\n",
       "      <td>0.0</td>\n",
       "      <td>0.0</td>\n",
       "      <td>...</td>\n",
       "      <td>0</td>\n",
       "      <td>0</td>\n",
       "      <td>0</td>\n",
       "      <td>0</td>\n",
       "      <td>0</td>\n",
       "      <td>0</td>\n",
       "      <td>0</td>\n",
       "      <td>0</td>\n",
       "      <td>1</td>\n",
       "      <td>138500</td>\n",
       "    </tr>\n",
       "  </tbody>\n",
       "</table>\n",
       "<p>5 rows × 279 columns</p>\n",
       "</div>"
      ],
      "text/plain": [
       "    Id        PID  Lot Frontage  Lot Area  Overall Qual  Overall Cond  \\\n",
       "0  109  533352170           0.0     13517             6             8   \n",
       "1  544  531379050          43.0     11492             7             5   \n",
       "2  153  535304180          68.0      7922             5             7   \n",
       "3  318  916386060          73.0      9802             5             5   \n",
       "4  255  906425045          82.0     14235             6             8   \n",
       "\n",
       "   Year Built  Year Remod/Add  Mas Vnr Area  BsmtFin SF 1  ...  \\\n",
       "0        1976            2005         289.0         533.0  ...   \n",
       "1        1996            1997         132.0         637.0  ...   \n",
       "2        1953            2007           0.0         731.0  ...   \n",
       "3        2006            2007           0.0           0.0  ...   \n",
       "4        1900            1993           0.0           0.0  ...   \n",
       "\n",
       "   Misc Feature_TenC  Sale Type_CWD  Sale Type_Con  Sale Type_ConLD  \\\n",
       "0                  0              0              0                0   \n",
       "1                  0              0              0                0   \n",
       "2                  0              0              0                0   \n",
       "3                  0              0              0                0   \n",
       "4                  0              0              0                0   \n",
       "\n",
       "   Sale Type_ConLI  Sale Type_ConLw  Sale Type_New  Sale Type_Oth  \\\n",
       "0                0                0              0              0   \n",
       "1                0                0              0              0   \n",
       "2                0                0              0              0   \n",
       "3                0                0              0              0   \n",
       "4                0                0              0              0   \n",
       "\n",
       "   Sale Type_WD   target  \n",
       "0              1  130500  \n",
       "1              1  220000  \n",
       "2              1  109000  \n",
       "3              1  174000  \n",
       "4              1  138500  \n",
       "\n",
       "[5 rows x 279 columns]"
      ]
     },
     "execution_count": 3,
     "metadata": {},
     "output_type": "execute_result"
    }
   ],
   "source": [
    "houses_df.head()"
   ]
  },
  {
   "cell_type": "code",
   "execution_count": 4,
   "metadata": {},
   "outputs": [
    {
     "name": "stdout",
     "output_type": "stream",
     "text": [
      "<class 'pandas.core.frame.DataFrame'>\n",
      "RangeIndex: 2051 entries, 0 to 2050\n",
      "Columns: 279 entries, Id to target\n",
      "dtypes: float64(25), int64(254)\n",
      "memory usage: 4.4 MB\n"
     ]
    }
   ],
   "source": [
    "houses_df.info()"
   ]
  },
  {
   "cell_type": "code",
   "execution_count": 5,
   "metadata": {
    "scrolled": true
   },
   "outputs": [
    {
     "data": {
      "text/html": [
       "<div>\n",
       "<style scoped>\n",
       "    .dataframe tbody tr th:only-of-type {\n",
       "        vertical-align: middle;\n",
       "    }\n",
       "\n",
       "    .dataframe tbody tr th {\n",
       "        vertical-align: top;\n",
       "    }\n",
       "\n",
       "    .dataframe thead th {\n",
       "        text-align: right;\n",
       "    }\n",
       "</style>\n",
       "<table border=\"1\" class=\"dataframe\">\n",
       "  <thead>\n",
       "    <tr style=\"text-align: right;\">\n",
       "      <th></th>\n",
       "      <th>count</th>\n",
       "      <th>mean</th>\n",
       "      <th>std</th>\n",
       "      <th>min</th>\n",
       "      <th>25%</th>\n",
       "      <th>50%</th>\n",
       "      <th>75%</th>\n",
       "      <th>max</th>\n",
       "    </tr>\n",
       "  </thead>\n",
       "  <tbody>\n",
       "    <tr>\n",
       "      <th>Id</th>\n",
       "      <td>2051.0</td>\n",
       "      <td>1.474034e+03</td>\n",
       "      <td>8.439808e+02</td>\n",
       "      <td>1.0</td>\n",
       "      <td>753.5</td>\n",
       "      <td>1486.0</td>\n",
       "      <td>2198.0</td>\n",
       "      <td>2930.0</td>\n",
       "    </tr>\n",
       "    <tr>\n",
       "      <th>PID</th>\n",
       "      <td>2051.0</td>\n",
       "      <td>7.135900e+08</td>\n",
       "      <td>1.886918e+08</td>\n",
       "      <td>526301100.0</td>\n",
       "      <td>528458140.0</td>\n",
       "      <td>535453200.0</td>\n",
       "      <td>907180080.0</td>\n",
       "      <td>924152030.0</td>\n",
       "    </tr>\n",
       "    <tr>\n",
       "      <th>Lot Frontage</th>\n",
       "      <td>2051.0</td>\n",
       "      <td>5.794442e+01</td>\n",
       "      <td>3.313733e+01</td>\n",
       "      <td>0.0</td>\n",
       "      <td>43.5</td>\n",
       "      <td>63.0</td>\n",
       "      <td>78.0</td>\n",
       "      <td>313.0</td>\n",
       "    </tr>\n",
       "    <tr>\n",
       "      <th>Lot Area</th>\n",
       "      <td>2051.0</td>\n",
       "      <td>1.006521e+04</td>\n",
       "      <td>6.742489e+03</td>\n",
       "      <td>1300.0</td>\n",
       "      <td>7500.0</td>\n",
       "      <td>9430.0</td>\n",
       "      <td>11513.5</td>\n",
       "      <td>159000.0</td>\n",
       "    </tr>\n",
       "    <tr>\n",
       "      <th>Overall Qual</th>\n",
       "      <td>2051.0</td>\n",
       "      <td>6.112140e+00</td>\n",
       "      <td>1.426271e+00</td>\n",
       "      <td>1.0</td>\n",
       "      <td>5.0</td>\n",
       "      <td>6.0</td>\n",
       "      <td>7.0</td>\n",
       "      <td>10.0</td>\n",
       "    </tr>\n",
       "    <tr>\n",
       "      <th>Overall Cond</th>\n",
       "      <td>2051.0</td>\n",
       "      <td>5.562165e+00</td>\n",
       "      <td>1.104497e+00</td>\n",
       "      <td>1.0</td>\n",
       "      <td>5.0</td>\n",
       "      <td>5.0</td>\n",
       "      <td>6.0</td>\n",
       "      <td>9.0</td>\n",
       "    </tr>\n",
       "    <tr>\n",
       "      <th>Year Built</th>\n",
       "      <td>2051.0</td>\n",
       "      <td>1.971709e+03</td>\n",
       "      <td>3.017789e+01</td>\n",
       "      <td>1872.0</td>\n",
       "      <td>1953.5</td>\n",
       "      <td>1974.0</td>\n",
       "      <td>2001.0</td>\n",
       "      <td>2010.0</td>\n",
       "    </tr>\n",
       "    <tr>\n",
       "      <th>Year Remod/Add</th>\n",
       "      <td>2051.0</td>\n",
       "      <td>1.984190e+03</td>\n",
       "      <td>2.103625e+01</td>\n",
       "      <td>1950.0</td>\n",
       "      <td>1964.5</td>\n",
       "      <td>1993.0</td>\n",
       "      <td>2004.0</td>\n",
       "      <td>2010.0</td>\n",
       "    </tr>\n",
       "    <tr>\n",
       "      <th>Mas Vnr Area</th>\n",
       "      <td>2051.0</td>\n",
       "      <td>9.862652e+01</td>\n",
       "      <td>1.743247e+02</td>\n",
       "      <td>0.0</td>\n",
       "      <td>0.0</td>\n",
       "      <td>0.0</td>\n",
       "      <td>159.0</td>\n",
       "      <td>1600.0</td>\n",
       "    </tr>\n",
       "    <tr>\n",
       "      <th>BsmtFin SF 1</th>\n",
       "      <td>2051.0</td>\n",
       "      <td>4.420848e+02</td>\n",
       "      <td>4.611950e+02</td>\n",
       "      <td>0.0</td>\n",
       "      <td>0.0</td>\n",
       "      <td>368.0</td>\n",
       "      <td>733.5</td>\n",
       "      <td>5644.0</td>\n",
       "    </tr>\n",
       "    <tr>\n",
       "      <th>BsmtFin SF 2</th>\n",
       "      <td>2051.0</td>\n",
       "      <td>4.793564e+01</td>\n",
       "      <td>1.649641e+02</td>\n",
       "      <td>0.0</td>\n",
       "      <td>0.0</td>\n",
       "      <td>0.0</td>\n",
       "      <td>0.0</td>\n",
       "      <td>1474.0</td>\n",
       "    </tr>\n",
       "    <tr>\n",
       "      <th>Bsmt Unf SF</th>\n",
       "      <td>2051.0</td>\n",
       "      <td>5.674515e+02</td>\n",
       "      <td>4.450228e+02</td>\n",
       "      <td>0.0</td>\n",
       "      <td>220.0</td>\n",
       "      <td>474.0</td>\n",
       "      <td>811.0</td>\n",
       "      <td>2336.0</td>\n",
       "    </tr>\n",
       "    <tr>\n",
       "      <th>Total Bsmt SF</th>\n",
       "      <td>2051.0</td>\n",
       "      <td>1.057472e+03</td>\n",
       "      <td>4.499080e+02</td>\n",
       "      <td>0.0</td>\n",
       "      <td>793.0</td>\n",
       "      <td>994.0</td>\n",
       "      <td>1318.5</td>\n",
       "      <td>6110.0</td>\n",
       "    </tr>\n",
       "    <tr>\n",
       "      <th>1st Flr SF</th>\n",
       "      <td>2051.0</td>\n",
       "      <td>1.164488e+03</td>\n",
       "      <td>3.964469e+02</td>\n",
       "      <td>334.0</td>\n",
       "      <td>879.5</td>\n",
       "      <td>1093.0</td>\n",
       "      <td>1405.0</td>\n",
       "      <td>5095.0</td>\n",
       "    </tr>\n",
       "    <tr>\n",
       "      <th>2nd Flr SF</th>\n",
       "      <td>2051.0</td>\n",
       "      <td>3.293291e+02</td>\n",
       "      <td>4.256710e+02</td>\n",
       "      <td>0.0</td>\n",
       "      <td>0.0</td>\n",
       "      <td>0.0</td>\n",
       "      <td>692.5</td>\n",
       "      <td>1862.0</td>\n",
       "    </tr>\n",
       "    <tr>\n",
       "      <th>Low Qual Fin SF</th>\n",
       "      <td>2051.0</td>\n",
       "      <td>5.512921e+00</td>\n",
       "      <td>5.106887e+01</td>\n",
       "      <td>0.0</td>\n",
       "      <td>0.0</td>\n",
       "      <td>0.0</td>\n",
       "      <td>0.0</td>\n",
       "      <td>1064.0</td>\n",
       "    </tr>\n",
       "    <tr>\n",
       "      <th>Gr Liv Area</th>\n",
       "      <td>2051.0</td>\n",
       "      <td>1.499330e+03</td>\n",
       "      <td>5.004478e+02</td>\n",
       "      <td>334.0</td>\n",
       "      <td>1129.0</td>\n",
       "      <td>1444.0</td>\n",
       "      <td>1728.5</td>\n",
       "      <td>5642.0</td>\n",
       "    </tr>\n",
       "    <tr>\n",
       "      <th>Bsmt Full Bath</th>\n",
       "      <td>2051.0</td>\n",
       "      <td>4.271087e-01</td>\n",
       "      <td>5.225887e-01</td>\n",
       "      <td>0.0</td>\n",
       "      <td>0.0</td>\n",
       "      <td>0.0</td>\n",
       "      <td>1.0</td>\n",
       "      <td>3.0</td>\n",
       "    </tr>\n",
       "    <tr>\n",
       "      <th>Bsmt Half Bath</th>\n",
       "      <td>2051.0</td>\n",
       "      <td>6.338372e-02</td>\n",
       "      <td>2.515902e-01</td>\n",
       "      <td>0.0</td>\n",
       "      <td>0.0</td>\n",
       "      <td>0.0</td>\n",
       "      <td>0.0</td>\n",
       "      <td>2.0</td>\n",
       "    </tr>\n",
       "    <tr>\n",
       "      <th>Full Bath</th>\n",
       "      <td>2051.0</td>\n",
       "      <td>1.577279e+00</td>\n",
       "      <td>5.492794e-01</td>\n",
       "      <td>0.0</td>\n",
       "      <td>1.0</td>\n",
       "      <td>2.0</td>\n",
       "      <td>2.0</td>\n",
       "      <td>4.0</td>\n",
       "    </tr>\n",
       "    <tr>\n",
       "      <th>Half Bath</th>\n",
       "      <td>2051.0</td>\n",
       "      <td>3.710385e-01</td>\n",
       "      <td>5.010427e-01</td>\n",
       "      <td>0.0</td>\n",
       "      <td>0.0</td>\n",
       "      <td>0.0</td>\n",
       "      <td>1.0</td>\n",
       "      <td>2.0</td>\n",
       "    </tr>\n",
       "    <tr>\n",
       "      <th>Bedroom AbvGr</th>\n",
       "      <td>2051.0</td>\n",
       "      <td>2.843491e+00</td>\n",
       "      <td>8.266183e-01</td>\n",
       "      <td>0.0</td>\n",
       "      <td>2.0</td>\n",
       "      <td>3.0</td>\n",
       "      <td>3.0</td>\n",
       "      <td>8.0</td>\n",
       "    </tr>\n",
       "    <tr>\n",
       "      <th>Kitchen AbvGr</th>\n",
       "      <td>2051.0</td>\n",
       "      <td>1.042906e+00</td>\n",
       "      <td>2.097900e-01</td>\n",
       "      <td>0.0</td>\n",
       "      <td>1.0</td>\n",
       "      <td>1.0</td>\n",
       "      <td>1.0</td>\n",
       "      <td>3.0</td>\n",
       "    </tr>\n",
       "    <tr>\n",
       "      <th>TotRms AbvGrd</th>\n",
       "      <td>2051.0</td>\n",
       "      <td>6.435885e+00</td>\n",
       "      <td>1.560225e+00</td>\n",
       "      <td>2.0</td>\n",
       "      <td>5.0</td>\n",
       "      <td>6.0</td>\n",
       "      <td>7.0</td>\n",
       "      <td>15.0</td>\n",
       "    </tr>\n",
       "    <tr>\n",
       "      <th>Fireplaces</th>\n",
       "      <td>2051.0</td>\n",
       "      <td>5.909313e-01</td>\n",
       "      <td>6.385163e-01</td>\n",
       "      <td>0.0</td>\n",
       "      <td>0.0</td>\n",
       "      <td>1.0</td>\n",
       "      <td>1.0</td>\n",
       "      <td>4.0</td>\n",
       "    </tr>\n",
       "    <tr>\n",
       "      <th>Garage Yr Blt</th>\n",
       "      <td>2051.0</td>\n",
       "      <td>1.868726e+03</td>\n",
       "      <td>4.541337e+02</td>\n",
       "      <td>0.0</td>\n",
       "      <td>1957.0</td>\n",
       "      <td>1978.0</td>\n",
       "      <td>2001.0</td>\n",
       "      <td>2207.0</td>\n",
       "    </tr>\n",
       "    <tr>\n",
       "      <th>Garage Cars</th>\n",
       "      <td>2051.0</td>\n",
       "      <td>1.775719e+00</td>\n",
       "      <td>7.653569e-01</td>\n",
       "      <td>0.0</td>\n",
       "      <td>1.0</td>\n",
       "      <td>2.0</td>\n",
       "      <td>2.0</td>\n",
       "      <td>5.0</td>\n",
       "    </tr>\n",
       "    <tr>\n",
       "      <th>Garage Area</th>\n",
       "      <td>2051.0</td>\n",
       "      <td>4.734408e+02</td>\n",
       "      <td>2.161351e+02</td>\n",
       "      <td>0.0</td>\n",
       "      <td>319.0</td>\n",
       "      <td>480.0</td>\n",
       "      <td>576.0</td>\n",
       "      <td>1418.0</td>\n",
       "    </tr>\n",
       "    <tr>\n",
       "      <th>Wood Deck SF</th>\n",
       "      <td>2051.0</td>\n",
       "      <td>9.383374e+01</td>\n",
       "      <td>1.285494e+02</td>\n",
       "      <td>0.0</td>\n",
       "      <td>0.0</td>\n",
       "      <td>0.0</td>\n",
       "      <td>168.0</td>\n",
       "      <td>1424.0</td>\n",
       "    </tr>\n",
       "    <tr>\n",
       "      <th>Open Porch SF</th>\n",
       "      <td>2051.0</td>\n",
       "      <td>4.755680e+01</td>\n",
       "      <td>6.674724e+01</td>\n",
       "      <td>0.0</td>\n",
       "      <td>0.0</td>\n",
       "      <td>27.0</td>\n",
       "      <td>70.0</td>\n",
       "      <td>547.0</td>\n",
       "    </tr>\n",
       "    <tr>\n",
       "      <th>...</th>\n",
       "      <td>...</td>\n",
       "      <td>...</td>\n",
       "      <td>...</td>\n",
       "      <td>...</td>\n",
       "      <td>...</td>\n",
       "      <td>...</td>\n",
       "      <td>...</td>\n",
       "      <td>...</td>\n",
       "    </tr>\n",
       "    <tr>\n",
       "      <th>Garage Qual_TA</th>\n",
       "      <td>2051.0</td>\n",
       "      <td>8.932228e-01</td>\n",
       "      <td>3.089051e-01</td>\n",
       "      <td>0.0</td>\n",
       "      <td>1.0</td>\n",
       "      <td>1.0</td>\n",
       "      <td>1.0</td>\n",
       "      <td>1.0</td>\n",
       "    </tr>\n",
       "    <tr>\n",
       "      <th>Garage Cond_Fa</th>\n",
       "      <td>2051.0</td>\n",
       "      <td>2.291565e-02</td>\n",
       "      <td>1.496711e-01</td>\n",
       "      <td>0.0</td>\n",
       "      <td>0.0</td>\n",
       "      <td>0.0</td>\n",
       "      <td>0.0</td>\n",
       "      <td>1.0</td>\n",
       "    </tr>\n",
       "    <tr>\n",
       "      <th>Garage Cond_Gd</th>\n",
       "      <td>2051.0</td>\n",
       "      <td>5.850804e-03</td>\n",
       "      <td>7.628506e-02</td>\n",
       "      <td>0.0</td>\n",
       "      <td>0.0</td>\n",
       "      <td>0.0</td>\n",
       "      <td>0.0</td>\n",
       "      <td>1.0</td>\n",
       "    </tr>\n",
       "    <tr>\n",
       "      <th>Garage Cond_None</th>\n",
       "      <td>2051.0</td>\n",
       "      <td>5.558264e-02</td>\n",
       "      <td>2.291698e-01</td>\n",
       "      <td>0.0</td>\n",
       "      <td>0.0</td>\n",
       "      <td>0.0</td>\n",
       "      <td>0.0</td>\n",
       "      <td>1.0</td>\n",
       "    </tr>\n",
       "    <tr>\n",
       "      <th>Garage Cond_Po</th>\n",
       "      <td>2051.0</td>\n",
       "      <td>3.900536e-03</td>\n",
       "      <td>6.234755e-02</td>\n",
       "      <td>0.0</td>\n",
       "      <td>0.0</td>\n",
       "      <td>0.0</td>\n",
       "      <td>0.0</td>\n",
       "      <td>1.0</td>\n",
       "    </tr>\n",
       "    <tr>\n",
       "      <th>Garage Cond_TA</th>\n",
       "      <td>2051.0</td>\n",
       "      <td>9.107752e-01</td>\n",
       "      <td>2.851374e-01</td>\n",
       "      <td>0.0</td>\n",
       "      <td>1.0</td>\n",
       "      <td>1.0</td>\n",
       "      <td>1.0</td>\n",
       "      <td>1.0</td>\n",
       "    </tr>\n",
       "    <tr>\n",
       "      <th>Paved Drive_P</th>\n",
       "      <td>2051.0</td>\n",
       "      <td>1.901511e-02</td>\n",
       "      <td>1.366113e-01</td>\n",
       "      <td>0.0</td>\n",
       "      <td>0.0</td>\n",
       "      <td>0.0</td>\n",
       "      <td>0.0</td>\n",
       "      <td>1.0</td>\n",
       "    </tr>\n",
       "    <tr>\n",
       "      <th>Paved Drive_Y</th>\n",
       "      <td>2051.0</td>\n",
       "      <td>9.073623e-01</td>\n",
       "      <td>2.899948e-01</td>\n",
       "      <td>0.0</td>\n",
       "      <td>1.0</td>\n",
       "      <td>1.0</td>\n",
       "      <td>1.0</td>\n",
       "      <td>1.0</td>\n",
       "    </tr>\n",
       "    <tr>\n",
       "      <th>Pool QC_Fa</th>\n",
       "      <td>2051.0</td>\n",
       "      <td>9.751341e-04</td>\n",
       "      <td>3.121952e-02</td>\n",
       "      <td>0.0</td>\n",
       "      <td>0.0</td>\n",
       "      <td>0.0</td>\n",
       "      <td>0.0</td>\n",
       "      <td>1.0</td>\n",
       "    </tr>\n",
       "    <tr>\n",
       "      <th>Pool QC_Gd</th>\n",
       "      <td>2051.0</td>\n",
       "      <td>1.950268e-03</td>\n",
       "      <td>4.412952e-02</td>\n",
       "      <td>0.0</td>\n",
       "      <td>0.0</td>\n",
       "      <td>0.0</td>\n",
       "      <td>0.0</td>\n",
       "      <td>1.0</td>\n",
       "    </tr>\n",
       "    <tr>\n",
       "      <th>Pool QC_None</th>\n",
       "      <td>2051.0</td>\n",
       "      <td>9.956119e-01</td>\n",
       "      <td>6.611338e-02</td>\n",
       "      <td>0.0</td>\n",
       "      <td>1.0</td>\n",
       "      <td>1.0</td>\n",
       "      <td>1.0</td>\n",
       "      <td>1.0</td>\n",
       "    </tr>\n",
       "    <tr>\n",
       "      <th>Pool QC_TA</th>\n",
       "      <td>2051.0</td>\n",
       "      <td>9.751341e-04</td>\n",
       "      <td>3.121952e-02</td>\n",
       "      <td>0.0</td>\n",
       "      <td>0.0</td>\n",
       "      <td>0.0</td>\n",
       "      <td>0.0</td>\n",
       "      <td>1.0</td>\n",
       "    </tr>\n",
       "    <tr>\n",
       "      <th>Fence_GdWo</th>\n",
       "      <td>2051.0</td>\n",
       "      <td>3.900536e-02</td>\n",
       "      <td>1.936549e-01</td>\n",
       "      <td>0.0</td>\n",
       "      <td>0.0</td>\n",
       "      <td>0.0</td>\n",
       "      <td>0.0</td>\n",
       "      <td>1.0</td>\n",
       "    </tr>\n",
       "    <tr>\n",
       "      <th>Fence_MnPrv</th>\n",
       "      <td>2051.0</td>\n",
       "      <td>1.106777e-01</td>\n",
       "      <td>3.138091e-01</td>\n",
       "      <td>0.0</td>\n",
       "      <td>0.0</td>\n",
       "      <td>0.0</td>\n",
       "      <td>0.0</td>\n",
       "      <td>1.0</td>\n",
       "    </tr>\n",
       "    <tr>\n",
       "      <th>Fence_MnWw</th>\n",
       "      <td>2051.0</td>\n",
       "      <td>4.875670e-03</td>\n",
       "      <td>6.967256e-02</td>\n",
       "      <td>0.0</td>\n",
       "      <td>0.0</td>\n",
       "      <td>0.0</td>\n",
       "      <td>0.0</td>\n",
       "      <td>1.0</td>\n",
       "    </tr>\n",
       "    <tr>\n",
       "      <th>Fence_None</th>\n",
       "      <td>2051.0</td>\n",
       "      <td>8.049732e-01</td>\n",
       "      <td>3.963180e-01</td>\n",
       "      <td>0.0</td>\n",
       "      <td>1.0</td>\n",
       "      <td>1.0</td>\n",
       "      <td>1.0</td>\n",
       "      <td>1.0</td>\n",
       "    </tr>\n",
       "    <tr>\n",
       "      <th>Misc Feature_Gar2</th>\n",
       "      <td>2051.0</td>\n",
       "      <td>1.950268e-03</td>\n",
       "      <td>4.412952e-02</td>\n",
       "      <td>0.0</td>\n",
       "      <td>0.0</td>\n",
       "      <td>0.0</td>\n",
       "      <td>0.0</td>\n",
       "      <td>1.0</td>\n",
       "    </tr>\n",
       "    <tr>\n",
       "      <th>Misc Feature_None</th>\n",
       "      <td>2051.0</td>\n",
       "      <td>9.683081e-01</td>\n",
       "      <td>1.752212e-01</td>\n",
       "      <td>0.0</td>\n",
       "      <td>1.0</td>\n",
       "      <td>1.0</td>\n",
       "      <td>1.0</td>\n",
       "      <td>1.0</td>\n",
       "    </tr>\n",
       "    <tr>\n",
       "      <th>Misc Feature_Othr</th>\n",
       "      <td>2051.0</td>\n",
       "      <td>1.462701e-03</td>\n",
       "      <td>3.822662e-02</td>\n",
       "      <td>0.0</td>\n",
       "      <td>0.0</td>\n",
       "      <td>0.0</td>\n",
       "      <td>0.0</td>\n",
       "      <td>1.0</td>\n",
       "    </tr>\n",
       "    <tr>\n",
       "      <th>Misc Feature_Shed</th>\n",
       "      <td>2051.0</td>\n",
       "      <td>2.730375e-02</td>\n",
       "      <td>1.630068e-01</td>\n",
       "      <td>0.0</td>\n",
       "      <td>0.0</td>\n",
       "      <td>0.0</td>\n",
       "      <td>0.0</td>\n",
       "      <td>1.0</td>\n",
       "    </tr>\n",
       "    <tr>\n",
       "      <th>Misc Feature_TenC</th>\n",
       "      <td>2051.0</td>\n",
       "      <td>4.875670e-04</td>\n",
       "      <td>2.208092e-02</td>\n",
       "      <td>0.0</td>\n",
       "      <td>0.0</td>\n",
       "      <td>0.0</td>\n",
       "      <td>0.0</td>\n",
       "      <td>1.0</td>\n",
       "    </tr>\n",
       "    <tr>\n",
       "      <th>Sale Type_CWD</th>\n",
       "      <td>2051.0</td>\n",
       "      <td>4.875670e-03</td>\n",
       "      <td>6.967256e-02</td>\n",
       "      <td>0.0</td>\n",
       "      <td>0.0</td>\n",
       "      <td>0.0</td>\n",
       "      <td>0.0</td>\n",
       "      <td>1.0</td>\n",
       "    </tr>\n",
       "    <tr>\n",
       "      <th>Sale Type_Con</th>\n",
       "      <td>2051.0</td>\n",
       "      <td>1.950268e-03</td>\n",
       "      <td>4.412952e-02</td>\n",
       "      <td>0.0</td>\n",
       "      <td>0.0</td>\n",
       "      <td>0.0</td>\n",
       "      <td>0.0</td>\n",
       "      <td>1.0</td>\n",
       "    </tr>\n",
       "    <tr>\n",
       "      <th>Sale Type_ConLD</th>\n",
       "      <td>2051.0</td>\n",
       "      <td>8.288640e-03</td>\n",
       "      <td>9.068598e-02</td>\n",
       "      <td>0.0</td>\n",
       "      <td>0.0</td>\n",
       "      <td>0.0</td>\n",
       "      <td>0.0</td>\n",
       "      <td>1.0</td>\n",
       "    </tr>\n",
       "    <tr>\n",
       "      <th>Sale Type_ConLI</th>\n",
       "      <td>2051.0</td>\n",
       "      <td>3.412969e-03</td>\n",
       "      <td>5.833507e-02</td>\n",
       "      <td>0.0</td>\n",
       "      <td>0.0</td>\n",
       "      <td>0.0</td>\n",
       "      <td>0.0</td>\n",
       "      <td>1.0</td>\n",
       "    </tr>\n",
       "    <tr>\n",
       "      <th>Sale Type_ConLw</th>\n",
       "      <td>2051.0</td>\n",
       "      <td>2.437835e-03</td>\n",
       "      <td>4.932625e-02</td>\n",
       "      <td>0.0</td>\n",
       "      <td>0.0</td>\n",
       "      <td>0.0</td>\n",
       "      <td>0.0</td>\n",
       "      <td>1.0</td>\n",
       "    </tr>\n",
       "    <tr>\n",
       "      <th>Sale Type_New</th>\n",
       "      <td>2051.0</td>\n",
       "      <td>7.801073e-02</td>\n",
       "      <td>2.682539e-01</td>\n",
       "      <td>0.0</td>\n",
       "      <td>0.0</td>\n",
       "      <td>0.0</td>\n",
       "      <td>0.0</td>\n",
       "      <td>1.0</td>\n",
       "    </tr>\n",
       "    <tr>\n",
       "      <th>Sale Type_Oth</th>\n",
       "      <td>2051.0</td>\n",
       "      <td>1.950268e-03</td>\n",
       "      <td>4.412952e-02</td>\n",
       "      <td>0.0</td>\n",
       "      <td>0.0</td>\n",
       "      <td>0.0</td>\n",
       "      <td>0.0</td>\n",
       "      <td>1.0</td>\n",
       "    </tr>\n",
       "    <tr>\n",
       "      <th>Sale Type_WD</th>\n",
       "      <td>2051.0</td>\n",
       "      <td>8.683569e-01</td>\n",
       "      <td>3.381848e-01</td>\n",
       "      <td>0.0</td>\n",
       "      <td>1.0</td>\n",
       "      <td>1.0</td>\n",
       "      <td>1.0</td>\n",
       "      <td>1.0</td>\n",
       "    </tr>\n",
       "    <tr>\n",
       "      <th>target</th>\n",
       "      <td>2051.0</td>\n",
       "      <td>1.814697e+05</td>\n",
       "      <td>7.925866e+04</td>\n",
       "      <td>12789.0</td>\n",
       "      <td>129825.0</td>\n",
       "      <td>162500.0</td>\n",
       "      <td>214000.0</td>\n",
       "      <td>611657.0</td>\n",
       "    </tr>\n",
       "  </tbody>\n",
       "</table>\n",
       "<p>279 rows × 8 columns</p>\n",
       "</div>"
      ],
      "text/plain": [
       "                    count          mean           std          min  \\\n",
       "Id                 2051.0  1.474034e+03  8.439808e+02          1.0   \n",
       "PID                2051.0  7.135900e+08  1.886918e+08  526301100.0   \n",
       "Lot Frontage       2051.0  5.794442e+01  3.313733e+01          0.0   \n",
       "Lot Area           2051.0  1.006521e+04  6.742489e+03       1300.0   \n",
       "Overall Qual       2051.0  6.112140e+00  1.426271e+00          1.0   \n",
       "Overall Cond       2051.0  5.562165e+00  1.104497e+00          1.0   \n",
       "Year Built         2051.0  1.971709e+03  3.017789e+01       1872.0   \n",
       "Year Remod/Add     2051.0  1.984190e+03  2.103625e+01       1950.0   \n",
       "Mas Vnr Area       2051.0  9.862652e+01  1.743247e+02          0.0   \n",
       "BsmtFin SF 1       2051.0  4.420848e+02  4.611950e+02          0.0   \n",
       "BsmtFin SF 2       2051.0  4.793564e+01  1.649641e+02          0.0   \n",
       "Bsmt Unf SF        2051.0  5.674515e+02  4.450228e+02          0.0   \n",
       "Total Bsmt SF      2051.0  1.057472e+03  4.499080e+02          0.0   \n",
       "1st Flr SF         2051.0  1.164488e+03  3.964469e+02        334.0   \n",
       "2nd Flr SF         2051.0  3.293291e+02  4.256710e+02          0.0   \n",
       "Low Qual Fin SF    2051.0  5.512921e+00  5.106887e+01          0.0   \n",
       "Gr Liv Area        2051.0  1.499330e+03  5.004478e+02        334.0   \n",
       "Bsmt Full Bath     2051.0  4.271087e-01  5.225887e-01          0.0   \n",
       "Bsmt Half Bath     2051.0  6.338372e-02  2.515902e-01          0.0   \n",
       "Full Bath          2051.0  1.577279e+00  5.492794e-01          0.0   \n",
       "Half Bath          2051.0  3.710385e-01  5.010427e-01          0.0   \n",
       "Bedroom AbvGr      2051.0  2.843491e+00  8.266183e-01          0.0   \n",
       "Kitchen AbvGr      2051.0  1.042906e+00  2.097900e-01          0.0   \n",
       "TotRms AbvGrd      2051.0  6.435885e+00  1.560225e+00          2.0   \n",
       "Fireplaces         2051.0  5.909313e-01  6.385163e-01          0.0   \n",
       "Garage Yr Blt      2051.0  1.868726e+03  4.541337e+02          0.0   \n",
       "Garage Cars        2051.0  1.775719e+00  7.653569e-01          0.0   \n",
       "Garage Area        2051.0  4.734408e+02  2.161351e+02          0.0   \n",
       "Wood Deck SF       2051.0  9.383374e+01  1.285494e+02          0.0   \n",
       "Open Porch SF      2051.0  4.755680e+01  6.674724e+01          0.0   \n",
       "...                   ...           ...           ...          ...   \n",
       "Garage Qual_TA     2051.0  8.932228e-01  3.089051e-01          0.0   \n",
       "Garage Cond_Fa     2051.0  2.291565e-02  1.496711e-01          0.0   \n",
       "Garage Cond_Gd     2051.0  5.850804e-03  7.628506e-02          0.0   \n",
       "Garage Cond_None   2051.0  5.558264e-02  2.291698e-01          0.0   \n",
       "Garage Cond_Po     2051.0  3.900536e-03  6.234755e-02          0.0   \n",
       "Garage Cond_TA     2051.0  9.107752e-01  2.851374e-01          0.0   \n",
       "Paved Drive_P      2051.0  1.901511e-02  1.366113e-01          0.0   \n",
       "Paved Drive_Y      2051.0  9.073623e-01  2.899948e-01          0.0   \n",
       "Pool QC_Fa         2051.0  9.751341e-04  3.121952e-02          0.0   \n",
       "Pool QC_Gd         2051.0  1.950268e-03  4.412952e-02          0.0   \n",
       "Pool QC_None       2051.0  9.956119e-01  6.611338e-02          0.0   \n",
       "Pool QC_TA         2051.0  9.751341e-04  3.121952e-02          0.0   \n",
       "Fence_GdWo         2051.0  3.900536e-02  1.936549e-01          0.0   \n",
       "Fence_MnPrv        2051.0  1.106777e-01  3.138091e-01          0.0   \n",
       "Fence_MnWw         2051.0  4.875670e-03  6.967256e-02          0.0   \n",
       "Fence_None         2051.0  8.049732e-01  3.963180e-01          0.0   \n",
       "Misc Feature_Gar2  2051.0  1.950268e-03  4.412952e-02          0.0   \n",
       "Misc Feature_None  2051.0  9.683081e-01  1.752212e-01          0.0   \n",
       "Misc Feature_Othr  2051.0  1.462701e-03  3.822662e-02          0.0   \n",
       "Misc Feature_Shed  2051.0  2.730375e-02  1.630068e-01          0.0   \n",
       "Misc Feature_TenC  2051.0  4.875670e-04  2.208092e-02          0.0   \n",
       "Sale Type_CWD      2051.0  4.875670e-03  6.967256e-02          0.0   \n",
       "Sale Type_Con      2051.0  1.950268e-03  4.412952e-02          0.0   \n",
       "Sale Type_ConLD    2051.0  8.288640e-03  9.068598e-02          0.0   \n",
       "Sale Type_ConLI    2051.0  3.412969e-03  5.833507e-02          0.0   \n",
       "Sale Type_ConLw    2051.0  2.437835e-03  4.932625e-02          0.0   \n",
       "Sale Type_New      2051.0  7.801073e-02  2.682539e-01          0.0   \n",
       "Sale Type_Oth      2051.0  1.950268e-03  4.412952e-02          0.0   \n",
       "Sale Type_WD       2051.0  8.683569e-01  3.381848e-01          0.0   \n",
       "target             2051.0  1.814697e+05  7.925866e+04      12789.0   \n",
       "\n",
       "                           25%          50%          75%          max  \n",
       "Id                       753.5       1486.0       2198.0       2930.0  \n",
       "PID                528458140.0  535453200.0  907180080.0  924152030.0  \n",
       "Lot Frontage              43.5         63.0         78.0        313.0  \n",
       "Lot Area                7500.0       9430.0      11513.5     159000.0  \n",
       "Overall Qual               5.0          6.0          7.0         10.0  \n",
       "Overall Cond               5.0          5.0          6.0          9.0  \n",
       "Year Built              1953.5       1974.0       2001.0       2010.0  \n",
       "Year Remod/Add          1964.5       1993.0       2004.0       2010.0  \n",
       "Mas Vnr Area               0.0          0.0        159.0       1600.0  \n",
       "BsmtFin SF 1               0.0        368.0        733.5       5644.0  \n",
       "BsmtFin SF 2               0.0          0.0          0.0       1474.0  \n",
       "Bsmt Unf SF              220.0        474.0        811.0       2336.0  \n",
       "Total Bsmt SF            793.0        994.0       1318.5       6110.0  \n",
       "1st Flr SF               879.5       1093.0       1405.0       5095.0  \n",
       "2nd Flr SF                 0.0          0.0        692.5       1862.0  \n",
       "Low Qual Fin SF            0.0          0.0          0.0       1064.0  \n",
       "Gr Liv Area             1129.0       1444.0       1728.5       5642.0  \n",
       "Bsmt Full Bath             0.0          0.0          1.0          3.0  \n",
       "Bsmt Half Bath             0.0          0.0          0.0          2.0  \n",
       "Full Bath                  1.0          2.0          2.0          4.0  \n",
       "Half Bath                  0.0          0.0          1.0          2.0  \n",
       "Bedroom AbvGr              2.0          3.0          3.0          8.0  \n",
       "Kitchen AbvGr              1.0          1.0          1.0          3.0  \n",
       "TotRms AbvGrd              5.0          6.0          7.0         15.0  \n",
       "Fireplaces                 0.0          1.0          1.0          4.0  \n",
       "Garage Yr Blt           1957.0       1978.0       2001.0       2207.0  \n",
       "Garage Cars                1.0          2.0          2.0          5.0  \n",
       "Garage Area              319.0        480.0        576.0       1418.0  \n",
       "Wood Deck SF               0.0          0.0        168.0       1424.0  \n",
       "Open Porch SF              0.0         27.0         70.0        547.0  \n",
       "...                        ...          ...          ...          ...  \n",
       "Garage Qual_TA             1.0          1.0          1.0          1.0  \n",
       "Garage Cond_Fa             0.0          0.0          0.0          1.0  \n",
       "Garage Cond_Gd             0.0          0.0          0.0          1.0  \n",
       "Garage Cond_None           0.0          0.0          0.0          1.0  \n",
       "Garage Cond_Po             0.0          0.0          0.0          1.0  \n",
       "Garage Cond_TA             1.0          1.0          1.0          1.0  \n",
       "Paved Drive_P              0.0          0.0          0.0          1.0  \n",
       "Paved Drive_Y              1.0          1.0          1.0          1.0  \n",
       "Pool QC_Fa                 0.0          0.0          0.0          1.0  \n",
       "Pool QC_Gd                 0.0          0.0          0.0          1.0  \n",
       "Pool QC_None               1.0          1.0          1.0          1.0  \n",
       "Pool QC_TA                 0.0          0.0          0.0          1.0  \n",
       "Fence_GdWo                 0.0          0.0          0.0          1.0  \n",
       "Fence_MnPrv                0.0          0.0          0.0          1.0  \n",
       "Fence_MnWw                 0.0          0.0          0.0          1.0  \n",
       "Fence_None                 1.0          1.0          1.0          1.0  \n",
       "Misc Feature_Gar2          0.0          0.0          0.0          1.0  \n",
       "Misc Feature_None          1.0          1.0          1.0          1.0  \n",
       "Misc Feature_Othr          0.0          0.0          0.0          1.0  \n",
       "Misc Feature_Shed          0.0          0.0          0.0          1.0  \n",
       "Misc Feature_TenC          0.0          0.0          0.0          1.0  \n",
       "Sale Type_CWD              0.0          0.0          0.0          1.0  \n",
       "Sale Type_Con              0.0          0.0          0.0          1.0  \n",
       "Sale Type_ConLD            0.0          0.0          0.0          1.0  \n",
       "Sale Type_ConLI            0.0          0.0          0.0          1.0  \n",
       "Sale Type_ConLw            0.0          0.0          0.0          1.0  \n",
       "Sale Type_New              0.0          0.0          0.0          1.0  \n",
       "Sale Type_Oth              0.0          0.0          0.0          1.0  \n",
       "Sale Type_WD               1.0          1.0          1.0          1.0  \n",
       "target                129825.0     162500.0     214000.0     611657.0  \n",
       "\n",
       "[279 rows x 8 columns]"
      ]
     },
     "execution_count": 5,
     "metadata": {},
     "output_type": "execute_result"
    }
   ],
   "source": [
    "houses_df.describe().T"
   ]
  },
  {
   "cell_type": "markdown",
   "metadata": {},
   "source": [
    "### Target is price"
   ]
  },
  {
   "cell_type": "code",
   "execution_count": 6,
   "metadata": {
    "scrolled": true
   },
   "outputs": [
    {
     "data": {
      "text/plain": [
       "0       130500\n",
       "1       220000\n",
       "2       109000\n",
       "3       174000\n",
       "4       138500\n",
       "5       190000\n",
       "6       140000\n",
       "7       142000\n",
       "8       112500\n",
       "9       135000\n",
       "10       85400\n",
       "11      183600\n",
       "12      131000\n",
       "13      200000\n",
       "14      193000\n",
       "15      173500\n",
       "16       98000\n",
       "17      139000\n",
       "18      143500\n",
       "19      215200\n",
       "20      129000\n",
       "21      278000\n",
       "22      344133\n",
       "23      185000\n",
       "24      145000\n",
       "25      187500\n",
       "26      138500\n",
       "27      198000\n",
       "28      119600\n",
       "29      122900\n",
       "         ...  \n",
       "2021    195800\n",
       "2022    223000\n",
       "2023    192000\n",
       "2024    197000\n",
       "2025    298236\n",
       "2026    238000\n",
       "2027    119000\n",
       "2028    262500\n",
       "2029    425000\n",
       "2030    102776\n",
       "2031    149900\n",
       "2032    190000\n",
       "2033    162500\n",
       "2034    217000\n",
       "2035    137500\n",
       "2036    270000\n",
       "2037    142500\n",
       "2038    161000\n",
       "2039     93900\n",
       "2040    225000\n",
       "2041    412500\n",
       "2042     83000\n",
       "2043    128000\n",
       "2044    182000\n",
       "2045    394617\n",
       "2046    298751\n",
       "2047     82500\n",
       "2048    177000\n",
       "2049    144000\n",
       "2050    189000\n",
       "Name: SalePrice, Length: 2051, dtype: int64"
      ]
     },
     "execution_count": 6,
     "metadata": {},
     "output_type": "execute_result"
    }
   ],
   "source": [
    "houses_df['SalePrice']"
   ]
  },
  {
   "cell_type": "code",
   "execution_count": 7,
   "metadata": {},
   "outputs": [],
   "source": [
    "y = houses_df['SalePrice']\n",
    "X = houses_df.drop(columns=['SalePrice', 'target'])"
   ]
  },
  {
   "cell_type": "markdown",
   "metadata": {},
   "source": [
    "### Train/test split - this should technically be done before data cleaning and manipulation!"
   ]
  },
  {
   "cell_type": "code",
   "execution_count": 8,
   "metadata": {},
   "outputs": [],
   "source": [
    "from sklearn.model_selection import train_test_split"
   ]
  },
  {
   "cell_type": "code",
   "execution_count": 9,
   "metadata": {},
   "outputs": [],
   "source": [
    "X_train, X_test, y_train, y_test = train_test_split(X, y, random_state = 42, test_size = .25)"
   ]
  },
  {
   "cell_type": "code",
   "execution_count": 10,
   "metadata": {},
   "outputs": [
    {
     "data": {
      "text/plain": [
       "((1538, 277), (1538,), (513, 277), (513,))"
      ]
     },
     "execution_count": 10,
     "metadata": {},
     "output_type": "execute_result"
    }
   ],
   "source": [
    "X_train.shape, y_train.shape, X_test.shape, y_test.shape"
   ]
  },
  {
   "cell_type": "markdown",
   "metadata": {},
   "source": [
    "### Running a simple linear model"
   ]
  },
  {
   "cell_type": "code",
   "execution_count": 11,
   "metadata": {},
   "outputs": [],
   "source": [
    "from sklearn.linear_model import LinearRegression"
   ]
  },
  {
   "cell_type": "code",
   "execution_count": 12,
   "metadata": {},
   "outputs": [],
   "source": [
    "linreg = LinearRegression()"
   ]
  },
  {
   "cell_type": "code",
   "execution_count": 13,
   "metadata": {},
   "outputs": [
    {
     "data": {
      "text/plain": [
       "LinearRegression(copy_X=True, fit_intercept=True, n_jobs=None, normalize=False)"
      ]
     },
     "execution_count": 13,
     "metadata": {},
     "output_type": "execute_result"
    }
   ],
   "source": [
    "linreg.fit(X_train, y_train)"
   ]
  },
  {
   "cell_type": "code",
   "execution_count": 14,
   "metadata": {},
   "outputs": [
    {
     "data": {
      "text/plain": [
       "0.9461962541415644"
      ]
     },
     "execution_count": 14,
     "metadata": {},
     "output_type": "execute_result"
    }
   ],
   "source": [
    "linreg.score(X_train, y_train)"
   ]
  },
  {
   "cell_type": "code",
   "execution_count": 15,
   "metadata": {},
   "outputs": [
    {
     "data": {
      "text/plain": [
       "0.9161109817487165"
      ]
     },
     "execution_count": 15,
     "metadata": {},
     "output_type": "execute_result"
    }
   ],
   "source": [
    "linreg.score(X_test, y_test)"
   ]
  },
  {
   "cell_type": "code",
   "execution_count": 17,
   "metadata": {},
   "outputs": [],
   "source": [
    "predictions = linreg.predict(X_test)"
   ]
  },
  {
   "cell_type": "code",
   "execution_count": 18,
   "metadata": {},
   "outputs": [],
   "source": [
    "def adjusted_r_suared(r_squared, num_samples, num_regressors):\n",
    "    return 1 - ((1-r_squared)*(num_samples - 1) / (num_samples - num_regressors - 1))"
   ]
  },
  {
   "cell_type": "code",
   "execution_count": 19,
   "metadata": {},
   "outputs": [
    {
     "data": {
      "text/plain": [
       "0.817229032575927"
      ]
     },
     "execution_count": 19,
     "metadata": {},
     "output_type": "execute_result"
    }
   ],
   "source": [
    "adjusted_r_suared(.9161109817487165, 513, 277)"
   ]
  },
  {
   "cell_type": "markdown",
   "metadata": {},
   "source": [
    "#### Generating predictions to compare to actual prices"
   ]
  },
  {
   "cell_type": "code",
   "execution_count": 20,
   "metadata": {
    "scrolled": true
   },
   "outputs": [],
   "source": [
    "linreg_results_df = pd.DataFrame(linreg.predict(X_test), y_test).reset_index()"
   ]
  },
  {
   "cell_type": "code",
   "execution_count": 21,
   "metadata": {},
   "outputs": [],
   "source": [
    "linreg_results_df.columns = ['Actual_Price', 'Predicted_Price']"
   ]
  },
  {
   "cell_type": "code",
   "execution_count": 22,
   "metadata": {
    "scrolled": true
   },
   "outputs": [
    {
     "data": {
      "text/html": [
       "<div>\n",
       "<style scoped>\n",
       "    .dataframe tbody tr th:only-of-type {\n",
       "        vertical-align: middle;\n",
       "    }\n",
       "\n",
       "    .dataframe tbody tr th {\n",
       "        vertical-align: top;\n",
       "    }\n",
       "\n",
       "    .dataframe thead th {\n",
       "        text-align: right;\n",
       "    }\n",
       "</style>\n",
       "<table border=\"1\" class=\"dataframe\">\n",
       "  <thead>\n",
       "    <tr style=\"text-align: right;\">\n",
       "      <th></th>\n",
       "      <th>Actual_Price</th>\n",
       "      <th>Predicted_Price</th>\n",
       "    </tr>\n",
       "  </thead>\n",
       "  <tbody>\n",
       "    <tr>\n",
       "      <th>0</th>\n",
       "      <td>132500</td>\n",
       "      <td>130429.418828</td>\n",
       "    </tr>\n",
       "    <tr>\n",
       "      <th>1</th>\n",
       "      <td>226000</td>\n",
       "      <td>214393.707844</td>\n",
       "    </tr>\n",
       "    <tr>\n",
       "      <th>2</th>\n",
       "      <td>250000</td>\n",
       "      <td>306450.582455</td>\n",
       "    </tr>\n",
       "    <tr>\n",
       "      <th>3</th>\n",
       "      <td>128000</td>\n",
       "      <td>118340.425123</td>\n",
       "    </tr>\n",
       "    <tr>\n",
       "      <th>4</th>\n",
       "      <td>203160</td>\n",
       "      <td>203009.737674</td>\n",
       "    </tr>\n",
       "  </tbody>\n",
       "</table>\n",
       "</div>"
      ],
      "text/plain": [
       "   Actual_Price  Predicted_Price\n",
       "0        132500    130429.418828\n",
       "1        226000    214393.707844\n",
       "2        250000    306450.582455\n",
       "3        128000    118340.425123\n",
       "4        203160    203009.737674"
      ]
     },
     "execution_count": 22,
     "metadata": {},
     "output_type": "execute_result"
    }
   ],
   "source": [
    "linreg_results_df.head()"
   ]
  },
  {
   "cell_type": "code",
   "execution_count": 24,
   "metadata": {},
   "outputs": [],
   "source": [
    "import matplotlib.pyplot as plt"
   ]
  },
  {
   "cell_type": "code",
   "execution_count": 25,
   "metadata": {},
   "outputs": [
    {
     "data": {
      "text/plain": [
       "<matplotlib.collections.PathCollection at 0x1a24cf9860>"
      ]
     },
     "execution_count": 25,
     "metadata": {},
     "output_type": "execute_result"
    },
    {
     "data": {
      "image/png": "[encoded data removed]",
      "text/plain": [
       "<Figure size 432x288 with 1 Axes>"
      ]
     },
     "metadata": {
      "needs_background": "light"
     },
     "output_type": "display_data"
    }
   ],
   "source": [
    "plt.scatter(linreg_results_df['Actual_Price'], linreg_results_df['Predicted_Price'])"
   ]
  },
  {
   "cell_type": "markdown",
   "metadata": {},
   "source": [
    "### But what does the R^2 score really mean to most people (stakeholders, homebuyers, etc?) Let's get some results that can actually be communicated"
   ]
  },
  {
   "cell_type": "code",
   "execution_count": 26,
   "metadata": {},
   "outputs": [],
   "source": [
    "from sklearn.metrics import mean_squared_error, median_absolute_error\n",
    "import matplotlib.pyplot as plt\n",
    "import seaborn as sns"
   ]
  },
  {
   "cell_type": "code",
   "execution_count": 27,
   "metadata": {
    "scrolled": true
   },
   "outputs": [
    {
     "data": {
      "text/plain": [
       "22695.388224579543"
      ]
     },
     "execution_count": 27,
     "metadata": {},
     "output_type": "execute_result"
    }
   ],
   "source": [
    "# RMSE\n",
    "\n",
    "(mean_squared_error(linreg_results_df['Actual_Price'], linreg_results_df['Predicted_Price']) ** .5)"
   ]
  },
  {
   "cell_type": "code",
   "execution_count": 28,
   "metadata": {
    "scrolled": true
   },
   "outputs": [
    {
     "data": {
      "text/plain": [
       "182692.03118908382"
      ]
     },
     "execution_count": 28,
     "metadata": {},
     "output_type": "execute_result"
    }
   ],
   "source": [
    "# Mean House Price\n",
    "\n",
    "linreg_results_df['Actual_Price'].mean()"
   ]
  },
  {
   "cell_type": "code",
   "execution_count": 29,
   "metadata": {},
   "outputs": [
    {
     "data": {
      "text/plain": [
       "0.12422757619400551"
      ]
     },
     "execution_count": 29,
     "metadata": {},
     "output_type": "execute_result"
    }
   ],
   "source": [
    "# Average prediction error per house (percentage)\n",
    "\n",
    "((mean_squared_error(linreg_results_df['Actual_Price'], linreg_results_df['Predicted_Price']) ** .5) /\n",
    "linreg_results_df['Actual_Price'].mean())"
   ]
  },
  {
   "cell_type": "code",
   "execution_count": 30,
   "metadata": {},
   "outputs": [
    {
     "data": {
      "text/plain": [
       "10680.691858152393"
      ]
     },
     "execution_count": 30,
     "metadata": {},
     "output_type": "execute_result"
    }
   ],
   "source": [
    "# Median Absolute Error\n",
    "\n",
    "median_absolute_error(linreg_results_df['Actual_Price'], linreg_results_df['Predicted_Price'])"
   ]
  },
  {
   "cell_type": "code",
   "execution_count": 31,
   "metadata": {},
   "outputs": [
    {
     "data": {
      "text/plain": [
       "163000.0"
      ]
     },
     "execution_count": 31,
     "metadata": {},
     "output_type": "execute_result"
    }
   ],
   "source": [
    "#Median House Price\n",
    "\n",
    "linreg_results_df['Actual_Price'].median()"
   ]
  },
  {
   "cell_type": "code",
   "execution_count": 32,
   "metadata": {
    "scrolled": true
   },
   "outputs": [
    {
     "data": {
      "text/plain": [
       "0.06552571692118032"
      ]
     },
     "execution_count": 32,
     "metadata": {},
     "output_type": "execute_result"
    }
   ],
   "source": [
    "# Average error from median (percentage)\n",
    "\n",
    "(median_absolute_error(linreg_results_df['Actual_Price'], linreg_results_df['Predicted_Price']) /\n",
    "linreg_results_df['Actual_Price'].median())"
   ]
  },
  {
   "cell_type": "code",
   "execution_count": 33,
   "metadata": {},
   "outputs": [
    {
     "data": {
      "text/plain": [
       "<matplotlib.axes._subplots.AxesSubplot at 0x1a250996a0>"
      ]
     },
     "execution_count": 33,
     "metadata": {},
     "output_type": "execute_result"
    },
    {
     "data": {
      "image/png": "[encoded data removed]",
      "text/plain": [
       "<Figure size 432x288 with 1 Axes>"
      ]
     },
     "metadata": {
      "needs_background": "light"
     },
     "output_type": "display_data"
    }
   ],
   "source": [
    "sns.regplot(linreg_results_df['Actual_Price'], linreg_results_df['Predicted_Price'])"
   ]
  },
  {
   "cell_type": "markdown",
   "metadata": {},
   "source": [
    "### Let's use regularization"
   ]
  },
  {
   "cell_type": "code",
   "execution_count": 34,
   "metadata": {},
   "outputs": [],
   "source": [
    "from sklearn.linear_model import LassoCV, RidgeCV"
   ]
  },
  {
   "cell_type": "markdown",
   "metadata": {},
   "source": [
    "### Lasso Regularizer"
   ]
  },
  {
   "cell_type": "code",
   "execution_count": 35,
   "metadata": {},
   "outputs": [],
   "source": [
    "lasso = LassoCV(cv = 5)"
   ]
  },
  {
   "cell_type": "code",
   "execution_count": 36,
   "metadata": {},
   "outputs": [
    {
     "data": {
      "text/plain": [
       "LassoCV(alphas=None, copy_X=True, cv=5, eps=0.001, fit_intercept=True,\n",
       "        max_iter=1000, n_alphas=100, n_jobs=None, normalize=False,\n",
       "        positive=False, precompute='auto', random_state=None,\n",
       "        selection='cyclic', tol=0.0001, verbose=False)"
      ]
     },
     "execution_count": 36,
     "metadata": {},
     "output_type": "execute_result"
    }
   ],
   "source": [
    "lasso.fit(X_train, y_train)"
   ]
  },
  {
   "cell_type": "code",
   "execution_count": 37,
   "metadata": {},
   "outputs": [
    {
     "data": {
      "text/plain": [
       "0.06898444385386371"
      ]
     },
     "execution_count": 37,
     "metadata": {},
     "output_type": "execute_result"
    }
   ],
   "source": [
    "lasso.score(X_train, y_train)"
   ]
  },
  {
   "cell_type": "code",
   "execution_count": 38,
   "metadata": {},
   "outputs": [
    {
     "data": {
      "text/plain": [
       "0.052083604402481054"
      ]
     },
     "execution_count": 38,
     "metadata": {},
     "output_type": "execute_result"
    }
   ],
   "source": [
    "lasso.score(X_test, y_test)"
   ]
  },
  {
   "cell_type": "markdown",
   "metadata": {},
   "source": [
    "#### Terrible R^2 - What happened here? We'll fix it later"
   ]
  },
  {
   "cell_type": "code",
   "execution_count": 39,
   "metadata": {
    "scrolled": true
   },
   "outputs": [
    {
     "data": {
      "text/html": [
       "<div>\n",
       "<style scoped>\n",
       "    .dataframe tbody tr th:only-of-type {\n",
       "        vertical-align: middle;\n",
       "    }\n",
       "\n",
       "    .dataframe tbody tr th {\n",
       "        vertical-align: top;\n",
       "    }\n",
       "\n",
       "    .dataframe thead th {\n",
       "        text-align: right;\n",
       "    }\n",
       "</style>\n",
       "<table border=\"1\" class=\"dataframe\">\n",
       "  <thead>\n",
       "    <tr style=\"text-align: right;\">\n",
       "      <th></th>\n",
       "      <th>0</th>\n",
       "    </tr>\n",
       "  </thead>\n",
       "  <tbody>\n",
       "    <tr>\n",
       "      <th>Id</th>\n",
       "      <td>-0.000000</td>\n",
       "    </tr>\n",
       "    <tr>\n",
       "      <th>PID</th>\n",
       "      <td>-0.000111</td>\n",
       "    </tr>\n",
       "    <tr>\n",
       "      <th>Lot Frontage</th>\n",
       "      <td>0.000000</td>\n",
       "    </tr>\n",
       "    <tr>\n",
       "      <th>Lot Area</th>\n",
       "      <td>0.000000</td>\n",
       "    </tr>\n",
       "    <tr>\n",
       "      <th>Overall Qual</th>\n",
       "      <td>0.000000</td>\n",
       "    </tr>\n",
       "    <tr>\n",
       "      <th>Overall Cond</th>\n",
       "      <td>-0.000000</td>\n",
       "    </tr>\n",
       "    <tr>\n",
       "      <th>Year Built</th>\n",
       "      <td>0.000000</td>\n",
       "    </tr>\n",
       "    <tr>\n",
       "      <th>Year Remod/Add</th>\n",
       "      <td>0.000000</td>\n",
       "    </tr>\n",
       "    <tr>\n",
       "      <th>Mas Vnr Area</th>\n",
       "      <td>0.000000</td>\n",
       "    </tr>\n",
       "    <tr>\n",
       "      <th>BsmtFin SF 1</th>\n",
       "      <td>0.000000</td>\n",
       "    </tr>\n",
       "    <tr>\n",
       "      <th>BsmtFin SF 2</th>\n",
       "      <td>0.000000</td>\n",
       "    </tr>\n",
       "    <tr>\n",
       "      <th>Bsmt Unf SF</th>\n",
       "      <td>0.000000</td>\n",
       "    </tr>\n",
       "    <tr>\n",
       "      <th>Total Bsmt SF</th>\n",
       "      <td>0.000000</td>\n",
       "    </tr>\n",
       "    <tr>\n",
       "      <th>1st Flr SF</th>\n",
       "      <td>0.000000</td>\n",
       "    </tr>\n",
       "    <tr>\n",
       "      <th>2nd Flr SF</th>\n",
       "      <td>0.000000</td>\n",
       "    </tr>\n",
       "    <tr>\n",
       "      <th>Low Qual Fin SF</th>\n",
       "      <td>-0.000000</td>\n",
       "    </tr>\n",
       "    <tr>\n",
       "      <th>Gr Liv Area</th>\n",
       "      <td>0.000000</td>\n",
       "    </tr>\n",
       "    <tr>\n",
       "      <th>Bsmt Full Bath</th>\n",
       "      <td>0.000000</td>\n",
       "    </tr>\n",
       "    <tr>\n",
       "      <th>Bsmt Half Bath</th>\n",
       "      <td>-0.000000</td>\n",
       "    </tr>\n",
       "    <tr>\n",
       "      <th>Full Bath</th>\n",
       "      <td>0.000000</td>\n",
       "    </tr>\n",
       "    <tr>\n",
       "      <th>Half Bath</th>\n",
       "      <td>0.000000</td>\n",
       "    </tr>\n",
       "    <tr>\n",
       "      <th>Bedroom AbvGr</th>\n",
       "      <td>0.000000</td>\n",
       "    </tr>\n",
       "    <tr>\n",
       "      <th>Kitchen AbvGr</th>\n",
       "      <td>-0.000000</td>\n",
       "    </tr>\n",
       "    <tr>\n",
       "      <th>TotRms AbvGrd</th>\n",
       "      <td>0.000000</td>\n",
       "    </tr>\n",
       "    <tr>\n",
       "      <th>Fireplaces</th>\n",
       "      <td>0.000000</td>\n",
       "    </tr>\n",
       "    <tr>\n",
       "      <th>Garage Yr Blt</th>\n",
       "      <td>0.000000</td>\n",
       "    </tr>\n",
       "    <tr>\n",
       "      <th>Garage Cars</th>\n",
       "      <td>0.000000</td>\n",
       "    </tr>\n",
       "    <tr>\n",
       "      <th>Garage Area</th>\n",
       "      <td>0.000000</td>\n",
       "    </tr>\n",
       "    <tr>\n",
       "      <th>Wood Deck SF</th>\n",
       "      <td>0.000000</td>\n",
       "    </tr>\n",
       "    <tr>\n",
       "      <th>Open Porch SF</th>\n",
       "      <td>0.000000</td>\n",
       "    </tr>\n",
       "    <tr>\n",
       "      <th>...</th>\n",
       "      <td>...</td>\n",
       "    </tr>\n",
       "    <tr>\n",
       "      <th>Garage Qual_Po</th>\n",
       "      <td>-0.000000</td>\n",
       "    </tr>\n",
       "    <tr>\n",
       "      <th>Garage Qual_TA</th>\n",
       "      <td>0.000000</td>\n",
       "    </tr>\n",
       "    <tr>\n",
       "      <th>Garage Cond_Fa</th>\n",
       "      <td>-0.000000</td>\n",
       "    </tr>\n",
       "    <tr>\n",
       "      <th>Garage Cond_Gd</th>\n",
       "      <td>0.000000</td>\n",
       "    </tr>\n",
       "    <tr>\n",
       "      <th>Garage Cond_None</th>\n",
       "      <td>-0.000000</td>\n",
       "    </tr>\n",
       "    <tr>\n",
       "      <th>Garage Cond_Po</th>\n",
       "      <td>-0.000000</td>\n",
       "    </tr>\n",
       "    <tr>\n",
       "      <th>Garage Cond_TA</th>\n",
       "      <td>0.000000</td>\n",
       "    </tr>\n",
       "    <tr>\n",
       "      <th>Paved Drive_P</th>\n",
       "      <td>-0.000000</td>\n",
       "    </tr>\n",
       "    <tr>\n",
       "      <th>Paved Drive_Y</th>\n",
       "      <td>0.000000</td>\n",
       "    </tr>\n",
       "    <tr>\n",
       "      <th>Pool QC_Fa</th>\n",
       "      <td>0.000000</td>\n",
       "    </tr>\n",
       "    <tr>\n",
       "      <th>Pool QC_Gd</th>\n",
       "      <td>0.000000</td>\n",
       "    </tr>\n",
       "    <tr>\n",
       "      <th>Pool QC_None</th>\n",
       "      <td>-0.000000</td>\n",
       "    </tr>\n",
       "    <tr>\n",
       "      <th>Pool QC_TA</th>\n",
       "      <td>-0.000000</td>\n",
       "    </tr>\n",
       "    <tr>\n",
       "      <th>Fence_GdWo</th>\n",
       "      <td>-0.000000</td>\n",
       "    </tr>\n",
       "    <tr>\n",
       "      <th>Fence_MnPrv</th>\n",
       "      <td>-0.000000</td>\n",
       "    </tr>\n",
       "    <tr>\n",
       "      <th>Fence_MnWw</th>\n",
       "      <td>-0.000000</td>\n",
       "    </tr>\n",
       "    <tr>\n",
       "      <th>Fence_None</th>\n",
       "      <td>0.000000</td>\n",
       "    </tr>\n",
       "    <tr>\n",
       "      <th>Misc Feature_Gar2</th>\n",
       "      <td>-0.000000</td>\n",
       "    </tr>\n",
       "    <tr>\n",
       "      <th>Misc Feature_None</th>\n",
       "      <td>0.000000</td>\n",
       "    </tr>\n",
       "    <tr>\n",
       "      <th>Misc Feature_Othr</th>\n",
       "      <td>-0.000000</td>\n",
       "    </tr>\n",
       "    <tr>\n",
       "      <th>Misc Feature_Shed</th>\n",
       "      <td>-0.000000</td>\n",
       "    </tr>\n",
       "    <tr>\n",
       "      <th>Misc Feature_TenC</th>\n",
       "      <td>0.000000</td>\n",
       "    </tr>\n",
       "    <tr>\n",
       "      <th>Sale Type_CWD</th>\n",
       "      <td>-0.000000</td>\n",
       "    </tr>\n",
       "    <tr>\n",
       "      <th>Sale Type_Con</th>\n",
       "      <td>0.000000</td>\n",
       "    </tr>\n",
       "    <tr>\n",
       "      <th>Sale Type_ConLD</th>\n",
       "      <td>-0.000000</td>\n",
       "    </tr>\n",
       "    <tr>\n",
       "      <th>Sale Type_ConLI</th>\n",
       "      <td>0.000000</td>\n",
       "    </tr>\n",
       "    <tr>\n",
       "      <th>Sale Type_ConLw</th>\n",
       "      <td>-0.000000</td>\n",
       "    </tr>\n",
       "    <tr>\n",
       "      <th>Sale Type_New</th>\n",
       "      <td>0.000000</td>\n",
       "    </tr>\n",
       "    <tr>\n",
       "      <th>Sale Type_Oth</th>\n",
       "      <td>-0.000000</td>\n",
       "    </tr>\n",
       "    <tr>\n",
       "      <th>Sale Type_WD</th>\n",
       "      <td>-0.000000</td>\n",
       "    </tr>\n",
       "  </tbody>\n",
       "</table>\n",
       "<p>277 rows × 1 columns</p>\n",
       "</div>"
      ],
      "text/plain": [
       "                          0\n",
       "Id                -0.000000\n",
       "PID               -0.000111\n",
       "Lot Frontage       0.000000\n",
       "Lot Area           0.000000\n",
       "Overall Qual       0.000000\n",
       "Overall Cond      -0.000000\n",
       "Year Built         0.000000\n",
       "Year Remod/Add     0.000000\n",
       "Mas Vnr Area       0.000000\n",
       "BsmtFin SF 1       0.000000\n",
       "BsmtFin SF 2       0.000000\n",
       "Bsmt Unf SF        0.000000\n",
       "Total Bsmt SF      0.000000\n",
       "1st Flr SF         0.000000\n",
       "2nd Flr SF         0.000000\n",
       "Low Qual Fin SF   -0.000000\n",
       "Gr Liv Area        0.000000\n",
       "Bsmt Full Bath     0.000000\n",
       "Bsmt Half Bath    -0.000000\n",
       "Full Bath          0.000000\n",
       "Half Bath          0.000000\n",
       "Bedroom AbvGr      0.000000\n",
       "Kitchen AbvGr     -0.000000\n",
       "TotRms AbvGrd      0.000000\n",
       "Fireplaces         0.000000\n",
       "Garage Yr Blt      0.000000\n",
       "Garage Cars        0.000000\n",
       "Garage Area        0.000000\n",
       "Wood Deck SF       0.000000\n",
       "Open Porch SF      0.000000\n",
       "...                     ...\n",
       "Garage Qual_Po    -0.000000\n",
       "Garage Qual_TA     0.000000\n",
       "Garage Cond_Fa    -0.000000\n",
       "Garage Cond_Gd     0.000000\n",
       "Garage Cond_None  -0.000000\n",
       "Garage Cond_Po    -0.000000\n",
       "Garage Cond_TA     0.000000\n",
       "Paved Drive_P     -0.000000\n",
       "Paved Drive_Y      0.000000\n",
       "Pool QC_Fa         0.000000\n",
       "Pool QC_Gd         0.000000\n",
       "Pool QC_None      -0.000000\n",
       "Pool QC_TA        -0.000000\n",
       "Fence_GdWo        -0.000000\n",
       "Fence_MnPrv       -0.000000\n",
       "Fence_MnWw        -0.000000\n",
       "Fence_None         0.000000\n",
       "Misc Feature_Gar2 -0.000000\n",
       "Misc Feature_None  0.000000\n",
       "Misc Feature_Othr -0.000000\n",
       "Misc Feature_Shed -0.000000\n",
       "Misc Feature_TenC  0.000000\n",
       "Sale Type_CWD     -0.000000\n",
       "Sale Type_Con      0.000000\n",
       "Sale Type_ConLD   -0.000000\n",
       "Sale Type_ConLI    0.000000\n",
       "Sale Type_ConLw   -0.000000\n",
       "Sale Type_New      0.000000\n",
       "Sale Type_Oth     -0.000000\n",
       "Sale Type_WD      -0.000000\n",
       "\n",
       "[277 rows x 1 columns]"
      ]
     },
     "execution_count": 39,
     "metadata": {},
     "output_type": "execute_result"
    }
   ],
   "source": [
    "pd.DataFrame(lasso.coef_, X.columns)"
   ]
  },
  {
   "cell_type": "markdown",
   "metadata": {},
   "source": [
    "### Ridge Regularizer"
   ]
  },
  {
   "cell_type": "code",
   "execution_count": 40,
   "metadata": {},
   "outputs": [],
   "source": [
    "ridge = RidgeCV(cv = 5)"
   ]
  },
  {
   "cell_type": "code",
   "execution_count": 41,
   "metadata": {
    "scrolled": true
   },
   "outputs": [
    {
     "name": "stderr",
     "output_type": "stream",
     "text": [
      "/Users/stuartmurphy/anaconda3/lib/python3.7/site-packages/sklearn/linear_model/ridge.py:147: LinAlgWarning: Ill-conditioned matrix (rcond=1.61503e-21): result may not be accurate.\n",
      "  overwrite_a=True).T\n",
      "/Users/stuartmurphy/anaconda3/lib/python3.7/site-packages/sklearn/linear_model/ridge.py:147: LinAlgWarning: Ill-conditioned matrix (rcond=1.59328e-21): result may not be accurate.\n",
      "  overwrite_a=True).T\n",
      "/Users/stuartmurphy/anaconda3/lib/python3.7/site-packages/sklearn/linear_model/ridge.py:147: LinAlgWarning: Ill-conditioned matrix (rcond=1.40908e-21): result may not be accurate.\n",
      "  overwrite_a=True).T\n",
      "/Users/stuartmurphy/anaconda3/lib/python3.7/site-packages/sklearn/linear_model/ridge.py:147: LinAlgWarning: Ill-conditioned matrix (rcond=1.59702e-21): result may not be accurate.\n",
      "  overwrite_a=True).T\n",
      "/Users/stuartmurphy/anaconda3/lib/python3.7/site-packages/sklearn/linear_model/ridge.py:147: LinAlgWarning: Ill-conditioned matrix (rcond=1.75533e-21): result may not be accurate.\n",
      "  overwrite_a=True).T\n",
      "/Users/stuartmurphy/anaconda3/lib/python3.7/site-packages/sklearn/linear_model/ridge.py:147: LinAlgWarning: Ill-conditioned matrix (rcond=1.27463e-20): result may not be accurate.\n",
      "  overwrite_a=True).T\n",
      "/Users/stuartmurphy/anaconda3/lib/python3.7/site-packages/sklearn/linear_model/ridge.py:147: LinAlgWarning: Ill-conditioned matrix (rcond=1.29712e-20): result may not be accurate.\n",
      "  overwrite_a=True).T\n",
      "/Users/stuartmurphy/anaconda3/lib/python3.7/site-packages/sklearn/linear_model/ridge.py:147: LinAlgWarning: Ill-conditioned matrix (rcond=1.30488e-20): result may not be accurate.\n",
      "  overwrite_a=True).T\n",
      "/Users/stuartmurphy/anaconda3/lib/python3.7/site-packages/sklearn/linear_model/ridge.py:147: LinAlgWarning: Ill-conditioned matrix (rcond=1.27258e-20): result may not be accurate.\n",
      "  overwrite_a=True).T\n",
      "/Users/stuartmurphy/anaconda3/lib/python3.7/site-packages/sklearn/linear_model/ridge.py:147: LinAlgWarning: Ill-conditioned matrix (rcond=1.13828e-20): result may not be accurate.\n",
      "  overwrite_a=True).T\n",
      "/Users/stuartmurphy/anaconda3/lib/python3.7/site-packages/sklearn/linear_model/ridge.py:147: LinAlgWarning: Ill-conditioned matrix (rcond=9.14371e-20): result may not be accurate.\n",
      "  overwrite_a=True).T\n",
      "/Users/stuartmurphy/anaconda3/lib/python3.7/site-packages/sklearn/linear_model/ridge.py:147: LinAlgWarning: Ill-conditioned matrix (rcond=9.07568e-20): result may not be accurate.\n",
      "  overwrite_a=True).T\n",
      "/Users/stuartmurphy/anaconda3/lib/python3.7/site-packages/sklearn/linear_model/ridge.py:147: LinAlgWarning: Ill-conditioned matrix (rcond=9.22058e-20): result may not be accurate.\n",
      "  overwrite_a=True).T\n",
      "/Users/stuartmurphy/anaconda3/lib/python3.7/site-packages/sklearn/linear_model/ridge.py:147: LinAlgWarning: Ill-conditioned matrix (rcond=9.20299e-20): result may not be accurate.\n",
      "  overwrite_a=True).T\n",
      "/Users/stuartmurphy/anaconda3/lib/python3.7/site-packages/sklearn/linear_model/ridge.py:147: LinAlgWarning: Ill-conditioned matrix (rcond=9.02682e-20): result may not be accurate.\n",
      "  overwrite_a=True).T\n",
      "/Users/stuartmurphy/anaconda3/lib/python3.7/site-packages/sklearn/linear_model/ridge.py:147: LinAlgWarning: Ill-conditioned matrix (rcond=7.61609e-20): result may not be accurate.\n",
      "  overwrite_a=True).T\n"
     ]
    },
    {
     "data": {
      "text/plain": [
       "RidgeCV(alphas=array([ 0.1,  1. , 10. ]), cv=5, fit_intercept=True,\n",
       "        gcv_mode=None, normalize=False, scoring=None, store_cv_values=False)"
      ]
     },
     "execution_count": 41,
     "metadata": {},
     "output_type": "execute_result"
    }
   ],
   "source": [
    "ridge.fit(X_train, y_train)"
   ]
  },
  {
   "cell_type": "code",
   "execution_count": 42,
   "metadata": {},
   "outputs": [
    {
     "data": {
      "text/plain": [
       "0.9084024987452082"
      ]
     },
     "execution_count": 42,
     "metadata": {},
     "output_type": "execute_result"
    }
   ],
   "source": [
    "ridge.score(X_train, y_train)"
   ]
  },
  {
   "cell_type": "code",
   "execution_count": 43,
   "metadata": {},
   "outputs": [
    {
     "data": {
      "text/plain": [
       "0.9107831963501055"
      ]
     },
     "execution_count": 43,
     "metadata": {},
     "output_type": "execute_result"
    }
   ],
   "source": [
    "ridge.score(X_test, y_test)"
   ]
  },
  {
   "cell_type": "code",
   "execution_count": 44,
   "metadata": {},
   "outputs": [],
   "source": [
    "ridge_pred = ridge.predict(X_test)"
   ]
  },
  {
   "cell_type": "code",
   "execution_count": 45,
   "metadata": {},
   "outputs": [
    {
     "data": {
      "text/plain": [
       "11512.856606313959"
      ]
     },
     "execution_count": 45,
     "metadata": {},
     "output_type": "execute_result"
    }
   ],
   "source": [
    "median_absolute_error(y_test, ridge_pred)"
   ]
  },
  {
   "cell_type": "code",
   "execution_count": null,
   "metadata": {},
   "outputs": [],
   "source": []
  },
  {
   "cell_type": "code",
   "execution_count": 46,
   "metadata": {
    "scrolled": true
   },
   "outputs": [
    {
     "data": {
      "text/plain": [
       "array([-7.89369829e+00, -5.72404772e-07, -1.14768617e+01,  6.20954426e-01,\n",
       "        1.00571587e+04,  4.64187093e+03,  2.76255494e+02,  9.37765356e+01,\n",
       "        2.52208331e+01,  2.22300239e+00,  6.17130589e+00, -1.91570403e+00,\n",
       "        6.47860405e+00,  7.70640066e+00,  1.54004434e+01,  4.28185209e+00,\n",
       "        2.73886971e+01,  8.14636695e+03,  1.22599212e+03,  6.08248925e+03,\n",
       "        4.59923637e+03, -9.49305662e+02, -1.02227839e+04,  2.53631029e+03,\n",
       "        4.46045712e+03, -3.84680775e+00,  7.88645636e+03,  2.41592938e+00,\n",
       "        1.53055668e+01,  4.13150173e+00,  1.46004568e+01,  4.13661845e+01,\n",
       "        8.92197287e+01, -7.27072858e+01, -1.30210205e+01, -1.02215626e+02,\n",
       "       -4.98566386e+03, -5.73315745e+03, -4.38351393e+03, -2.24559976e+02,\n",
       "       -3.36753721e+03,  6.50504069e+03,  9.44671102e+03,  8.58767449e+02,\n",
       "        4.85736924e+03,  4.03568873e+03,  1.15461780e+03,  5.27214973e+03,\n",
       "        5.86964161e+03, -1.45194678e+03,  7.99055461e+02, -1.95011701e+03,\n",
       "       -4.45284155e+03,  3.58488513e+03,  0.00000000e+00,  3.71452060e+03,\n",
       "        2.22914179e+03, -1.83060826e+03,  6.05394446e+03,  2.16798290e+02,\n",
       "       -3.80623664e+03,  6.78907424e+03, -2.10835454e+04, -9.00411136e+02,\n",
       "        1.58881047e+04,  4.73565494e+03,  8.88377029e+03,  0.00000000e+00,\n",
       "        0.00000000e+00,  4.88310632e+03, -4.38063492e+03, -1.82449844e+03,\n",
       "        2.72229971e+02,  6.42011145e+03, -2.47794607e+03, -2.18758202e+03,\n",
       "       -1.14119662e+02, -1.75813036e+03, -1.63836879e+03, -4.97393046e+03,\n",
       "        8.35159437e+03, -1.60697291e+04, -1.31617725e+04, -6.13846738e+02,\n",
       "        1.82311688e+04, -4.12232989e+03, -8.35908395e+02, -2.07429283e+03,\n",
       "       -2.30918615e+03, -8.93460618e+03,  1.25467160e+03, -9.70066528e+03,\n",
       "        2.10191698e+04,  2.24081257e+04, -9.16985300e+03, -4.29995850e+03,\n",
       "       -6.92430202e+03, -8.27807896e+03,  4.87650845e+03,  3.02917711e+04,\n",
       "       -1.01490823e+03,  3.29788855e+03, -1.58954856e+03,  7.18053631e+03,\n",
       "        5.09521043e+03,  1.42553895e+04, -6.82332027e+03, -5.69794174e+02,\n",
       "       -2.70142956e+03, -4.84614664e+03, -1.12853825e+03, -3.72830209e+03,\n",
       "        5.31367836e+03,  1.88671354e+03,  0.00000000e+00, -1.33216200e+02,\n",
       "       -1.80395049e+01, -2.36405461e+03, -1.95011701e+03, -1.49435601e+04,\n",
       "       -1.41985925e+04,  2.58342644e+03,  4.27934263e+03,  7.34249390e+03,\n",
       "       -1.03369940e+02, -5.46434807e+03,  2.12631251e+03,  1.17958537e+03,\n",
       "        2.65323585e+03,  2.51074514e+03,  7.81299562e+03, -1.05282730e+04,\n",
       "        1.05049355e+03,  9.09567829e+03,  2.23387425e+03,  1.22708399e+03,\n",
       "        2.69384921e+03,  1.55588738e+04,  1.33735265e+03, -2.48543301e+03,\n",
       "        1.16596981e+04, -2.51228710e+02,  4.00980932e+03, -3.38609044e+03,\n",
       "        3.16271426e+02,  1.50196077e+03,  1.17452859e+03, -5.07868968e+01,\n",
       "       -9.54685253e+03,  2.04273154e+03, -4.31862071e+03,  1.33164377e+03,\n",
       "        2.63661337e+03, -6.89013728e+02,  1.40744847e+03, -1.38529461e+03,\n",
       "        1.98376047e+03,  3.41225992e+02, -3.84383139e+02,  1.47203287e+03,\n",
       "       -1.89931855e+03, -1.63304062e+03, -6.73661192e+03,  1.20194212e+03,\n",
       "        4.66823570e+03,  2.35655098e+02,  2.94232336e+02,  5.36423150e+03,\n",
       "        6.24494703e+03, -1.28821558e+04, -1.70274721e+04, -1.98783827e+04,\n",
       "        1.14287374e+03, -2.34542709e+03, -3.26794172e+03,  5.08995259e+02,\n",
       "        1.75623905e+02,  3.46847826e+03, -7.21145868e+03,  3.45429254e+03,\n",
       "        2.63047138e+02, -3.70772436e+03, -1.44692977e+04, -1.95752419e+03,\n",
       "        3.50480897e+02, -9.84173796e+03, -3.52888955e+03,  1.91772266e+03,\n",
       "       -1.95752419e+03, -6.93189594e+02,  2.12043529e+03,  1.29183241e+04,\n",
       "       -6.94458958e+03, -6.25468597e+03, -2.66214758e+03, -5.61283831e+02,\n",
       "        3.40773001e+03, -5.86091039e+03, -1.95752419e+03, -2.55275395e+03,\n",
       "       -5.49729953e+03, -2.86344347e+03,  4.27033265e+03, -5.05290022e+03,\n",
       "       -1.93118177e+03, -6.13219056e+03, -2.01706451e+03,  3.35657434e+03,\n",
       "       -4.99617339e+03, -4.80357318e+03, -1.78290821e+03, -3.64592023e+03,\n",
       "       -2.81793495e+03, -5.88133107e+03, -4.91796292e+03, -8.84912986e+02,\n",
       "        1.12183375e+01,  1.91143465e+03, -4.63326052e+02, -2.27481587e+02,\n",
       "       -1.63764560e+04, -1.69590638e+04, -1.85541887e+04, -1.31901366e+03,\n",
       "        3.75021287e+03,  3.66474110e+03,  2.44280227e+03, -4.11372640e+03,\n",
       "       -2.33734303e+03,  9.80442324e+03, -5.21175053e+03, -2.11189723e+02,\n",
       "       -2.01575294e+03, -3.30868897e+03,  1.05594115e+03,  4.50950977e+03,\n",
       "       -2.43149267e+03,  6.26885160e+03, -2.44329010e+03,  2.83631764e+03,\n",
       "        5.73387686e+01,  5.73387686e+01, -3.63194360e+03, -4.69891432e+01,\n",
       "       -6.49755584e+03,  9.51302974e+03,  5.73387686e+01, -3.21186027e+03,\n",
       "       -8.00195193e+03,  1.38822951e+03, -1.46032089e+03,  5.73387686e+01,\n",
       "       -3.45932840e+03,  3.40625116e+03, -3.86693916e+02,  3.59557192e+03,\n",
       "        6.46551708e+03, -1.68848743e+04,  6.41324968e+03,  4.00610757e+03,\n",
       "       -3.46459045e+03, -2.62852138e+02, -3.50769241e+03, -2.70918021e+03,\n",
       "        2.04309886e+04, -1.33358344e+04,  1.21821608e+04, -2.16860310e+03,\n",
       "        8.74579053e+02, -1.21899425e+02,  5.06243001e+03,  2.63267738e+03,\n",
       "       -2.93700679e+03,  2.82213630e+03,  1.14721417e+04,  4.74050129e+03,\n",
       "        7.38473132e+02])"
      ]
     },
     "execution_count": 46,
     "metadata": {},
     "output_type": "execute_result"
    }
   ],
   "source": [
    "ridge.coef_"
   ]
  },
  {
   "cell_type": "markdown",
   "metadata": {},
   "source": [
    "#### This is actually performing worse than our original linear regression model! You don't always need to regularize!"
   ]
  },
  {
   "cell_type": "markdown",
   "metadata": {},
   "source": [
    "### OK, let's fix our lasso"
   ]
  },
  {
   "cell_type": "code",
   "execution_count": 47,
   "metadata": {},
   "outputs": [],
   "source": [
    "from sklearn.preprocessing import StandardScaler"
   ]
  },
  {
   "cell_type": "code",
   "execution_count": 48,
   "metadata": {},
   "outputs": [],
   "source": [
    "ss = StandardScaler()"
   ]
  },
  {
   "cell_type": "code",
   "execution_count": 49,
   "metadata": {},
   "outputs": [],
   "source": [
    "X_train_sc = ss.fit_transform(X_train)"
   ]
  },
  {
   "cell_type": "code",
   "execution_count": 50,
   "metadata": {},
   "outputs": [],
   "source": [
    "X_test_sc = ss.transform(X_test)"
   ]
  },
  {
   "cell_type": "code",
   "execution_count": 51,
   "metadata": {},
   "outputs": [
    {
     "data": {
      "text/plain": [
       "LassoCV(alphas=None, copy_X=True, cv=5, eps=0.001, fit_intercept=True,\n",
       "        max_iter=1000, n_alphas=100, n_jobs=None, normalize=False,\n",
       "        positive=False, precompute='auto', random_state=None,\n",
       "        selection='cyclic', tol=0.0001, verbose=False)"
      ]
     },
     "execution_count": 51,
     "metadata": {},
     "output_type": "execute_result"
    }
   ],
   "source": [
    "lasso.fit(X_train_sc, y_train)"
   ]
  },
  {
   "cell_type": "code",
   "execution_count": 52,
   "metadata": {},
   "outputs": [
    {
     "data": {
      "text/plain": [
       "0.9105517930755569"
      ]
     },
     "execution_count": 52,
     "metadata": {},
     "output_type": "execute_result"
    }
   ],
   "source": [
    "lasso.score(X_train_sc, y_train)"
   ]
  },
  {
   "cell_type": "code",
   "execution_count": 53,
   "metadata": {},
   "outputs": [
    {
     "data": {
      "text/plain": [
       "0.9048054173227886"
      ]
     },
     "execution_count": 53,
     "metadata": {},
     "output_type": "execute_result"
    }
   ],
   "source": [
    "lasso.score(X_test_sc, y_test)"
   ]
  },
  {
   "cell_type": "markdown",
   "metadata": {},
   "source": [
    "### Let's try logging our target data"
   ]
  },
  {
   "cell_type": "code",
   "execution_count": 54,
   "metadata": {},
   "outputs": [],
   "source": [
    "y_train_log = np.log(y_train)\n",
    "y_test_log = np.log(y_test)"
   ]
  },
  {
   "cell_type": "markdown",
   "metadata": {},
   "source": [
    "#### Lasso"
   ]
  },
  {
   "cell_type": "code",
   "execution_count": 55,
   "metadata": {},
   "outputs": [
    {
     "name": "stderr",
     "output_type": "stream",
     "text": [
      "/Users/stuartmurphy/anaconda3/lib/python3.7/site-packages/sklearn/linear_model/coordinate_descent.py:471: ConvergenceWarning: Objective did not converge. You might want to increase the number of iterations. Duality gap: 0.02821536064575625, tolerance: 0.01962035513885903\n",
      "  tol, rng, random, positive)\n"
     ]
    },
    {
     "data": {
      "text/plain": [
       "LassoCV(alphas=None, copy_X=True, cv=5, eps=0.001, fit_intercept=True,\n",
       "        max_iter=1000, n_alphas=100, n_jobs=None, normalize=False,\n",
       "        positive=False, precompute='auto', random_state=None,\n",
       "        selection='cyclic', tol=0.0001, verbose=False)"
      ]
     },
     "execution_count": 55,
     "metadata": {},
     "output_type": "execute_result"
    }
   ],
   "source": [
    "lasso.fit(X_train_sc, y_train_log)"
   ]
  },
  {
   "cell_type": "code",
   "execution_count": 56,
   "metadata": {},
   "outputs": [
    {
     "data": {
      "text/plain": [
       "0.9181771628927036"
      ]
     },
     "execution_count": 56,
     "metadata": {},
     "output_type": "execute_result"
    }
   ],
   "source": [
    "lasso.score(X_train_sc, y_train_log)"
   ]
  },
  {
   "cell_type": "code",
   "execution_count": 57,
   "metadata": {},
   "outputs": [
    {
     "data": {
      "text/plain": [
       "0.8877731144679762"
      ]
     },
     "execution_count": 57,
     "metadata": {},
     "output_type": "execute_result"
    }
   ],
   "source": [
    "lasso.score(X_test_sc, y_test_log)"
   ]
  },
  {
   "cell_type": "code",
   "execution_count": 58,
   "metadata": {},
   "outputs": [
    {
     "data": {
      "text/plain": [
       "188"
      ]
     },
     "execution_count": 58,
     "metadata": {},
     "output_type": "execute_result"
    }
   ],
   "source": [
    "(lasso.coef_ == 0).sum()"
   ]
  },
  {
   "cell_type": "markdown",
   "metadata": {},
   "source": [
    "#### Ridge"
   ]
  },
  {
   "cell_type": "code",
   "execution_count": 59,
   "metadata": {},
   "outputs": [
    {
     "data": {
      "text/plain": [
       "RidgeCV(alphas=array([ 0.1,  1. , 10. ]), cv=5, fit_intercept=True,\n",
       "        gcv_mode=None, normalize=False, scoring=None, store_cv_values=False)"
      ]
     },
     "execution_count": 59,
     "metadata": {},
     "output_type": "execute_result"
    }
   ],
   "source": [
    "ridge.fit(X_train_sc, y_train_log)"
   ]
  },
  {
   "cell_type": "code",
   "execution_count": 60,
   "metadata": {},
   "outputs": [
    {
     "data": {
      "text/plain": [
       "0.948843847390648"
      ]
     },
     "execution_count": 60,
     "metadata": {},
     "output_type": "execute_result"
    }
   ],
   "source": [
    "ridge.score(X_train_sc, y_train_log)"
   ]
  },
  {
   "cell_type": "code",
   "execution_count": 61,
   "metadata": {},
   "outputs": [
    {
     "data": {
      "text/plain": [
       "0.8881469323621647"
      ]
     },
     "execution_count": 61,
     "metadata": {},
     "output_type": "execute_result"
    }
   ],
   "source": [
    "ridge.score(X_test_sc, y_test_log)"
   ]
  },
  {
   "cell_type": "markdown",
   "metadata": {},
   "source": [
    "### Let's see a case where regularization will clearly help"
   ]
  },
  {
   "cell_type": "code",
   "execution_count": 62,
   "metadata": {},
   "outputs": [],
   "source": [
    "X_train, X_test, y_train, y_test = train_test_split(X, y, random_state = 42, test_size = .8)"
   ]
  },
  {
   "cell_type": "code",
   "execution_count": 63,
   "metadata": {},
   "outputs": [
    {
     "data": {
      "text/plain": [
       "((410, 277), (1641, 277), (410,), (1641,))"
      ]
     },
     "execution_count": 63,
     "metadata": {},
     "output_type": "execute_result"
    }
   ],
   "source": [
    "X_train.shape, X_test.shape, y_train.shape, y_test.shape"
   ]
  },
  {
   "cell_type": "markdown",
   "metadata": {},
   "source": [
    "#### No Reg"
   ]
  },
  {
   "cell_type": "code",
   "execution_count": 63,
   "metadata": {},
   "outputs": [],
   "source": [
    "linreg = LinearRegression()"
   ]
  },
  {
   "cell_type": "code",
   "execution_count": 64,
   "metadata": {},
   "outputs": [
    {
     "data": {
      "text/plain": [
       "LinearRegression(copy_X=True, fit_intercept=True, n_jobs=None,\n",
       "         normalize=False)"
      ]
     },
     "execution_count": 64,
     "metadata": {},
     "output_type": "execute_result"
    }
   ],
   "source": [
    "linreg.fit(X_train, y_train)"
   ]
  },
  {
   "cell_type": "code",
   "execution_count": 65,
   "metadata": {},
   "outputs": [
    {
     "data": {
      "text/plain": [
       "0.9602103527172609"
      ]
     },
     "execution_count": 65,
     "metadata": {},
     "output_type": "execute_result"
    }
   ],
   "source": [
    "linreg.score(X_train, y_train)"
   ]
  },
  {
   "cell_type": "code",
   "execution_count": 66,
   "metadata": {},
   "outputs": [
    {
     "data": {
      "text/plain": [
       "0.5855255022151783"
      ]
     },
     "execution_count": 66,
     "metadata": {},
     "output_type": "execute_result"
    }
   ],
   "source": [
    "linreg.score(X_test, y_test)"
   ]
  },
  {
   "cell_type": "markdown",
   "metadata": {},
   "source": [
    "#### L1 Reg"
   ]
  },
  {
   "cell_type": "code",
   "execution_count": 67,
   "metadata": {},
   "outputs": [
    {
     "name": "stderr",
     "output_type": "stream",
     "text": [
      "/Users/nicholasgayliard/anaconda3/lib/python3.7/site-packages/sklearn/preprocessing/data.py:645: DataConversionWarning: Data with input dtype int64, float64 were all converted to float64 by StandardScaler.\n",
      "  return self.partial_fit(X, y)\n",
      "/Users/nicholasgayliard/anaconda3/lib/python3.7/site-packages/sklearn/base.py:464: DataConversionWarning: Data with input dtype int64, float64 were all converted to float64 by StandardScaler.\n",
      "  return self.fit(X, **fit_params).transform(X)\n",
      "/Users/nicholasgayliard/anaconda3/lib/python3.7/site-packages/ipykernel_launcher.py:2: DataConversionWarning: Data with input dtype int64, float64 were all converted to float64 by StandardScaler.\n",
      "  \n"
     ]
    }
   ],
   "source": [
    "X_train_sc = ss.fit_transform(X_train)\n",
    "X_test_sc = ss.transform(X_test)"
   ]
  },
  {
   "cell_type": "code",
   "execution_count": 68,
   "metadata": {},
   "outputs": [
    {
     "data": {
      "text/plain": [
       "LassoCV(alphas=None, copy_X=True, cv=5, eps=0.001, fit_intercept=True,\n",
       "    max_iter=1000, n_alphas=100, n_jobs=None, normalize=False,\n",
       "    positive=False, precompute='auto', random_state=None,\n",
       "    selection='cyclic', tol=0.0001, verbose=False)"
      ]
     },
     "execution_count": 68,
     "metadata": {},
     "output_type": "execute_result"
    }
   ],
   "source": [
    "lasso.fit(X_train_sc, y_train)"
   ]
  },
  {
   "cell_type": "code",
   "execution_count": 69,
   "metadata": {},
   "outputs": [
    {
     "data": {
      "text/plain": [
       "0.934493448564467"
      ]
     },
     "execution_count": 69,
     "metadata": {},
     "output_type": "execute_result"
    }
   ],
   "source": [
    "lasso.score(X_train_sc, y_train)"
   ]
  },
  {
   "cell_type": "code",
   "execution_count": 70,
   "metadata": {},
   "outputs": [
    {
     "data": {
      "text/plain": [
       "0.8134119271404712"
      ]
     },
     "execution_count": 70,
     "metadata": {},
     "output_type": "execute_result"
    }
   ],
   "source": [
    "lasso.score(X_test_sc, y_test)"
   ]
  },
  {
   "cell_type": "markdown",
   "metadata": {},
   "source": [
    "#### L2 Reg"
   ]
  },
  {
   "cell_type": "code",
   "execution_count": 71,
   "metadata": {},
   "outputs": [
    {
     "data": {
      "text/plain": [
       "RidgeCV(alphas=array([ 0.1,  1. , 10. ]), cv=5, fit_intercept=True,\n",
       "    gcv_mode=None, normalize=False, scoring=None, store_cv_values=False)"
      ]
     },
     "execution_count": 71,
     "metadata": {},
     "output_type": "execute_result"
    }
   ],
   "source": [
    "ridge.fit(X_train_sc, y_train)"
   ]
  },
  {
   "cell_type": "code",
   "execution_count": 72,
   "metadata": {},
   "outputs": [
    {
     "data": {
      "text/plain": [
       "0.9557369060610366"
      ]
     },
     "execution_count": 72,
     "metadata": {},
     "output_type": "execute_result"
    }
   ],
   "source": [
    "ridge.score(X_train_sc, y_train)"
   ]
  },
  {
   "cell_type": "code",
   "execution_count": 73,
   "metadata": {},
   "outputs": [
    {
     "data": {
      "text/plain": [
       "0.7774089821483762"
      ]
     },
     "execution_count": 73,
     "metadata": {},
     "output_type": "execute_result"
    }
   ],
   "source": [
    "ridge.score(X_test_sc, y_test)"
   ]
  },
  {
   "cell_type": "code",
   "execution_count": null,
   "metadata": {},
   "outputs": [],
   "source": []
  }
 ],
 "metadata": {
  "kernelspec": {
   "display_name": "Python 3",
   "language": "python",
   "name": "python3"
  },
  "language_info": {
   "codemirror_mode": {
    "name": "ipython",
    "version": 3
   },
   "file_extension": ".py",
   "mimetype": "text/x-python",
   "name": "python",
   "nbconvert_exporter": "python",
   "pygments_lexer": "ipython3",
   "version": "3.7.3"
  }
 },
 "nbformat": 4,
 "nbformat_minor": 4
}
