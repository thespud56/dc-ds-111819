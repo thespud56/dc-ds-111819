{
 "cells": [
  {
   "cell_type": "markdown",
   "metadata": {},
   "source": [
    "# Linear Algebra, Calculus, and Gradient Descent\n",
    "\n",
    "__Objectives__\n",
    "* Use operations with vectors and matrices to solve systems of linear equations\n",
    "* Identify and describe of scalars, vectors,  matrices, using appropriate mathematical jargon\n",
    "* Set up and solve systems of linear equations with real life examples\n",
    "* Describe gradient descent in relation to slope, derivatives, and step size\n",
    "\n",
    "\n",
    "## Why Linear Algebra?\n",
    "\n",
    "Linear Algebra is the basis of many machine learning models.\n",
    "\n",
    "Data is usually already set up into a matrix by default!\n",
    "\n",
    "<img src= \"./resources/dataset.jpeg\">\n"
   ]
  },
  {
   "cell_type": "markdown",
   "metadata": {},
   "source": [
    "\n",
    "It can be used to model complicated things like language\n",
    "\n",
    "<img src = \"./resources/Word-Vectors.png\">"
   ]
  },
  {
   "cell_type": "markdown",
   "metadata": {},
   "source": [
    "Important for image compression and recognition\n",
    "\n",
    "<img src = \"./resources/images.gif\">"
   ]
  },
  {
   "cell_type": "markdown",
   "metadata": {},
   "source": [
    "Also matrices are the common notation used in the popular libraries like numpy, scipy and sklearn.\n",
    "\n",
    "<img src = \"./resources/matrix_multiplication.png\">\n"
   ]
  },
  {
   "cell_type": "markdown",
   "metadata": {},
   "source": [
    "This is an image from Andrew Ng's Neural Networks and Deep Learning course.\n",
    "\n",
    "<img src = \"./resources/gradient_descent.png\" width  = 500>"
   ]
  },
  {
   "cell_type": "markdown",
   "metadata": {},
   "source": [
    "This is an image from Andrew Ng's Sequence Model's Course. \n",
    "\n",
    "<img src = \"./resources/lstm.png\" width  = 500>"
   ]
  },
  {
   "cell_type": "markdown",
   "metadata": {},
   "source": [
    "## Linear algebra and Linear Regression\n",
    "\n",
    "- Let's move to the notebook matrix algebra with numpy :)"
   ]
  },
  {
   "cell_type": "markdown",
   "metadata": {},
   "source": [
    "## Gradient Descent"
   ]
  },
  {
   "cell_type": "markdown",
   "metadata": {},
   "source": [
    "[Gradient slide](https://www.youtube.com/watch?v=vWFjqgb-ylQ)"
   ]
  },
  {
   "cell_type": "markdown",
   "metadata": {},
   "source": [
    "## Gradient in Action"
   ]
  },
  {
   "cell_type": "code",
   "execution_count": 1,
   "metadata": {},
   "outputs": [],
   "source": [
    "import pandas as pd\n",
    "import numpy as np\n",
    "from matplotlib import pyplot as plt\n",
    "import random\n",
    "import seaborn as sns"
   ]
  },
  {
   "cell_type": "code",
   "execution_count": 2,
   "metadata": {},
   "outputs": [
    {
     "data": {
      "text/plain": [
       "array([0., 0., 0., 0., 0., 0., 0., 0., 0., 0.])"
      ]
     },
     "execution_count": 2,
     "metadata": {},
     "output_type": "execute_result"
    }
   ],
   "source": [
    "numPoints=10\n",
    "np.zeros(shape=numPoints)"
   ]
  },
  {
   "cell_type": "code",
   "execution_count": 3,
   "metadata": {},
   "outputs": [],
   "source": [
    "def genData(numPoints, bias, variance):\n",
    "    x = np.zeros(shape=(numPoints, 2))\n",
    "    y = np.zeros(shape=numPoints)\n",
    "    # basically a straight line\n",
    "    for i in range(0, numPoints):\n",
    "        # bias feature\n",
    "        x[i][0] = 1\n",
    "        x[i][1] = i\n",
    "        # our target variable\n",
    "        y[i] = (i + bias) + np.random.uniform(0, 1) * variance\n",
    "    return x, y"
   ]
  },
  {
   "cell_type": "code",
   "execution_count": 4,
   "metadata": {},
   "outputs": [],
   "source": [
    "x = np.random.uniform(low =0, high=1, size = 1000)\n",
    "\n",
    "y = 10*x + 25 + np.random.normal(loc = 0, scale = 1, size = 1000)"
   ]
  },
  {
   "cell_type": "code",
   "execution_count": 5,
   "metadata": {},
   "outputs": [],
   "source": [
    "# gen 100 points with a bias of 25 and 10 variance as a bit of noise\n",
    "x, y = genData(100, 25, 25)\n",
    "m, n = np.shape(x)"
   ]
  },
  {
   "cell_type": "code",
   "execution_count": 6,
   "metadata": {},
   "outputs": [
    {
     "data": {
      "image/png": "[encoded data removed]",
      "text/plain": [
       "<Figure size 432x288 with 1 Axes>"
      ]
     },
     "metadata": {
      "needs_background": "light"
     },
     "output_type": "display_data"
    }
   ],
   "source": [
    "sns.scatterplot(x=x[:, 1], y=y)\n",
    "\n",
    "plt.show()"
   ]
  },
  {
   "cell_type": "code",
   "execution_count": 7,
   "metadata": {},
   "outputs": [
    {
     "data": {
      "text/plain": [
       "(100,)"
      ]
     },
     "execution_count": 7,
     "metadata": {},
     "output_type": "execute_result"
    }
   ],
   "source": [
    "x\n",
    "theta = np.array([1.90595185,1.5342646])\n",
    "np.dot(x, theta).shape"
   ]
  },
  {
   "cell_type": "markdown",
   "metadata": {},
   "source": [
    "__Your Turn__\n",
    "\n",
    "Write a gradient descent function for this linear problem\n",
    "\n",
    "- Inputs:\n",
    "x, y, theta: initialized with some random values, alpha: learning rate, m: length of data, numiterations: number of iterations\n",
    "\n",
    "- return: plot the errors for each iterations\n",
    "- return the final theta values"
   ]
  },
  {
   "cell_type": "code",
   "execution_count": 10,
   "metadata": {},
   "outputs": [],
   "source": [
    "# %load -r 1-20 supplement.py\n",
    "def gradientDescent(x, y, theta, alpha, m, numIterations):\n",
    "    xTrans = x.transpose()\n",
    "    costs = []\n",
    "    for i in range(0, numIterations):\n",
    "        hypothesis = np.dot(x, theta)\n",
    "        loss = hypothesis - y\n",
    "        # avg cost per example (the 2 in 2*m doesn't really matter here.\n",
    "        # But to be consistent with the gradient, I include it)\n",
    "        cost = np.sum(loss ** 2) / (2 * m)\n",
    "        if i % (numIterations // 40) == 0:\n",
    "            print(\"Iteration %d | Cost: %f\" % (i, cost))\n",
    "            print(theta)\n",
    "        costs.append(cost)\n",
    "        # avg gradient per example\n",
    "        gradient = np.dot(xTrans, loss) / m\n",
    "        # update\n",
    "        theta = theta - alpha * gradient\n",
    "    sns.scatterplot(y=costs, x=[i for i in range(len(costs))])\n",
    "\n",
    "    return theta"
   ]
  },
  {
   "cell_type": "code",
   "execution_count": 11,
   "metadata": {},
   "outputs": [
    {
     "name": "stdout",
     "output_type": "stream",
     "text": [
      "Iteration 0 | Cost: 507.717060\n",
      "[37.0595185  1.5342646]\n",
      "Iteration 2500 | Cost: 22.877510\n",
      "[37.00114332  0.99171797]\n",
      "Iteration 5000 | Cost: 22.868631\n",
      "[36.95404353  0.99242807]\n",
      "Iteration 7500 | Cost: 22.860811\n",
      "[36.90983844  0.99309453]\n",
      "Iteration 10000 | Cost: 22.853922\n",
      "[36.86835014  0.99372003]\n",
      "Iteration 12500 | Cost: 22.847853\n",
      "[36.82941167  0.99430708]\n",
      "Iteration 15000 | Cost: 22.842508\n",
      "[36.79286631  0.99485806]\n",
      "Iteration 17500 | Cost: 22.837800\n",
      "[36.75856699  0.99537518]\n",
      "Iteration 20000 | Cost: 22.833653\n",
      "[36.72637567  0.99586051]\n",
      "Iteration 22500 | Cost: 22.829999\n",
      "[36.69616278  0.99631602]\n",
      "Iteration 25000 | Cost: 22.826781\n",
      "[36.66780675  0.99674353]\n",
      "Iteration 27500 | Cost: 22.823947\n",
      "[36.64119345  0.99714476]\n",
      "Iteration 30000 | Cost: 22.821450\n",
      "[36.61621577  0.99752134]\n",
      "Iteration 32500 | Cost: 22.819250\n",
      "[36.59277319  0.99787477]\n",
      "Iteration 35000 | Cost: 22.817313\n",
      "[36.57077137  0.99820649]\n",
      "Iteration 37500 | Cost: 22.815606\n",
      "[36.55012175  0.99851781]\n",
      "Iteration 40000 | Cost: 22.814103\n",
      "[36.53074124  0.99881   ]\n",
      "Iteration 42500 | Cost: 22.812779\n",
      "[36.51255183  0.99908424]\n",
      "Iteration 45000 | Cost: 22.811613\n",
      "[36.49548032  0.99934161]\n",
      "Iteration 47500 | Cost: 22.810585\n",
      "[36.479458    0.99958318]\n",
      "Iteration 50000 | Cost: 22.809680\n",
      "[36.4644204   0.99980989]\n",
      "Iteration 52500 | Cost: 22.808883\n",
      "[36.45030699  1.00002267]\n",
      "Iteration 55000 | Cost: 22.808181\n",
      "[36.43706098  1.00022238]\n",
      "Iteration 57500 | Cost: 22.807562\n",
      "[36.42462905  1.00040981]\n",
      "Iteration 60000 | Cost: 22.807017\n",
      "[36.41296118  1.00058572]\n",
      "Iteration 62500 | Cost: 22.806537\n",
      "[36.4020104   1.00075082]\n",
      "Iteration 65000 | Cost: 22.806115\n",
      "[36.39173264  1.00090577]\n",
      "Iteration 67500 | Cost: 22.805742\n",
      "[36.38208654  1.0010512 ]\n",
      "Iteration 70000 | Cost: 22.805414\n",
      "[36.37303328  1.00118769]\n",
      "Iteration 72500 | Cost: 22.805125\n",
      "[36.36453642  1.0013158 ]\n",
      "Iteration 75000 | Cost: 22.804871\n",
      "[36.35656177  1.00143603]\n",
      "Iteration 77500 | Cost: 22.804647\n",
      "[36.34907723  1.00154887]\n",
      "Iteration 80000 | Cost: 22.804449\n",
      "[36.34205269  1.00165477]\n",
      "Iteration 82500 | Cost: 22.804275\n",
      "[36.33545986  1.00175417]\n",
      "Iteration 85000 | Cost: 22.804122\n",
      "[36.32927222  1.00184746]\n",
      "Iteration 87500 | Cost: 22.803987\n",
      "[36.32346487  1.00193501]\n",
      "Iteration 90000 | Cost: 22.803868\n",
      "[36.31801443  1.00201719]\n",
      "Iteration 92500 | Cost: 22.803763\n",
      "[36.31289897  1.00209431]\n",
      "Iteration 95000 | Cost: 22.803671\n",
      "[36.3080979   1.00216669]\n",
      "Iteration 97500 | Cost: 22.803590\n",
      "[36.3035919   1.00223463]\n"
     ]
    },
    {
     "data": {
      "text/plain": [
       "array([36.29936283,  1.00229839])"
      ]
     },
     "execution_count": 11,
     "metadata": {},
     "output_type": "execute_result"
    },
    {
     "data": {
      "image/png": "[encoded data removed]",
      "text/plain": [
       "<Figure size 432x288 with 1 Axes>"
      ]
     },
     "metadata": {
      "needs_background": "light"
     },
     "output_type": "display_data"
    }
   ],
   "source": [
    "numIterations = 100000\n",
    "alpha = 0.0001\n",
    "theta = np.array([37.0595185,1.5342646])\n",
    "a = gradientDescent(x, y, theta, alpha, m, numIterations)\n",
    "a"
   ]
  },
  {
   "cell_type": "markdown",
   "metadata": {},
   "source": [
    "Let's compare the results with the sklearn."
   ]
  },
  {
   "cell_type": "code",
   "execution_count": 12,
   "metadata": {},
   "outputs": [],
   "source": [
    "from sklearn.linear_model import LinearRegression"
   ]
  },
  {
   "cell_type": "code",
   "execution_count": 13,
   "metadata": {},
   "outputs": [
    {
     "name": "stdout",
     "output_type": "stream",
     "text": [
      "[36.23478054  1.00327207]\n"
     ]
    }
   ],
   "source": [
    "lr = LinearRegression(fit_intercept= False)\n",
    "lr.fit(x,y)\n",
    "print(lr.coef_)\n"
   ]
  },
  {
   "cell_type": "code",
   "execution_count": null,
   "metadata": {},
   "outputs": [],
   "source": []
  }
 ],
 "metadata": {
  "kernelspec": {
   "display_name": "Python 3",
   "language": "python",
   "name": "python3"
  },
  "language_info": {
   "codemirror_mode": {
    "name": "ipython",
    "version": 3
   },
   "file_extension": ".py",
   "mimetype": "text/x-python",
   "name": "python",
   "nbconvert_exporter": "python",
   "pygments_lexer": "ipython3",
   "version": "3.7.3"
  },
  "toc": {
   "base_numbering": 1,
   "nav_menu": {},
   "number_sections": true,
   "sideBar": true,
   "skip_h1_title": false,
   "title_cell": "Table of Contents",
   "title_sidebar": "Contents",
   "toc_cell": false,
   "toc_position": {},
   "toc_section_display": true,
   "toc_window_display": false
  }
 },
 "nbformat": 4,
 "nbformat_minor": 4
}
