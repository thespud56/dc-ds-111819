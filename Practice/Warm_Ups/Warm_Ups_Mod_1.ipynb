{
 "cells": [
  {
   "cell_type": "markdown",
   "metadata": {},
   "source": [
    "Write a function reverse_the_strings that takes in one argument, a list of strings, and will reverse the order of each string. \"Example\" becomes \"elpmaxE"
   ]
  },
  {
   "cell_type": "code",
   "execution_count": 3,
   "metadata": {},
   "outputs": [
    {
     "data": {
      "text/plain": [
       "'elpmaxE'"
      ]
     },
     "execution_count": 3,
     "metadata": {},
     "output_type": "execute_result"
    }
   ],
   "source": [
    "def reverse(string):\n",
    "        string = string[::-1]\n",
    "        return string\n",
    "\n",
    "reverse('Example')"
   ]
  },
  {
   "cell_type": "markdown",
   "metadata": {},
   "source": [
    "Take this list names and write a function is_short that selects the names from that list that are 8 characters long. Then use the filter() method and your function to create a new list, short_names, that contains names that are fewer than 8 characters long.\n"
   ]
  },
  {
   "cell_type": "code",
   "execution_count": 4,
   "metadata": {},
   "outputs": [],
   "source": [
    "names = [\"Benjamin\", \"Bernadette\", \"Brian\", \"Betty\", \"Bella\", \"Brunhilda\", \"Bruno\"]"
   ]
  },
  {
   "cell_type": "code",
   "execution_count": 19,
   "metadata": {},
   "outputs": [
    {
     "data": {
      "text/plain": [
       "['Brian', 'Betty', 'Bella', 'Bruno']"
      ]
     },
     "execution_count": 19,
     "metadata": {},
     "output_type": "execute_result"
    }
   ],
   "source": [
    "def is_short(names):\n",
    "    short_names = []\n",
    "    for x in names:\n",
    "        if len(x) < 8:\n",
    "            short_names.append(x)\n",
    "        else: \n",
    "            continue\n",
    "    return  short_names\n",
    "    \n",
    "is_short(names)"
   ]
  },
  {
   "cell_type": "code",
   "execution_count": null,
   "metadata": {},
   "outputs": [],
   "source": []
  },
  {
   "cell_type": "markdown",
   "metadata": {},
   "source": [
    "Write a function called cylinder_vol that calculates the volume of a cylinder. The formula is the cylinders height multiplied by pi(3.14159) multiplied by the radius squared. The function should take in 2 arguments, the height and radius. Do not forget to define pi within the functions scope. Call the function for a cylinder with a height of 12 and a radius of 3.5"
   ]
  },
  {
   "cell_type": "code",
   "execution_count": 22,
   "metadata": {},
   "outputs": [
    {
     "data": {
      "text/plain": [
       "131.94678"
      ]
     },
     "execution_count": 22,
     "metadata": {},
     "output_type": "execute_result"
    }
   ],
   "source": [
    "def cylinder_vol(h, r,):\n",
    "    pi = 3.14159*r\n",
    "    return h*pi\n",
    "\n",
    "cylinder_vol(12, 3.5)"
   ]
  },
  {
   "cell_type": "markdown",
   "metadata": {},
   "source": [
    "Take the following 2 lists of actors and write a program that returns a list that contains only the elements that are common across both Thor 2 and Ragnarok (without duplicates) called both_casts"
   ]
  },
  {
   "cell_type": "code",
   "execution_count": 5,
   "metadata": {},
   "outputs": [],
   "source": [
    "thor2 = ['Chris Hemsworth', 'Natalie Portman', 'Tom Hiddleston', 'Kat Dennings', 'Anthony Hopkins', 'Jaimie Alexander', 'Idris Elba']\n",
    "               \n",
    "ragnarok = ['Chris Hemsworth', 'Tessa Thompson', 'Cate Blanchett', 'Tom Hiddleston', 'Mark Ruffalo', 'Jeff Goldblum', 'Karl Urban', 'Idris Elba', 'Anthony Hopkins']"
   ]
  },
  {
   "cell_type": "code",
   "execution_count": 28,
   "metadata": {},
   "outputs": [
    {
     "data": {
      "text/plain": [
       "['Tom Hiddleston', 'Idris Elba', 'Anthony Hopkins', 'Chris Hemsworth']"
      ]
     },
     "execution_count": 28,
     "metadata": {},
     "output_type": "execute_result"
    }
   ],
   "source": [
    "both_casts = list(set(thor2).intersection(ragnarok))\n",
    "both_casts"
   ]
  },
  {
   "cell_type": "markdown",
   "metadata": {},
   "source": [
    "The following is a dictionary of dictionaries and lists. Write one line of code that navigates through the dictionary and lists to return the height of Alex Heer.\n",
    "Hints\n",
    "Remember, you can access the items of a dictionary by referring to its key name, inside square brackets. Look up some dictionary methods.\n",
    "START SMALL, go layer by layer until you find what you are looking for.\n",
    "Read the error codes, know if you are accessing a list or a dictionary. This is a GREAT skill to have."
   ]
  },
  {
   "cell_type": "code",
   "execution_count": 19,
   "metadata": {},
   "outputs": [],
   "source": [
    "dictionary_of_dictionary = {\"school_roster\": {\n",
    "    \"in_session\": \"yes\",\n",
    "    \"Grade_2\": {\n",
    "        \"class_roster\": [\n",
    "            {\n",
    "            \"title\": \"Teacher\",\n",
    "            \"name\": \"Sierra Vogt\",\n",
    "            \"age\": 34,\n",
    "            \"height\": 182},\n",
    "            {\n",
    "            \"title\": \"Student\",\n",
    "            \"name\": \"Blake Cross\",\n",
    "            \"age\": 12,\n",
    "            \"height\": 106},\n",
    "            {\n",
    "            \"title\": \"Student\",\n",
    "            \"name\": \"Clint Phlibin\",\n",
    "            \"age\": 11,\n",
    "            \"height\": 120\n",
    "    }]},\n",
    "    \"Grade_3\": {\n",
    "        \"class_roster\": [\n",
    "            {\n",
    "            \"title\": \"Teacher\",\n",
    "            \"name\": \"Aly Davies\",\n",
    "            \"age\": 53,\n",
    "            \"height\": 162},\n",
    "            {\n",
    "            \"title\": \"Student\",\n",
    "            \"name\": \"Alex Heer\",\n",
    "            \"age\": 13,\n",
    "            \"height\": 100},\n",
    "            {\n",
    "            \"title\": \"Student\",\n",
    "            \"name\": \"Eric Yost\",\n",
    "            \"age\": 12,\n",
    "            \"height\": 113}\n",
    "            ]\n",
    "}}}"
   ]
  },
  {
   "cell_type": "code",
   "execution_count": 20,
   "metadata": {},
   "outputs": [
    {
     "data": {
      "text/plain": [
       "100"
      ]
     },
     "execution_count": 20,
     "metadata": {},
     "output_type": "execute_result"
    }
   ],
   "source": [
    "dictionary_of_dictionary['school_roster']['Grade_3']['class_roster'][1]['height']"
   ]
  },
  {
   "cell_type": "markdown",
   "metadata": {},
   "source": [
    "Using this JSON object (which you have previously seen), create a loop that will yeild the cumulative age of the school.\n",
    "BONUS: just find the cumulative age of students.\n",
    "Hint: You might be easier to create a list of grades to initial loop through grades = ['Grade_3', 'Grade_2']"
   ]
  },
  {
   "cell_type": "code",
   "execution_count": 53,
   "metadata": {},
   "outputs": [
    {
     "name": "stdout",
     "output_type": "stream",
     "text": [
      "sum age of school: 135\n",
      "sum age of students: 48\n"
     ]
    }
   ],
   "source": [
    "sum_age_of_school = 0 #assign variables for final answer\n",
    "sum_age_of_students = 0 #assign variable for final answer\n",
    "for grade in dictionary_of_dictionary['school_roster']: #for each grade dictionary within the overall dictionary:\n",
    "    #print(grade)\n",
    "    if 'Grade' in grade: #if the dictionary name contains \"Grade\"\n",
    "        for person in dictionary_of_dictionary['school_roster'][grade]['class_roster']: #then run for loop through each person in the \"class_roster\" list \n",
    "            #print(person)\n",
    "            sum_age_of_school += person['age'] #sum age of all people in school to the assigned variable 'sum_age_of_school'\n",
    "            if person['title'] == 'Student': #if the 'title' of the person is 'student'\n",
    "                sum_age_of_students += person['age'] #then sum the age of all 'student' to the assigned variable 'sum_age_of_students'\n",
    "print('sum age of school: {}'.format(sum_age_of_school)) #print sum_age_of_school\n",
    "print('sum age of students: {}'.format(sum_age_of_students)) #print sum_age_of_students"
   ]
  },
  {
   "cell_type": "code",
   "execution_count": null,
   "metadata": {},
   "outputs": [],
   "source": []
  },
  {
   "cell_type": "markdown",
   "metadata": {},
   "source": [
    "The task this morning is to query an API to get the lyrics to some of your favorite music. The goal is to make a for loop that will print out the lyrics.\n",
    "First, look at the documentation for the Lyrics.ovh API. Take a second to understand what you can get from this API and how it wants to be called. https://lyricsovh.docs.apiary.io/#\n",
    "Now set a variable artist to your favorite artist. Make this a string.\n",
    "Next make a list of strings, called songs, containing three titles from the artist.\n",
    "Finally import requests library and using the .get() method, loop through the list of songs you created and print out the lyrics.\n",
    "If you are unsure how to format your loop properly, check out the links below."
   ]
  },
  {
   "cell_type": "code",
   "execution_count": 54,
   "metadata": {},
   "outputs": [],
   "source": [
    "import requests\n",
    "import json\n"
   ]
  },
  {
   "cell_type": "code",
   "execution_count": 95,
   "metadata": {},
   "outputs": [
    {
     "name": "stdout",
     "output_type": "stream",
     "text": [
      "\n",
      "Lyrics: I Will Wait \n",
      "\n",
      "Well, I came home\n",
      "Like a stone\n",
      "And I fell heavy into your arms\n",
      "These days of dust\n",
      "Which we've known\n",
      "Will blow away with this new sun\n",
      "\n",
      "But I'll kneel down\n",
      "Wait for now\n",
      "And I'll kneel down\n",
      "Know my ground\n",
      "\n",
      "And I will wait, I will wait for you\n",
      "And I will wait, I will wait for you\n",
      "\n",
      "So break my step\n",
      "And relent\n",
      "Well, you forgave and I won't forget\n",
      "Know what we've seen\n",
      "And him with less\n",
      "Now in some way shake the excess\n",
      "\n",
      "'Cause I will wait, I will wait for you\n",
      "And I will wait, I will wait for you\n",
      "And I will wait, I will wait for you\n",
      "And I will wait, I will wait for you\n",
      "\n",
      "Now I'll be bold\n",
      "As well as strong\n",
      "And use my head alongside my heart\n",
      "So tame my flesh\n",
      "And fix my eyes\n",
      "A tethered mind freed from the lies\n",
      "\n",
      "And I'll kneel down\n",
      "Wait for now\n",
      "I'll kneel down\n",
      "Know my ground, woo\n",
      "\n",
      "We'll raise my hands\n",
      "Paint my spirit gold\n",
      "And bow my head\n",
      "Keep my heart slow\n",
      "\n",
      "'Cause I will wait, I will wait for you\n",
      "And I will wait, I will wait for you\n",
      "And I will wait, I will wait for you\n",
      "And I will wait, I will wait for you\n",
      "\n",
      "Lyrics: The Cave \n",
      "\n",
      "It's empty in the valley of your heart\n",
      "The sun, it rises slowly as you walk\n",
      "Away from all the fears\n",
      "And all the faults you've left behind\n",
      "\n",
      "The harvest left no food for you to eat\n",
      "You cannibal, you meat-eater, you see\n",
      "But I have seen the same\n",
      "I know the shame in your defeat\n",
      "\n",
      "But I will hold on hope\n",
      "And I won't let you choke\n",
      "On the noose around your neck\n",
      "And I'll find strength in pain\n",
      "And I will change my ways\n",
      "I'll know my name as it's called again\n",
      "\n",
      "'Cause I have other things to fill my time\n",
      "You take what is yours and I'll take mine\n",
      "Now let me at the truth\n",
      "Which will refresh my broken mind\n",
      "\n",
      "So tie me to a post and block my ears\n",
      "I can see widows and orphans through my tears\n",
      "I know my call despite my faults\n",
      "And despite my growing fears\n",
      "\n",
      "And I will hold on hope\n",
      "And I won't let you choke\n",
      "On the noose around your neck\n",
      "And I'll find strength in pain\n",
      "And I will change my ways\n",
      "I'll know my name as it's called again\n",
      "\n",
      "So come out of your cave walking on your hands\n",
      "And see the world hanging upside down\n",
      "You can understand dependence\n",
      "When you know the maker's land\n",
      "\n",
      "So make your siren's call\n",
      "And sing all you want\n",
      "I will not hear what you have to say\n",
      "'Cause I need freedom now\n",
      "And I need to know how\n",
      "To live my life as it's meant to be\n",
      "\n",
      "And I will hold on hope\n",
      "And I won't let you choke\n",
      "On the noose around your neck\n",
      "And I'll find strength in pain\n",
      "And I will change my ways\n",
      "I'll know my name as it's called again\n",
      "\n",
      "Lyrics: Little Lion Man \n",
      "\n",
      "Weep for yourself, my man\n",
      "You'll never be what is in your heart\n",
      "Weep little lion man\n",
      "You're not as brave as you were at the start\n",
      "\n",
      "Rate yourself and rake yourself\n",
      "Take all the courage you have left\n",
      "Waste it on fixing all the problems\n",
      "That you made in your own head\n",
      "\n",
      "But it was not your fault but mine\n",
      "And it was your heart on the line\n",
      "I really fucked it up this time\n",
      "Didn't I my dear?\n",
      "Didn't I my...\n",
      "\n",
      "Tremble for yourself, my man\n",
      "You know that you have seen this all before\n",
      "Tremble little lion man\n",
      "You'll never settle any of your scores\n",
      "\n",
      "Your grace is wasted in your face\n",
      "Your boldness stands alone among the wreck\n",
      "Now learn from your mother or else\n",
      "Spend your days biting your own neck\n",
      "\n",
      "But it was not your fault but mine\n",
      "And it was your heart on the line\n",
      "I really fucked it up this time\n",
      "Didn't I my dear?\n",
      "\n",
      "But it was not your fault but mine\n",
      "And it was your heart on the line\n",
      "I really fucked it up this time\n",
      "Didn't I my dear?\n",
      "Didn't I my dear?\n",
      "\n",
      "Ahh\n",
      "Ahh\n",
      "Ha\n",
      "Ha\n",
      "Ha\n",
      "Ha\n",
      "\n",
      "But it was not your fault but mine\n",
      "And it was your heart on the line\n",
      "I really fucked it up this time\n",
      "Didn't I my dear?\n",
      "\n",
      "But it was not your fault but mine\n",
      "And it was your heart on the line\n",
      "I really fucked it up this time\n",
      "Didn't I my dear?\n",
      "Didn't I my dear?\n"
     ]
    }
   ],
   "source": [
    "artist = 'Mumford and Sons'\n",
    "songs = ['I Will Wait', 'The Cave', 'Little Lion Man']\n",
    "\n",
    "import requests\n",
    "#import requests library\n",
    "for song in songs:\n",
    "    #get the song by the artist you select from the API - use f-string interpolation and .replace() method to provide \"%20\" for every \"space\" that is put into the URL. (This is the website's convention)\n",
    "    lyrics = requests.get(f\"https://api.lyrics.ovh/v1/{artist}/{song.replace(' ', '%20')}\")\n",
    "    #name of the song being returned\n",
    "    print(f'\\nLyrics: {song} \\n') \n",
    "    #lyrics of the song being returned\n",
    "    print(lyrics.json()['lyrics']) "
   ]
  },
  {
   "cell_type": "markdown",
   "metadata": {},
   "source": []
  },
  {
   "cell_type": "code",
   "execution_count": null,
   "metadata": {},
   "outputs": [],
   "source": []
  }
 ],
 "metadata": {
  "kernelspec": {
   "display_name": "Python 3",
   "language": "python",
   "name": "python3"
  },
  "language_info": {
   "codemirror_mode": {
    "name": "ipython",
    "version": 3
   },
   "file_extension": ".py",
   "mimetype": "text/x-python",
   "name": "python",
   "nbconvert_exporter": "python",
   "pygments_lexer": "ipython3",
   "version": "3.7.3"
  }
 },
 "nbformat": 4,
 "nbformat_minor": 2
}
